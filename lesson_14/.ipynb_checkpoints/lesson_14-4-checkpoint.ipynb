{
 "cells": [
  {
   "cell_type": "markdown",
   "id": "social-clothing",
   "metadata": {},
   "source": [
    "<h4>Ejercicios de clases</h4>\n",
    "<hr>\n",
    "<h4>Taxi</h4>\n",
    "<p>\n",
    "Crear una clase Taxi, que herede de la clase  Vehículo, y que pueda cobrarnos un servicio.  Tiene que tener un atributo \"distancia_recorrida\", y tres métodos más: \n",
    "</p>\n",
    "<ol>\n",
    "    <li>\n",
    "        Método \"cobrar\", donde se imprime la cantidad a cobrar (10 pesos por kilómetro recorrido).\n",
    "    </li>\n",
    "    <li>\n",
    "        Método \"añadir_distancia\", donde se suma a la distancia recorrida un número de kilómetros. \n",
    "    </li>\n",
    "    <li>\n",
    "        Método \"añadir_tiempo\", donde dado un tiempo (en minutos) se añade distancia en función de la velocidad actual.\n",
    "    </li>\n",
    "</ol>\n",
    "<center>\n",
    "<img src=\"https://upload.wikimedia.org/wikipedia/commons/c/c8/Taxi_Ciudad_de_Mexico_2014.jpg\" width = \"300\">\n",
    "</center>"
   ]
  },
  {
   "cell_type": "code",
   "execution_count": null,
   "id": "fifteen-maria",
   "metadata": {},
   "outputs": [],
   "source": [
    "#Clase Vehiculo clase genérica \n"
   ]
  },
  {
   "cell_type": "code",
   "execution_count": null,
   "id": "agreed-implementation",
   "metadata": {},
   "outputs": [],
   "source": [
    "#creamos la clase Taxi \n"
   ]
  },
  {
   "cell_type": "code",
   "execution_count": null,
   "id": "significant-company",
   "metadata": {},
   "outputs": [],
   "source": [
    "#testeo de clase Taxi \n",
    "#crear objeto taxi \n"
   ]
  },
  {
   "cell_type": "code",
   "execution_count": null,
   "id": "ordered-sample",
   "metadata": {},
   "outputs": [],
   "source": [
    "#comenzamos servicio \n"
   ]
  },
  {
   "cell_type": "markdown",
   "id": "dependent-orlando",
   "metadata": {},
   "source": [
    "<hr>\n",
    "<h4>Estacionamiento</h4>\n",
    "<hr>\n",
    "<p>\n",
    "Crear una clase estacionamiento, donde puedan estacionar un límite determinado de Vehículos(solo de la clase Vehiculos), debe tener dos métodos, uno estacionar vehículo y otro sacar vehiculo. Tienes que verificar si el estacionamiento está lleno y si lo esta ya no puede estacionar el vehículo.\n",
    "</p>\n",
    "<center>\n",
    "<img src=\"https://blog.nexoinmobiliario.pe/wp-content/uploads/2019/10/asei-ventajas-comprar-departamento-estacionamiento.jpg\" width=\"300\">\n",
    "</center>"
   ]
  },
  {
   "cell_type": "code",
   "execution_count": null,
   "id": "hybrid-yield",
   "metadata": {},
   "outputs": [],
   "source": [
    "#clase estacionamiento\n"
   ]
  },
  {
   "cell_type": "code",
   "execution_count": null,
   "id": "collected-basics",
   "metadata": {},
   "outputs": [],
   "source": [
    "#creamos los objetos de prueba\n",
    "\n",
    "#estacionamiento de prueba\n"
   ]
  },
  {
   "cell_type": "code",
   "execution_count": null,
   "id": "respiratory-tuning",
   "metadata": {},
   "outputs": [],
   "source": [
    "#estacionar algunos vehículos \n"
   ]
  },
  {
   "cell_type": "code",
   "execution_count": null,
   "id": "constant-hughes",
   "metadata": {},
   "outputs": [],
   "source": [
    "#estacionar un taxi\n"
   ]
  },
  {
   "cell_type": "code",
   "execution_count": null,
   "id": "brave-election",
   "metadata": {},
   "outputs": [],
   "source": [
    "#checar estacionamiento\n"
   ]
  },
  {
   "cell_type": "code",
   "execution_count": null,
   "id": "subject-sterling",
   "metadata": {},
   "outputs": [],
   "source": [
    "#estacionar mas vehiculos \n"
   ]
  },
  {
   "cell_type": "code",
   "execution_count": null,
   "id": "horizontal-exploration",
   "metadata": {},
   "outputs": [],
   "source": [
    "#checar estacionamiento\n"
   ]
  },
  {
   "cell_type": "markdown",
   "id": "monthly-newfoundland",
   "metadata": {},
   "source": [
    "<h4>Ejercicios de clases</h4>\n",
    "<hr>\n",
    "<h4>Taxi</h4>\n",
    "<p>\n",
    "Crear una clase Taxi, que herede de la clase  Vehículo, y que pueda cobrarnos un servicio.  Tiene que tener un atributo \"distancia_recorrida\", y tres métodos más: \n",
    "</p>\n",
    "<ol>\n",
    "    <li>\n",
    "        Método \"cobrar\", donde se imprime la cantidad a cobrar (10 pesos por kilómetro recorrido).\n",
    "    </li>\n",
    "    <li>\n",
    "        Método \"añadir_distancia\", donde se suma a la distancia recorrida un número de kilómetros. \n",
    "    </li>\n",
    "    <li>\n",
    "        Método \"añadir_tiempo\", donde dado un tiempo (en minutos) se añade distancia en función de la velocidad actual.\n",
    "    </li>\n",
    "</ol>\n",
    "<center>\n",
    "<img src=\"https://upload.wikimedia.org/wikipedia/commons/c/c8/Taxi_Ciudad_de_Mexico_2014.jpg\" width = \"300\">\n",
    "</center>"
   ]
  },
  {
   "cell_type": "code",
   "execution_count": 1,
   "id": "peaceful-verification",
   "metadata": {},
   "outputs": [],
   "source": [
    "#Clase Vehiculo clase genérica \n",
    "class Vehiculo:\n",
    "    \n",
    "    def __init__(self, modelo,velocidad_maxima,color,tipo=\"carro\"):\n",
    "        self.color = color\n",
    "        self.modelo = modelo\n",
    "        self.velocidad_maxima = velocidad_maxima\n",
    "        self.tipo = tipo\n",
    "        self.velocidad = 0\n",
    "        \n",
    "    def describir(self):\n",
    "        return f'Modelo : {self.modelo}, Color: {self.color}, Velocidad máxima: {self.velocidad_maxima}'\n",
    "    \n",
    "    def __repr__(self):\n",
    "        return self.describir()\n",
    "    \n",
    "    def estado(self):\n",
    "        if self.velocidad == 0:\n",
    "            print(f\"El {self.tipo} esta detenido.\")\n",
    "        elif self.velocidad>0:\n",
    "            print(f'El {self.tipo} va a {self.velocidad} km/h')\n",
    "        else:\n",
    "            print(f'El {self.tipo} va a {self.velocidad} km/h en reversa')\n",
    "    \n",
    "    def girar_izquierda(self):\n",
    "        print('Giro a la izquierda')\n",
    "    \n",
    "    def girar_derecha(self):\n",
    "        print('Giro a la derecha')\n",
    "    \n",
    "    def acelerar(self,incremento_velocidad):\n",
    "        print(f'Acelerando {incremento_velocidad} km/h')\n",
    "        self.velocidad += abs(incremento_velocidad)\n",
    "        self.velocidad = min(self.velocidad,self.velocidad_maxima)\n",
    "        \n",
    "    def frenar(self,decremento_velocidad):\n",
    "        print(f'Desacelerando {decremento_velocidad} km/h')\n",
    "        self.velocidad -= abs(decremento_velocidad)\n",
    "        #velocidad máxima en reversa de 20 km \n",
    "        self.velocidad = max(self.velocidad,-20)"
   ]
  },
  {
   "cell_type": "code",
   "execution_count": 2,
   "id": "thrown-carolina",
   "metadata": {},
   "outputs": [],
   "source": [
    "#creamos la clase Taxi \n",
    "class Taxi(Vehiculo):\n",
    "    def __init__(self,modelo,velocidad_maxima):\n",
    "        super().__init__(modelo = modelo, velocidad_maxima = velocidad_maxima,color=\"rosa\",tipo=\"Taxi\")\n",
    "        self.tarifa = 10.0\n",
    "        self.distancia_recorrida = 0.0\n",
    "        self.cobro = 0.0 \n",
    "\n",
    "    def cobrar(self):\n",
    "        self.distancia_recorrida = round(self.distancia_recorrida, 2)\n",
    "        self.cobro = self.tarifa * self.distancia_recorrida\n",
    "        self.cobro = round(self.cobro,2)\n",
    "        print(f'Su cobro es de ${self.cobro} pesos por {self.distancia_recorrida} km')\n",
    "    \n",
    "    def añadir_distancia(self,distancia):\n",
    "        self.distancia_recorrida += distancia\n",
    "    \n",
    "    def añadir_tiempo(self,tiempo):\n",
    "        horas = tiempo/60\n",
    "        distancia = horas * self.velocidad\n",
    "        self.añadir_distancia(distancia)\n",
    "    "
   ]
  },
  {
   "cell_type": "code",
   "execution_count": 3,
   "id": "controversial-circulation",
   "metadata": {},
   "outputs": [
    {
     "name": "stdout",
     "output_type": "stream",
     "text": [
      "Modelo : Tsuru, Color: rosa, Velocidad máxima: 80\n",
      "El Taxi esta detenido.\n"
     ]
    }
   ],
   "source": [
    "#testeo de clase Taxi \n",
    "#crear objeto taxi \n",
    "taxi = Taxi(modelo=\"Tsuru\",velocidad_maxima = 80)\n",
    "print(taxi)\n",
    "taxi.estado()"
   ]
  },
  {
   "cell_type": "code",
   "execution_count": 4,
   "id": "aboriginal-clark",
   "metadata": {},
   "outputs": [
    {
     "name": "stdout",
     "output_type": "stream",
     "text": [
      "Acelerando 70 km/h\n",
      "Desacelerando 70 km/h\n",
      "El Taxi esta detenido.\n",
      "Su cobro es de $408.3 pesos por 40.83 km\n"
     ]
    }
   ],
   "source": [
    "#comenzamos servicio \n",
    "taxi.acelerar(70)\n",
    "taxi.añadir_tiempo(20)\n",
    "taxi.añadir_tiempo(10)\n",
    "taxi.añadir_tiempo(5)\n",
    "taxi.frenar(70)\n",
    "taxi.estado()\n",
    "taxi.cobrar()"
   ]
  },
  {
   "cell_type": "markdown",
   "id": "alien-lottery",
   "metadata": {},
   "source": [
    "<hr>\n",
    "<h4>Estacionamiento</h4>\n",
    "<hr>\n",
    "<p>\n",
    "Crear una clase estacionamiento, donde puedan estacionar un límite determinado de Vehículos(solo de la clase Vehiculos), debe tener dos métodos, uno estacionar vehículo y otro sacar vehiculo. Tienes que verificar si el estacionamiento está lleno y si lo esta ya no puede estacionar el vehículo.\n",
    "</p>\n",
    "<center>\n",
    "<img src=\"https://blog.nexoinmobiliario.pe/wp-content/uploads/2019/10/asei-ventajas-comprar-departamento-estacionamiento.jpg\" width=\"300\">\n",
    "</center>"
   ]
  },
  {
   "cell_type": "code",
   "execution_count": 5,
   "id": "growing-snapshot",
   "metadata": {},
   "outputs": [],
   "source": [
    "#clase estacionamiento\n",
    "class Estacionamiento:\n",
    "    \n",
    "    def __init__(self, maxima_capacidad):\n",
    "        self.maxima_capacidad = maxima_capacidad\n",
    "        self.vehiculos = []\n",
    "    \n",
    "    def __repr__(self):\n",
    "        porcentaje = len(self.vehiculos) / self.maxima_capacidad * 100\n",
    "        porcentaje = round(porcentaje,2)\n",
    "        return f'Estacionamiento con capacidad para {self.maxima_capacidad}, ocupación actual {porcentaje}%.'\n",
    "    \n",
    "    def estacionar_vehiculo(self,vehiculo):\n",
    "        if not type(vehiculo) == Vehiculo:\n",
    "            print('Esto no es un vehículo, no se puede estacionar.')\n",
    "        elif vehiculo in self.vehiculos:\n",
    "            print('El vehículo ya está dentro del estacionamiento.')\n",
    "        elif len(self.vehiculos) >= self.maxima_capacidad:\n",
    "            print('El estacionamiento está lleno no puede estacionarse.')\n",
    "        else:\n",
    "            self.vehiculos.append(vehiculo)\n",
    "            print(f'Su vehículo {vehiculo} ha sido estacionado.')\n",
    "    \n",
    "    def sacar_vehiculo(self,vehiculo):\n",
    "        if vehiculo in self.vehiculos:\n",
    "            print(f'Sacando el vehículo {self.vehiculo}')\n",
    "            index = self.vehiculos.index(vehiculo)\n",
    "            self.vehiculos.pop(index)\n",
    "        else:\n",
    "            print(f'Su vehículo {vehículo} no está  estacionado aquí.')"
   ]
  },
  {
   "cell_type": "code",
   "execution_count": 6,
   "id": "killing-aspect",
   "metadata": {},
   "outputs": [
    {
     "name": "stdout",
     "output_type": "stream",
     "text": [
      "Estacionamiento con capacidad para 3, ocupación actual 0.0%.\n"
     ]
    }
   ],
   "source": [
    "#creamos los objetos de prueba\n",
    "Tesla = Vehiculo(modelo=\"Model 3\",velocidad_maxima = 150,color=\"rojo\")\n",
    "Audi = Vehiculo(modelo=\"A3\",velocidad_maxima = 120,color=\"azul\")\n",
    "taxi = Taxi(modelo=\"Tsuru\",velocidad_maxima = 80)\n",
    "#estacionamiento de prueba\n",
    "estacionamiento = Estacionamiento(3)\n",
    "print(estacionamiento)"
   ]
  },
  {
   "cell_type": "code",
   "execution_count": 7,
   "id": "driving-climb",
   "metadata": {},
   "outputs": [
    {
     "name": "stdout",
     "output_type": "stream",
     "text": [
      "Su vehículo Modelo : Model 3, Color: rojo, Velocidad máxima: 150 ha sido estacionado.\n",
      "Su vehículo Modelo : A3, Color: azul, Velocidad máxima: 120 ha sido estacionado.\n"
     ]
    }
   ],
   "source": [
    "#estacionar algunos vehículos \n",
    "estacionamiento.estacionar_vehiculo(Tesla)\n",
    "estacionamiento.estacionar_vehiculo(Audi)"
   ]
  },
  {
   "cell_type": "code",
   "execution_count": 8,
   "id": "frequent-monte",
   "metadata": {},
   "outputs": [
    {
     "name": "stdout",
     "output_type": "stream",
     "text": [
      "Esto no es un vehículo, no se puede estacionar.\n"
     ]
    }
   ],
   "source": [
    "#estacionar un taxi\n",
    "estacionamiento.estacionar_vehiculo(taxi)"
   ]
  },
  {
   "cell_type": "code",
   "execution_count": 9,
   "id": "changed-violence",
   "metadata": {},
   "outputs": [
    {
     "name": "stdout",
     "output_type": "stream",
     "text": [
      "Estacionamiento con capacidad para 3, ocupación actual 66.67%.\n"
     ]
    }
   ],
   "source": [
    "#checar estacionamiento\n",
    "print(estacionamiento)"
   ]
  },
  {
   "cell_type": "code",
   "execution_count": 10,
   "id": "color-decline",
   "metadata": {},
   "outputs": [
    {
     "name": "stdout",
     "output_type": "stream",
     "text": [
      "Su vehículo Modelo : Model 3, Color: rojo, Velocidad máxima: 150 ha sido estacionado.\n",
      "El estacionamiento está lleno no puede estacionarse.\n"
     ]
    }
   ],
   "source": [
    "#estacionar mas vehiculos \n",
    "Tesla2 = Vehiculo(modelo=\"Model 3\",velocidad_maxima = 150,color=\"rojo\")\n",
    "Audi2 = Vehiculo(modelo=\"A3\",velocidad_maxima = 120,color=\"azul\")\n",
    "estacionamiento.estacionar_vehiculo(Tesla2)\n",
    "estacionamiento.estacionar_vehiculo(Audi2)"
   ]
  },
  {
   "cell_type": "code",
   "execution_count": 11,
   "id": "visible-visitor",
   "metadata": {},
   "outputs": [
    {
     "name": "stdout",
     "output_type": "stream",
     "text": [
      "Estacionamiento con capacidad para 3, ocupación actual 100.0%.\n"
     ]
    }
   ],
   "source": [
    "#checar estacionamiento\n",
    "print(estacionamiento)"
   ]
  }
 ],
 "metadata": {
  "kernelspec": {
   "display_name": "Python 3",
   "language": "python",
   "name": "python3"
  },
  "language_info": {
   "codemirror_mode": {
    "name": "ipython",
    "version": 3
   },
   "file_extension": ".py",
   "mimetype": "text/x-python",
   "name": "python",
   "nbconvert_exporter": "python",
   "pygments_lexer": "ipython3",
   "version": "3.8.5"
  }
 },
 "nbformat": 4,
 "nbformat_minor": 5
}
