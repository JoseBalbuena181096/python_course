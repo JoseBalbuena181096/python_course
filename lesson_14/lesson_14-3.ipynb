{
 "cells": [
  {
   "cell_type": "markdown",
   "id": "substantial-retirement",
   "metadata": {},
   "source": [
    "<h4>¿Cómo crear nuestras propias clases? (plantillas de objetos)</h4>\n",
    "<p>\n",
    "Las clases en python 3 se definen de la siguiente forma:\n",
    "</p>\n",
    "<p>\n",
    "    <p>class Clase:</p>\n",
    "    <p>def metodo1(self): -->Todos los metodos de la Clase toman como primer argumento 'self'</p>\n",
    "    <p>#método que tienen los atributos de la clase</p>\n",
    "    <p>def metodo2(self):</p>\n",
    "    <p>#otro método que tienen los objetos de la clase</p>\n",
    "</p>"
   ]
  },
  {
   "cell_type": "code",
   "execution_count": null,
   "id": "passing-adelaide",
   "metadata": {},
   "outputs": [],
   "source": [
    "#Crear la clase Carro \n"
   ]
  },
  {
   "cell_type": "code",
   "execution_count": null,
   "id": "reduced-remark",
   "metadata": {},
   "outputs": [],
   "source": [
    "#instanciamos Carro\n"
   ]
  },
  {
   "cell_type": "code",
   "execution_count": null,
   "id": "defined-samba",
   "metadata": {},
   "outputs": [],
   "source": [
    "#tipo de dato carro\n"
   ]
  },
  {
   "cell_type": "markdown",
   "id": "paperback-temple",
   "metadata": {},
   "source": [
    "Los métodos al igual que las funciones reciben argumentos. En python 3 el método \\__init__ el cual es llamado cuando se instancia un objeto de la clase utilizada. Este método es llamado constructor porque es el que construye un objeto de la clase solicitada con las características que necesitemos. "
   ]
  },
  {
   "cell_type": "code",
   "execution_count": 63,
   "id": "unable-generator",
   "metadata": {},
   "outputs": [],
   "source": [
    "#Clase Carro con método constructor \n"
   ]
  },
  {
   "cell_type": "code",
   "execution_count": null,
   "id": "loved-category",
   "metadata": {},
   "outputs": [],
   "source": [
    "#podemos crear un objeto carro con las características que deseemos \n"
   ]
  },
  {
   "cell_type": "code",
   "execution_count": null,
   "id": "breeding-joint",
   "metadata": {},
   "outputs": [],
   "source": [
    "#podemos modificar el atributo velocidad de nuestro carro \n"
   ]
  },
  {
   "cell_type": "markdown",
   "id": "photographic-lindsay",
   "metadata": {},
   "source": [
    "En python tenemos el método \\__repr__ el cual se  usa cuando queremos presentar algo con el método print. \n",
    "Ahora vamos a crear una clase  más completa, llamada vehículo la cual tendrá los métodos  acelerar y frenar para su uso. "
   ]
  },
  {
   "cell_type": "code",
   "execution_count": null,
   "id": "liberal-locking",
   "metadata": {},
   "outputs": [],
   "source": [
    "#Clase Vehiculo clase genérica \n"
   ]
  },
  {
   "cell_type": "code",
   "execution_count": null,
   "id": "overhead-sunrise",
   "metadata": {},
   "outputs": [],
   "source": [
    "#crear objeto de vehículo y ver el estado del vehículo \n"
   ]
  },
  {
   "cell_type": "code",
   "execution_count": null,
   "id": "complicated-blues",
   "metadata": {},
   "outputs": [],
   "source": [
    "#acelerar y ver el estado del vehículo \n"
   ]
  },
  {
   "cell_type": "code",
   "execution_count": null,
   "id": "apart-metro",
   "metadata": {},
   "outputs": [],
   "source": [
    "#frenar y ver el estado del vehículo \n"
   ]
  },
  {
   "cell_type": "code",
   "execution_count": null,
   "id": "skilled-mountain",
   "metadata": {},
   "outputs": [],
   "source": [
    "#acelerar y ver el estado del vehículo \n"
   ]
  },
  {
   "cell_type": "markdown",
   "id": "involved-gibraltar",
   "metadata": {},
   "source": [
    "<h4>Herencia </h4>\n",
    "<p>\n",
    "Una de las ventajas de las clases, es que se pueden crear clases a partir de otras clases. Se puede decir que una clase hereda de otra. \n",
    "Esta característica nos permite crear clases más genéricas e ir creando clases más específicas como sea necesario. \n",
    "</p>\n",
    "<p>\n",
    "Ejemplo a partir de la clase vehiculo crear la clase Autobus el cual no puede ir en reversa y tiene una velocidad máxima de 60 km/h.\n",
    "</p>"
   ]
  },
  {
   "cell_type": "code",
   "execution_count": null,
   "id": "owned-intranet",
   "metadata": {},
   "outputs": [],
   "source": [
    "#herencia simple \n"
   ]
  },
  {
   "cell_type": "code",
   "execution_count": null,
   "id": "green-effort",
   "metadata": {},
   "outputs": [],
   "source": [
    "#crear objeto autobus y ver estado \n"
   ]
  },
  {
   "cell_type": "code",
   "execution_count": null,
   "id": "exact-reservoir",
   "metadata": {},
   "outputs": [],
   "source": [
    "#acelerar y ver el estado del autobus\n"
   ]
  },
  {
   "cell_type": "code",
   "execution_count": null,
   "id": "temporal-password",
   "metadata": {},
   "outputs": [],
   "source": [
    "#frenar y ver el estado del autobus\n"
   ]
  },
  {
   "cell_type": "markdown",
   "id": "lesser-gospel",
   "metadata": {},
   "source": [
    "<h4>¿Cómo crear nuestras propias clases? (plantillas de objetos)</h4>\n",
    "<p>\n",
    "Las clases en python 3 se definen de la siguiente forma:\n",
    "</p>\n",
    "<p>\n",
    "    <p>class Clase:</p>\n",
    "    <p>def metodo1(self): -->Todos los metodos de la Clase toman como primer argumento 'self'</p>\n",
    "    <p>#método que tienen los atributos de la clase</p>\n",
    "    <p>def metodo2(self):</p>\n",
    "    <p>#otro método que tienen los objetos de la clase</p>\n",
    "</p>"
   ]
  },
  {
   "cell_type": "code",
   "execution_count": 1,
   "id": "baking-serum",
   "metadata": {},
   "outputs": [
    {
     "name": "stdout",
     "output_type": "stream",
     "text": [
      "<class '__main__.Carro'>\n"
     ]
    }
   ],
   "source": [
    "#Crear la clase Carro \n",
    "class Carro:\n",
    "    def girar_izquierda(self):\n",
    "        print('Giro a la izquierda')\n",
    "    def girar_derecha(self):\n",
    "        print('Giro a la derecha')\n",
    "    def acelerar(self):\n",
    "        #aún no aceleramos\n",
    "        pass\n",
    "    def frenar(self):\n",
    "        #aún no frenamos\n",
    "        pass\n",
    "print(Carro)"
   ]
  },
  {
   "cell_type": "code",
   "execution_count": 2,
   "id": "boring-surname",
   "metadata": {},
   "outputs": [
    {
     "name": "stdout",
     "output_type": "stream",
     "text": [
      "<__main__.Carro object at 0x7f39488ab4f0>\n"
     ]
    }
   ],
   "source": [
    "#instanciamos Carro\n",
    "carro = Carro()\n",
    "print(carro)"
   ]
  },
  {
   "cell_type": "code",
   "execution_count": 3,
   "id": "backed-reader",
   "metadata": {},
   "outputs": [
    {
     "name": "stdout",
     "output_type": "stream",
     "text": [
      "True\n"
     ]
    }
   ],
   "source": [
    "#tipo de dato Carro\n",
    "print(type(carro) == Carro)"
   ]
  },
  {
   "cell_type": "markdown",
   "id": "liberal-billy",
   "metadata": {},
   "source": [
    "Los métodos al igual que las funciones reciben argumentos. En python 3 el método \\__init__ el cual es llamado cuando se instancia un objeto de la clase utilizada. Este método es llamado constructor porque es el que construye un objeto de la clase solicitada con las características que necesitemos. "
   ]
  },
  {
   "cell_type": "code",
   "execution_count": 4,
   "id": "north-recruitment",
   "metadata": {},
   "outputs": [],
   "source": [
    "#Clase Carro con método constructor \n",
    "class Carro:\n",
    "    \n",
    "    def __init__(self, modelo,velocidad_maxima,color):\n",
    "        self.color = color\n",
    "        self.modelo = modelo\n",
    "        self.velocidad_maxima = velocidad_maxima\n",
    "        self.velocidad = 0\n",
    "        \n",
    "    def describir(self):\n",
    "        print(f'Modelo : {self.modelo}, Color: {self.color}, Velocidad máxima: {self.velocidad_maxima}')\n",
    "    \n",
    "    def estado(self):\n",
    "        if self.velocidad == 0:\n",
    "            print(\"El carro esta detenido.\")\n",
    "        else:\n",
    "            print(f'El carro va a {self.velocidad} km/h')\n",
    "    \n",
    "    def girar_izquierda(self):\n",
    "        print('Giro a la izquierda')\n",
    "    \n",
    "    def girar_derecha(self):\n",
    "        print('Giro a la derecha')\n",
    "    \n",
    "    def acelerar(self):\n",
    "        #aún no aceleramos\n",
    "        pass\n",
    "    \n",
    "    def frenar(self):\n",
    "        #aún no frenamos\n",
    "        pass"
   ]
  },
  {
   "cell_type": "code",
   "execution_count": 5,
   "id": "narrative-stephen",
   "metadata": {},
   "outputs": [
    {
     "name": "stdout",
     "output_type": "stream",
     "text": [
      "Modelo : Tesla, Color: Negro, Velocidad máxima: 250\n",
      "El carro esta detenido.\n"
     ]
    }
   ],
   "source": [
    "#podemos crear un objeto carro con las características que deseemos \n",
    "carro = Carro(modelo = 'Tesla',color = 'Negro',velocidad_maxima = 250)\n",
    "carro.describir()\n",
    "carro.estado()"
   ]
  },
  {
   "cell_type": "code",
   "execution_count": 6,
   "id": "ambient-synthesis",
   "metadata": {},
   "outputs": [
    {
     "name": "stdout",
     "output_type": "stream",
     "text": [
      "El carro va a 100 km/h\n"
     ]
    }
   ],
   "source": [
    "#podemos modificar el atributo velocidad de nuestro carro \n",
    "carro.velocidad = 100\n",
    "carro.estado()"
   ]
  },
  {
   "cell_type": "markdown",
   "id": "metropolitan-principle",
   "metadata": {},
   "source": [
    "En python tenemos el método \\__repr__ el cual se  usa cuando queremos presentar algo con el método print. \n",
    "Ahora vamos a crear una clase  más completa, llamada vehículo la cual tendrá los métodos  acelerar y frenar para su uso. "
   ]
  },
  {
   "cell_type": "code",
   "execution_count": 7,
   "id": "available-costa",
   "metadata": {},
   "outputs": [],
   "source": [
    "#Clase Vehiculo clase genérica \n",
    "class Vehiculo:\n",
    "    \n",
    "    def __init__(self, modelo,velocidad_maxima,color,tipo):\n",
    "        self.color = color\n",
    "        self.modelo = modelo\n",
    "        self.velocidad_maxima = velocidad_maxima\n",
    "        self.tipo = tipo\n",
    "        self.velocidad = 0\n",
    "        \n",
    "    def describir(self):\n",
    "        return f'Modelo : {self.modelo}, Color: {self.color}, Velocidad máxima: {self.velocidad_maxima}'\n",
    "    \n",
    "    def __repr__(self):\n",
    "        return self.describir()\n",
    "    \n",
    "    def estado(self):\n",
    "        if self.velocidad == 0:\n",
    "            print(f\"El {self.tipo} esta detenido.\")\n",
    "        elif self.velocidad>0:\n",
    "            print(f'El {self.tipo} va a {self.velocidad} km/h')\n",
    "        else:\n",
    "            print(f'El {self.tipo} va a {self.velocidad} km/h en reversa')\n",
    "    \n",
    "    def girar_izquierda(self):\n",
    "        print('Giro a la izquierda')\n",
    "    \n",
    "    def girar_derecha(self):\n",
    "        print('Giro a la derecha')\n",
    "    \n",
    "    def acelerar(self,incremento_velocidad):\n",
    "        print(f'Acelerando {incremento_velocidad} km/h')\n",
    "        self.velocidad += abs(incremento_velocidad)\n",
    "        self.velocidad = min(self.velocidad,self.velocidad_maxima)\n",
    "        \n",
    "    def frenar(self,decremento_velocidad):\n",
    "        print(f'Desacelerando {decremento_velocidad} km/h')\n",
    "        self.velocidad -= abs(decremento_velocidad)\n",
    "        #velocidad máxima en reversa de 20 km \n",
    "        self.velocidad = max(self.velocidad,-20)"
   ]
  },
  {
   "cell_type": "code",
   "execution_count": 8,
   "id": "utility-exhaust",
   "metadata": {},
   "outputs": [
    {
     "name": "stdout",
     "output_type": "stream",
     "text": [
      "Modelo : Model 3, Color: red, Velocidad máxima: 250\n",
      "El carro esta detenido.\n"
     ]
    }
   ],
   "source": [
    "#crear objeto de vehículo y ver el estado del vehículo \n",
    "vehiculo = Vehiculo(modelo='Model 3',velocidad_maxima=250,color=\"red\",tipo='carro')\n",
    "print(vehiculo)\n",
    "vehiculo.estado()"
   ]
  },
  {
   "cell_type": "code",
   "execution_count": 9,
   "id": "norwegian-japan",
   "metadata": {},
   "outputs": [
    {
     "name": "stdout",
     "output_type": "stream",
     "text": [
      "Acelerando 50 km/h\n",
      "El carro va a 50 km/h\n"
     ]
    }
   ],
   "source": [
    "#acelerar y ver el estado del vehículo \n",
    "vehiculo.acelerar(50)\n",
    "vehiculo.estado()"
   ]
  },
  {
   "cell_type": "code",
   "execution_count": 10,
   "id": "thorough-definition",
   "metadata": {},
   "outputs": [
    {
     "name": "stdout",
     "output_type": "stream",
     "text": [
      "Desacelerando 20 km/h\n",
      "El carro va a 30 km/h\n"
     ]
    }
   ],
   "source": [
    "#frenar y ver el estado del vehículo \n",
    "vehiculo.frenar(20)\n",
    "vehiculo.estado()"
   ]
  },
  {
   "cell_type": "code",
   "execution_count": 11,
   "id": "cordless-metallic",
   "metadata": {},
   "outputs": [
    {
     "name": "stdout",
     "output_type": "stream",
     "text": [
      "Acelerando 40 km/h\n",
      "El carro va a 70 km/h\n"
     ]
    }
   ],
   "source": [
    "#acelerar y ver el estado del vehículo \n",
    "vehiculo.acelerar(40)\n",
    "vehiculo.estado()"
   ]
  },
  {
   "cell_type": "markdown",
   "id": "challenging-fraction",
   "metadata": {},
   "source": [
    "<h4>Herencia </h4>\n",
    "<p>\n",
    "Una de las ventajas de las clases, es que se pueden crear clases a partir de otras clases. Se puede decir que una clase hereda de otra. \n",
    "Esta característica nos permite crear clases más genéricas e ir creando clases más específicas como sea necesario. \n",
    "</p>\n",
    "<p>\n",
    "Ejemplo a partir de la clase vehiculo crear la clase Autobus el cual no puede ir en reversa y tiene una velocidad máxima de 60 km/h.\n",
    "</p>"
   ]
  },
  {
   "cell_type": "code",
   "execution_count": 12,
   "id": "cathedral-tonight",
   "metadata": {},
   "outputs": [],
   "source": [
    "#herencia simple \n",
    "class Autobus(Vehiculo):\n",
    "    \n",
    "    def __init__(self, modelo,color):\n",
    "        Vehiculo.__init__(self,modelo = modelo,color = color,velocidad_maxima = 60,tipo ='autobus')\n",
    "    \n",
    "    #hacemos uso de la sobrecarga de métodos para emplear polimorfismo\n",
    "    def frenar(self,decremento_velocidad):\n",
    "        print(f'Desacelerando {decremento_velocidad} km/h')\n",
    "        self.velocidad -= abs(decremento_velocidad)\n",
    "        #velocidad máxima en reversa de 20 km \n",
    "        self.velocidad = max(self.velocidad,0)"
   ]
  },
  {
   "cell_type": "code",
   "execution_count": 13,
   "id": "typical-words",
   "metadata": {},
   "outputs": [
    {
     "name": "stdout",
     "output_type": "stream",
     "text": [
      "Modelo : VMW, Color: blanco, Velocidad máxima: 60\n",
      "El autobus esta detenido.\n"
     ]
    }
   ],
   "source": [
    "#crear objeto autobus y ver estado \n",
    "autobus = Autobus('VMW','blanco')\n",
    "print(autobus)\n",
    "autobus.estado()"
   ]
  },
  {
   "cell_type": "code",
   "execution_count": 14,
   "id": "satisfied-demonstration",
   "metadata": {},
   "outputs": [
    {
     "name": "stdout",
     "output_type": "stream",
     "text": [
      "Acelerando 100 km/h\n",
      "El autobus va a 60 km/h\n"
     ]
    }
   ],
   "source": [
    "#acelerar y ver el estado del autobus\n",
    "autobus.acelerar(100)\n",
    "autobus.estado()"
   ]
  },
  {
   "cell_type": "code",
   "execution_count": 15,
   "id": "medical-drunk",
   "metadata": {},
   "outputs": [
    {
     "name": "stdout",
     "output_type": "stream",
     "text": [
      "Desacelerando 70 km/h\n",
      "El autobus esta detenido.\n"
     ]
    }
   ],
   "source": [
    "#frenar y ver el estado del autobus\n",
    "autobus.frenar(70)\n",
    "autobus.estado()"
   ]
  }
 ],
 "metadata": {
  "kernelspec": {
   "display_name": "Python 3",
   "language": "python",
   "name": "python3"
  },
  "language_info": {
   "codemirror_mode": {
    "name": "ipython",
    "version": 3
   },
   "file_extension": ".py",
   "mimetype": "text/x-python",
   "name": "python",
   "nbconvert_exporter": "python",
   "pygments_lexer": "ipython3",
   "version": "3.8.5"
  }
 },
 "nbformat": 4,
 "nbformat_minor": 5
}
