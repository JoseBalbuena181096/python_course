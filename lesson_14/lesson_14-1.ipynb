{
 "cells": [
  {
   "cell_type": "markdown",
   "id": "subtle-workplace",
   "metadata": {},
   "source": [
    "<h4>¿Porque tenemos que usar programación orientada a objetos?</h4>\n",
    "<p>\n",
    "Hasta este punto los programas que hemos venido realizado están basados en estructurar el código del programa en componentes, que reciben el nombre de procedimientos, subrutinas o funciones. Este estilo de programación (paradigma) es conocido como programación procedural.\n",
    "</p>\n",
    "<center>\n",
    "<img src = \"img/procedural.png\">\n",
    "</center>"
   ]
  },
  {
   "cell_type": "markdown",
   "id": "exempt-leader",
   "metadata": {},
   "source": [
    "<p>\n",
    "Este estilo de programación es muy útil pues permite realizar un desarrollo modular de nuestro programa por lo que muchas personas pueden trabajar a la vez en la creación de cada módulo. Este paradigma nos permite también la reutilización de estos procedimiento y emplearlos cada vez que los queramos usar.\n",
    "</p>\n",
    "<hr>\n",
    "<h4>¿Entonces cuál es el inconveniente?</h4>\n",
    "<p>\n",
    "Conforme hemos venido desarrollando programas cada vez más complejos manejar la lógica y seguir el flujo de nuestro código es más difícil. Pues cada vez más la relaciones entre variables globales, funciones y flujo de programa parece un espagueti el cual tiene muchos inicios, cruces y finales como es el caso de nuestro código de la máquina de helados automática. \n",
    "</p>\n",
    "<center>\n",
    "<img src=\"img/espageti.jpeg\" width=\"400\">\n",
    "</center>\n",
    "<hr>"
   ]
  },
  {
   "cell_type": "markdown",
   "id": "extreme-cancellation",
   "metadata": {},
   "source": [
    "<h4>El paradigma de programación orientado a objetos (OOP ó POO)</h4>\n",
    "<p>\n",
    "El paradigma orientado a objetos (POO) define los programas en términos de objetos. Los objetos son entidades que combinan un estado (es decir, datos) y un comportamiento (esto es, procedimientos o métodos). Estos objetos se comunican entre ellos para realizar tareas. \n",
    "</p>\n",
    "<center>\n",
    "<img src = \"img/objeto.png\">\n",
    "</center>\n",
    "<p>    \n",
    "El paradigma POO surge para solventar los problemas que planteaban otros paradigmas, como el imperativo, con el objeto de elaborar programas y módulos más fáciles de escribir, mantener y reutilizar.\n",
    "</p>\n",
    "<hr>"
   ]
  },
  {
   "cell_type": "markdown",
   "id": "rotary-canyon",
   "metadata": {},
   "source": [
    "<h4>¿Cómo usar la programación orientada a objetos?</h4>\n",
    "<p>\n",
    "    Los objetos se crean a partir de plantillas llamadas <u>clases</u>. Cada objeto es una <u>instancia</u> de su clase. \n",
    "</p>\n",
    "<p>\n",
    "Una forma de ver lo que es una clase es por medio de moldes para hacer  galletas con una forma predeterminada. La clase es el molde con una figura predeterminada, con este molde podemos hacer diversas galletas con esta forma y cada una de estas variantes realizadas con el molde es una instancia de la clase molde.\n",
    "<center>    \n",
    "<img src = \"img/galleta.jpg\" width=\"300\">\n",
    "</center>\n",
    "</p>\n",
    "<p>\n",
    "Todos los objetos que creamos tiene datos (atributos) y funcionalidades (métodos). \n",
    "Por ejemplo una galleta creada con la clase molde:\n",
    "<center>\n",
    "<table>\n",
    "    <thead>\n",
    "        <tr>\n",
    "            <th>Atributos </th>\n",
    "            <th>Métodos </th>\n",
    "        </tr>\n",
    "    </thead>\n",
    "    <tbody>\n",
    "        <tr>\n",
    "             <td>sabor</td>\n",
    "             <td>establecer sabor </td>\n",
    "        </tr>\n",
    "        <tr>\n",
    "             <td>...</td>\n",
    "             <td>obtener sabor </td>\n",
    "        </tr>\n",
    "        <tr>\n",
    "             <td>color</td>\n",
    "             <td>establecer color </td>\n",
    "        </tr>\n",
    "        <tr>\n",
    "             <td>...</td>\n",
    "             <td>obtener color </td>\n",
    "        </tr>\n",
    "        <tr>\n",
    "             <td>porción </td>\n",
    "             <td>comer galleta</td>\n",
    "        </tr>\n",
    "    </tbody>\n",
    "</table>\n",
    "</center>\n",
    "</p>\n",
    "<p>\n",
    "En una aplicación se pueden tener múltiples objetos pero estos se pueden comunicar entre sí por medio de interfaces o mecanismos. \n",
    "</p>"
   ]
  }
 ],
 "metadata": {
  "kernelspec": {
   "display_name": "Python 3",
   "language": "python",
   "name": "python3"
  },
  "language_info": {
   "codemirror_mode": {
    "name": "ipython",
    "version": 3
   },
   "file_extension": ".py",
   "mimetype": "text/x-python",
   "name": "python",
   "nbconvert_exporter": "python",
   "pygments_lexer": "ipython3",
   "version": "3.8.5"
  }
 },
 "nbformat": 4,
 "nbformat_minor": 5
}