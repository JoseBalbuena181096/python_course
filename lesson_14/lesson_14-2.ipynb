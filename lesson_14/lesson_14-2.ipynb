{
 "cells": [
  {
   "cell_type": "markdown",
   "id": "alleged-collar",
   "metadata": {},
   "source": [
    "<h4>Pip el manejador de paquetes en python 3</h4>\n",
    "<p>\n",
    "Para poder usar módulo y clases creadas por otro programador podemos utilizar pip es una herramienta que permite instalar paquetes de python 3 para poder usarlos en nuestros proyectos.\n",
    "</p>\n",
    "<p>\n",
    "Por ejemplo  si requerimos crear tablas muy cheveres por consola, podemos hacer uso de un paquete de PrettyTable, para instalarlo hacemos uso de la herramienta pip. \n",
    "<a href=\"https://pypi.org/project/prettytable/\">Documentación del paquete PrettyTable</a>\n",
    "</p>\n",
    "\n"
   ]
  },
  {
   "cell_type": "code",
   "execution_count": null,
   "id": "nuclear-combine",
   "metadata": {},
   "outputs": [],
   "source": [
    "#importamos la clase PrettyTable\n",
    "\n",
    "#creamos el objeto tabla\n"
   ]
  },
  {
   "cell_type": "code",
   "execution_count": null,
   "id": "balanced-parker",
   "metadata": {},
   "outputs": [],
   "source": [
    "#la tabla creada esta vacía \n"
   ]
  },
  {
   "cell_type": "code",
   "execution_count": null,
   "id": "welcome-bread",
   "metadata": {},
   "outputs": [],
   "source": [
    "#modificamos el atributo field_names de la tabla\n"
   ]
  },
  {
   "cell_type": "code",
   "execution_count": null,
   "id": "atmospheric-monitoring",
   "metadata": {},
   "outputs": [],
   "source": [
    "#llenar la primera  fila de la tabla con el método add_row\n"
   ]
  },
  {
   "cell_type": "code",
   "execution_count": null,
   "id": "endangered-flood",
   "metadata": {},
   "outputs": [],
   "source": [
    "#acompletar tabla\n",
    "\n"
   ]
  },
  {
   "cell_type": "markdown",
   "id": "chinese-wayne",
   "metadata": {},
   "source": [
    "<h4>Pip el manejador de paquetes en python 3</h4>\n",
    "<p>\n",
    "Para poder usar módulo y clases creadas por otro programador podemos utilizar pip es una herramienta que permite instalar paquetes de python 3 para poder usarlos en nuestros proyectos.\n",
    "</p>\n",
    "<p>\n",
    "Por ejemplo  si requerimos crear tablas muy cheveres por consola, podemos hacer uso de un paquete de PrettyTable, para instalarlo hacemos uso de la herramienta pip. \n",
    "<a href=\"https://pypi.org/project/prettytable/\">Documentación del paquete PrettyTable</a>\n",
    "</p>\n",
    "\n"
   ]
  },
  {
   "cell_type": "code",
   "execution_count": 1,
   "id": "legal-sunglasses",
   "metadata": {},
   "outputs": [],
   "source": [
    "#importamos la clase PrettyTable\n",
    "from prettytable import PrettyTable\n",
    "#creamos el objeto tabla\n",
    "tabla = PrettyTable()"
   ]
  },
  {
   "cell_type": "code",
   "execution_count": 2,
   "id": "executive-pound",
   "metadata": {},
   "outputs": [
    {
     "name": "stdout",
     "output_type": "stream",
     "text": [
      "++\n",
      "||\n",
      "++\n",
      "++\n"
     ]
    }
   ],
   "source": [
    "#la tabla creada esta vacía \n",
    "print(tabla)"
   ]
  },
  {
   "cell_type": "code",
   "execution_count": 3,
   "id": "economic-austria",
   "metadata": {},
   "outputs": [
    {
     "name": "stdout",
     "output_type": "stream",
     "text": [
      "+---------------+------+-----------+--------------+\n",
      "| Nombre ciudad | Área | Población | Lluvia anual |\n",
      "+---------------+------+-----------+--------------+\n",
      "+---------------+------+-----------+--------------+\n"
     ]
    }
   ],
   "source": [
    "#modificamos el atributo field_names de la tabla\n",
    "tabla.field_names = [\"Nombre ciudad\", \"Área\", \"Población\", \"Lluvia anual\"]\n",
    "print(tabla)"
   ]
  },
  {
   "cell_type": "code",
   "execution_count": 4,
   "id": "civilian-craft",
   "metadata": {},
   "outputs": [
    {
     "name": "stdout",
     "output_type": "stream",
     "text": [
      "+---------------+------+-----------+--------------+\n",
      "| Nombre ciudad | Área | Población | Lluvia anual |\n",
      "+---------------+------+-----------+--------------+\n",
      "|    Adelaide   | 1295 |  1158259  |    600.5     |\n",
      "+---------------+------+-----------+--------------+\n"
     ]
    }
   ],
   "source": [
    "#llenar la primera  fila de la tabla con el método add_row\n",
    "tabla.add_row([\"Adelaide\", 1295, 1158259, 600.5])\n",
    "print(tabla)"
   ]
  },
  {
   "cell_type": "code",
   "execution_count": 6,
   "id": "committed-sacrifice",
   "metadata": {},
   "outputs": [
    {
     "name": "stdout",
     "output_type": "stream",
     "text": [
      "+---------------+------+-----------+--------------+\n",
      "| Nombre ciudad | Área | Población | Lluvia anual |\n",
      "+---------------+------+-----------+--------------+\n",
      "|    Adelaide   | 1295 |  1158259  |    600.5     |\n",
      "|    Brisbane   | 5905 |  1857594  |    1146.4    |\n",
      "|     Darwin    | 112  |   120900  |    1714.7    |\n",
      "|     Hobart    | 1357 |   205556  |    619.5     |\n",
      "|     Sydney    | 2058 |  4336374  |    1214.8    |\n",
      "|   Melbourne   | 1566 |  3806092  |    646.9     |\n",
      "|     Perth     | 5386 |  1554769  |    869.4     |\n",
      "+---------------+------+-----------+--------------+\n"
     ]
    }
   ],
   "source": [
    "#acompletar tabla\n",
    "tabla.add_rows(\n",
    "    [\n",
    "        [\"Brisbane\", 5905, 1857594, 1146.4],\n",
    "        [\"Darwin\", 112, 120900, 1714.7],\n",
    "        [\"Hobart\", 1357, 205556, 619.5],\n",
    "        [\"Sydney\", 2058, 4336374, 1214.8],\n",
    "        [\"Melbourne\", 1566, 3806092, 646.9],\n",
    "        [\"Perth\", 5386, 1554769, 869.4],\n",
    "    ]\n",
    ")\n",
    "print(tabla)"
   ]
  }
 ],
 "metadata": {
  "kernelspec": {
   "display_name": "Python 3",
   "language": "python",
   "name": "python3"
  },
  "language_info": {
   "codemirror_mode": {
    "name": "ipython",
    "version": 3
   },
   "file_extension": ".py",
   "mimetype": "text/x-python",
   "name": "python",
   "nbconvert_exporter": "python",
   "pygments_lexer": "ipython3",
   "version": "3.8.5"
  }
 },
 "nbformat": 4,
 "nbformat_minor": 5
}
