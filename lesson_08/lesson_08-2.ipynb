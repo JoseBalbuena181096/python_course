{
 "cells": [
  {
   "cell_type": "markdown",
   "id": "downtown-friendship",
   "metadata": {},
   "source": [
    "<h4>Aprobaste o reprobaste</h4>\n",
    "<p>\n",
    "Tienes  las calificaciones  de estudiantes de tu materia de matemáticas, debes desarrollar un programa que pueda determinar quien no aprobó la materia con menos de 70, quien tiene más de 70 para aprobar la materia. \n",
    "Cuando tu alumno te indique su nombre debes decirle si aprobo o reprobo. \n",
    "</p>\n",
    "<center>\n",
    "<img src=\"http://www.sev.gob.mx/preparatoria-abierta/files/2019/11/consulta.jpg\" width=\"300\">\n",
    "</center>"
   ]
  },
  {
   "cell_type": "code",
   "execution_count": null,
   "id": "ideal-chase",
   "metadata": {},
   "outputs": [],
   "source": [
    "#calificaciones de tus alumnos de matemáticas \n",
    "calificaciones_mate = {\n",
    "'HERNANDEZ LUIS' : 50, \n",
    "'TORRES LAURA': 100,\n",
    "'GONZALEZ ALVARO': 100,\n",
    "'SALINAS CARLOS': 80,\n",
    "'AGUILAR JOSE': 69, \n",
    "'CRUZ MARIA': 55, \n",
    "'GARCIA JESUS':92,\n",
    "'AGUIRRE GERARDO': 95,\n",
    "'GOMEZ JOSEFINA': 82, \n",
    "'VARELA JORGE': 99,\n",
    "'ROSAS ERICK': 89,\n",
    "}"
   ]
  },
  {
   "cell_type": "code",
   "execution_count": null,
   "id": "manual-figure",
   "metadata": {},
   "outputs": [],
   "source": [
    "#agrupar estudiantes en aprobados y reprobados \n"
   ]
  },
  {
   "cell_type": "code",
   "execution_count": null,
   "id": "delayed-annotation",
   "metadata": {},
   "outputs": [],
   "source": [
    "#Informar al estudiante si aprobo o reprobo \n"
   ]
  },
  {
   "cell_type": "markdown",
   "id": "macro-digit",
   "metadata": {},
   "source": [
    "<h4>Aprobaste o reprobaste</h4>\n",
    "<p>\n",
    "Tienes  las calificaciones  de estudiantes de tu materia de matemáticas, debes desarrollar un programa que pueda determinar quien no aprobó la materia con menos de 70, quien tiene más de 70 para aprobar la materia. \n",
    "Cuando tu alumno te indique su nombre debes decirle si aprobo o reprobo. \n",
    "</p>\n",
    "<center>\n",
    "<img src=\"http://www.sev.gob.mx/preparatoria-abierta/files/2019/11/consulta.jpg\" width=\"300\">\n",
    "</center>"
   ]
  },
  {
   "cell_type": "code",
   "execution_count": 1,
   "id": "previous-substitute",
   "metadata": {},
   "outputs": [],
   "source": [
    "#calificaciones de tus alumnos de matemáticas \n",
    "calificaciones_mate = {\n",
    "'HERNANDEZ LUIS' : 50, \n",
    "'TORRES LAURA': 100,\n",
    "'GONZALEZ ALVARO': 100,\n",
    "'SALINAS CARLOS': 80,\n",
    "'AGUILAR JOSE': 69, \n",
    "'CRUZ MARIA': 55, \n",
    "'GARCIA JESUS':92,\n",
    "'AGUIRRE GERARDO': 95,\n",
    "'GOMEZ JOSEFINA': 82, \n",
    "'VARELA JORGE': 99,\n",
    "'ROSAS ERICK': 89,\n",
    "}"
   ]
  },
  {
   "cell_type": "code",
   "execution_count": 2,
   "id": "antique-motel",
   "metadata": {},
   "outputs": [
    {
     "name": "stdout",
     "output_type": "stream",
     "text": [
      "{'aprobados': ['TORRES LAURA', 'GONZALEZ ALVARO', 'SALINAS CARLOS', 'GARCIA JESUS', 'AGUIRRE GERARDO', 'GOMEZ JOSEFINA', 'VARELA JORGE', 'ROSAS ERICK'], 'reprobados': ['HERNANDEZ LUIS', 'AGUILAR JOSE', 'CRUZ MARIA']}\n"
     ]
    }
   ],
   "source": [
    "#agrupar estudiantes en aprobados y reprobados \n",
    "estudiantes = {'aprobados': [], 'reprobados':[]}\n",
    "for estudiante in calificaciones_mate:\n",
    "    if calificaciones_mate[estudiante] > 70:\n",
    "        estudiantes['aprobados'].append(estudiante)\n",
    "    else:\n",
    "         estudiantes['reprobados'].append(estudiante)\n",
    "print(estudiantes)"
   ]
  },
  {
   "cell_type": "code",
   "execution_count": 4,
   "id": "deadly-encyclopedia",
   "metadata": {},
   "outputs": [
    {
     "name": "stdin",
     "output_type": "stream",
     "text": [
      "Alumno ingrese su apellido paterno y primer nombre.\n",
      " torres laura\n"
     ]
    },
    {
     "name": "stdout",
     "output_type": "stream",
     "text": [
      "Tu TORRES LAURA aprobaste la materia con 100\n"
     ]
    }
   ],
   "source": [
    "#Informar al estudiante si aprobo o reprobo \n",
    "nombre = input('Alumno ingrese su apellido paterno y primer nombre.\\n').upper()\n",
    "if nombre in estudiantes['aprobados']:\n",
    "    print(f'Tu {nombre} aprobaste la materia con {calificaciones_mate[nombre]}')\n",
    "else:\n",
    "    print(f'Tú {nombre} reprobaste la materia con {calificaciones_mate[nombre]}')"
   ]
  }
 ],
 "metadata": {
  "kernelspec": {
   "display_name": "Python 3",
   "language": "python",
   "name": "python3"
  },
  "language_info": {
   "codemirror_mode": {
    "name": "ipython",
    "version": 3
   },
   "file_extension": ".py",
   "mimetype": "text/x-python",
   "name": "python",
   "nbconvert_exporter": "python",
   "pygments_lexer": "ipython3",
   "version": "3.8.5"
  }
 },
 "nbformat": 4,
 "nbformat_minor": 5
}
