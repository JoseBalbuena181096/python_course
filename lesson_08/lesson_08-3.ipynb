{
 "cells": [
  {
   "cell_type": "markdown",
   "id": "wired-medicine",
   "metadata": {},
   "source": [
    "<h4>Venta de coches</h4>\n",
    "<p>\n",
    "Trabajas para una concesionaria de autos, debes desarrollar un  programa que pueda registrar los modelos de autos que tienen, su año y precio del mismo.  Después cuando un cliente te diga su presupuesto debes indicarle cuáles  autos puede comprar. \n",
    "</p>\n",
    "<center>\n",
    "<img src = \"https://motor.elpais.com/wp-content/uploads/2020/03/Concesionario02-1800x728.jpg\" width=\"400\">\n",
    "</center>"
   ]
  },
  {
   "cell_type": "code",
   "execution_count": null,
   "id": "special-nursing",
   "metadata": {},
   "outputs": [],
   "source": [
    "#realizar el registro de los autos \n"
   ]
  },
  {
   "cell_type": "code",
   "execution_count": null,
   "id": "continental-necessity",
   "metadata": {},
   "outputs": [],
   "source": [
    "#crear funcion para determinar los autos recomendados de acorde al presupuesto \n"
   ]
  },
  {
   "cell_type": "code",
   "execution_count": null,
   "id": "neural-binary",
   "metadata": {},
   "outputs": [],
   "source": [
    "#preguntar presupuesto y mostrar los autos que podría comprar \n"
   ]
  },
  {
   "cell_type": "markdown",
   "id": "treated-blade",
   "metadata": {},
   "source": [
    "<h4>Venta de coches</h4>\n",
    "<p>\n",
    "Trabajas para una concesionaria de autos, debes desarrollar un  programa que pueda registrar los modelos de autos que tienen, su año y precio del mismo.  Después cuando un cliente te diga su presupuesto debes indicarle cuáles  autos puede comprar. \n",
    "</p>\n",
    "<center>\n",
    "<img src = \"https://motor.elpais.com/wp-content/uploads/2020/03/Concesionario02-1800x728.jpg\" width=\"400\">\n",
    "</center>"
   ]
  },
  {
   "cell_type": "code",
   "execution_count": 2,
   "id": "olympic-diving",
   "metadata": {},
   "outputs": [
    {
     "name": "stdout",
     "output_type": "stream",
     "text": [
      "Bienvenido al sistema de registro de autos\n"
     ]
    },
    {
     "name": "stdin",
     "output_type": "stream",
     "text": [
      "Ingrese el modelo, el año y el precio del automóvil (Pesos MxN), separados por coma.\n",
      " tesla,2020,2_000_000\n",
      "Para terminar el registro ingrese s o n para continuar ingresando.\n",
      " n\n",
      "Ingrese el modelo, el año y el precio del automóvil (Pesos MxN), separados por coma.\n",
      " audi,2018,1_000_000\n",
      "Para terminar el registro ingrese s o n para continuar ingresando.\n",
      " n\n",
      "Ingrese el modelo, el año y el precio del automóvil (Pesos MxN), separados por coma.\n",
      " ford,2016,750_000\n",
      "Para terminar el registro ingrese s o n para continuar ingresando.\n",
      " n\n",
      "Ingrese el modelo, el año y el precio del automóvil (Pesos MxN), separados por coma.\n",
      " mercedes,2019,1_250_000\n",
      "Para terminar el registro ingrese s o n para continuar ingresando.\n",
      " n\n",
      "Ingrese el modelo, el año y el precio del automóvil (Pesos MxN), separados por coma.\n",
      " nissan,2014,450_000\n",
      "Para terminar el registro ingrese s o n para continuar ingresando.\n",
      " s\n"
     ]
    },
    {
     "name": "stdout",
     "output_type": "stream",
     "text": [
      "{'tesla': {'año': 2020, 'precio': 2000000}, 'audi': {'año': 2018, 'precio': 1000000}, 'ford': {'año': 2016, 'precio': 750000}, 'mercedes': {'año': 2019, 'precio': 1250000}, 'nissan': {'año': 2014, 'precio': 450000}}\n"
     ]
    }
   ],
   "source": [
    "#realizar el registro de los autos \n",
    "autos = {}\n",
    "registro_fin = False\n",
    "print('Bienvenido al sistema de registro de autos')\n",
    "while not registro_fin:\n",
    "    datos_auto = input('Ingrese el modelo, el año y el precio del automóvil (Pesos MxN), separados por coma.\\n').lower()\n",
    "    datos_auto = datos_auto.split(',')\n",
    "    autos[datos_auto[0]] = {'año': int(datos_auto[1]), 'precio':int(datos_auto[2])}\n",
    "    char_fin = input('Para terminar el registro ingrese s o n para continuar ingresando.\\n').lower()\n",
    "    if char_fin == 's':\n",
    "        registro_fin = True\n",
    "    elif char_fin == 'n':\n",
    "        registro_fin = False\n",
    "print(autos)"
   ]
  },
  {
   "cell_type": "code",
   "execution_count": 3,
   "id": "bottom-disclosure",
   "metadata": {},
   "outputs": [],
   "source": [
    "#crear funcion para determinar los autos recomendados de acorde al presupuesto \n",
    "def autos_posibles(autos,presupuesto):\n",
    "    print('Los autos recomendados para comprar son: ')\n",
    "    for auto in autos:\n",
    "        if autos[auto]['precio'] <= presupuesto:\n",
    "            print(f\"Modelo:{auto} Precio(pesos MxN):{autos[auto]['precio']} Año:{autos[auto]['año']}\")"
   ]
  },
  {
   "cell_type": "code",
   "execution_count": 4,
   "id": "simple-shakespeare",
   "metadata": {},
   "outputs": [
    {
     "name": "stdout",
     "output_type": "stream",
     "text": [
      "Herramienta para seleccionar auto por presupuesto.\n"
     ]
    },
    {
     "name": "stdin",
     "output_type": "stream",
     "text": [
      "Ingrese el presupuesto que tiene  para su auto (Pesos MxN).\n",
      " 1_000_000\n"
     ]
    },
    {
     "name": "stdout",
     "output_type": "stream",
     "text": [
      "Los autos recomendados para comprar son: \n",
      "Modelo:audi Precio(pesos MxN):1000000 Año:2018\n",
      "Modelo:ford Precio(pesos MxN):750000 Año:2016\n",
      "Modelo:nissan Precio(pesos MxN):450000 Año:2014\n"
     ]
    },
    {
     "name": "stdin",
     "output_type": "stream",
     "text": [
      "Para terminar el la herramenta s o n para continuar cotizando.\n",
      " n\n",
      "Ingrese el presupuesto que tiene  para su auto (Pesos MxN).\n",
      " 3_000_000\n"
     ]
    },
    {
     "name": "stdout",
     "output_type": "stream",
     "text": [
      "Los autos recomendados para comprar son: \n",
      "Modelo:tesla Precio(pesos MxN):2000000 Año:2020\n",
      "Modelo:audi Precio(pesos MxN):1000000 Año:2018\n",
      "Modelo:ford Precio(pesos MxN):750000 Año:2016\n",
      "Modelo:mercedes Precio(pesos MxN):1250000 Año:2019\n",
      "Modelo:nissan Precio(pesos MxN):450000 Año:2014\n"
     ]
    },
    {
     "name": "stdin",
     "output_type": "stream",
     "text": [
      "Para terminar el la herramenta s o n para continuar cotizando.\n",
      " n\n",
      "Ingrese el presupuesto que tiene  para su auto (Pesos MxN).\n",
      " 100_000\n"
     ]
    },
    {
     "name": "stdout",
     "output_type": "stream",
     "text": [
      "Los autos recomendados para comprar son: \n"
     ]
    },
    {
     "name": "stdin",
     "output_type": "stream",
     "text": [
      "Para terminar el la herramenta s o n para continuar cotizando.\n",
      " n\n",
      "Ingrese el presupuesto que tiene  para su auto (Pesos MxN).\n",
      " 500_000\n"
     ]
    },
    {
     "name": "stdout",
     "output_type": "stream",
     "text": [
      "Los autos recomendados para comprar son: \n",
      "Modelo:nissan Precio(pesos MxN):450000 Año:2014\n"
     ]
    },
    {
     "name": "stdin",
     "output_type": "stream",
     "text": [
      "Para terminar el la herramenta s o n para continuar cotizando.\n",
      " s\n"
     ]
    }
   ],
   "source": [
    "#preguntar presupuesto y mostrar los autos que podría comprar \n",
    "print('Herramienta para seleccionar auto por presupuesto.')\n",
    "fin_herramienta = False\n",
    "autos_recomendados = []\n",
    "while not fin_herramienta:\n",
    "    presupuesto = int(input('Ingrese el presupuesto que tiene  para su auto (Pesos MxN).\\n'))\n",
    "    autos_posibles(autos,presupuesto)\n",
    "    char_fin = input('Para terminar la herramenta s o n para continuar cotizando.\\n').lower()\n",
    "    if char_fin == 's':\n",
    "        fin_herramienta = True\n",
    "    elif char_fin == 'n':\n",
    "        fin_herramienta = False"
   ]
  }
 ],
 "metadata": {
  "kernelspec": {
   "display_name": "Python 3",
   "language": "python",
   "name": "python3"
  },
  "language_info": {
   "codemirror_mode": {
    "name": "ipython",
    "version": 3
   },
   "file_extension": ".py",
   "mimetype": "text/x-python",
   "name": "python",
   "nbconvert_exporter": "python",
   "pygments_lexer": "ipython3",
   "version": "3.8.5"
  }
 },
 "nbformat": 4,
 "nbformat_minor": 5
}
