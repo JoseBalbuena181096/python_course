{
 "cells": [
  {
   "cell_type": "markdown",
   "id": "brazilian-twist",
   "metadata": {},
   "source": [
    "<h4>Diccionarios en Python 3</h4>"
   ]
  },
  {
   "cell_type": "markdown",
   "id": "arranged-rocket",
   "metadata": {},
   "source": [
    "<p>\n",
    "Un Diccionario es una estructura de datos y un tipo de dato en Python, también es una colección desordenada de elementos. Cada elemento de un diccionario tiene un par clave / valor. Los diccionarios están optimizados para recuperar valores cuando se conoce la clave.\n",
    "</p>\n",
    "<center>\n",
    "<img src=\"https://www.guru99.com/images/uploads/2012/12/java11.jpg\" width=\"300\">\n",
    "</center>"
   ]
  },
  {
   "cell_type": "code",
   "execution_count": 2,
   "id": "underlying-plenty",
   "metadata": {},
   "outputs": [
    {
     "data": {
      "text/plain": [
       "1"
      ]
     },
     "execution_count": 2,
     "metadata": {},
     "output_type": "execute_result"
    }
   ],
   "source": [
    "barcelona = {1:\"Ter Stegen\",16:\"Pedri\", 7:\"Griezmann\",11:\"Dembélé\",7:\"Messi\"}"
   ]
  }
 ],
 "metadata": {
  "kernelspec": {
   "display_name": "Python 3",
   "language": "python",
   "name": "python3"
  },
  "language_info": {
   "codemirror_mode": {
    "name": "ipython",
    "version": 3
   },
   "file_extension": ".py",
   "mimetype": "text/x-python",
   "name": "python",
   "nbconvert_exporter": "python",
   "pygments_lexer": "ipython3",
   "version": "3.8.5"
  }
 },
 "nbformat": 4,
 "nbformat_minor": 5
}
