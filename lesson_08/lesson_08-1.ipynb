{
 "cells": [
  {
   "cell_type": "markdown",
   "id": "verbal-funeral",
   "metadata": {},
   "source": [
    "<h4>Diccionarios en Python 3</h4>"
   ]
  },
  {
   "cell_type": "markdown",
   "id": "ideal-optimization",
   "metadata": {},
   "source": [
    "<p>\n",
    "Un Diccionario es una estructura de datos y un tipo de dato en Python, también es una colección desordenada de elementos. Cada elemento de un diccionario tiene un par clave / valor. Los diccionarios están optimizados para recuperar valores cuando se conoce la clave.\n",
    "</p>\n",
    "<center>\n",
    "<img src=\"https://www.guru99.com/images/uploads/2012/12/java11.jpg\" width=\"300\">\n",
    "</center>"
   ]
  },
  {
   "cell_type": "code",
   "execution_count": null,
   "id": "nonprofit-flight",
   "metadata": {},
   "outputs": [],
   "source": [
    "#Jugadores Barcelona\n"
   ]
  },
  {
   "cell_type": "code",
   "execution_count": null,
   "id": "rational-mailing",
   "metadata": {},
   "outputs": [],
   "source": [
    "#imprimir al jugador con el número 10  \n"
   ]
  },
  {
   "cell_type": "code",
   "execution_count": null,
   "id": "twenty-brick",
   "metadata": {},
   "outputs": [],
   "source": [
    "#imprimir al jugador con el número 1 \n"
   ]
  },
  {
   "cell_type": "code",
   "execution_count": null,
   "id": "modified-essex",
   "metadata": {},
   "outputs": [],
   "source": [
    "#crear un diccionario de países y capitales \n"
   ]
  },
  {
   "cell_type": "code",
   "execution_count": null,
   "id": "headed-cross",
   "metadata": {},
   "outputs": [],
   "source": [
    "#imprimir la capital de México \n"
   ]
  },
  {
   "cell_type": "code",
   "execution_count": null,
   "id": "ignored-nitrogen",
   "metadata": {},
   "outputs": [],
   "source": [
    "#imprimir la capital de Japón \n"
   ]
  },
  {
   "cell_type": "code",
   "execution_count": null,
   "id": "ultimate-migration",
   "metadata": {},
   "outputs": [],
   "source": [
    "#imprimir todos los  países  y sus capitales \n"
   ]
  },
  {
   "cell_type": "markdown",
   "id": "distant-muslim",
   "metadata": {},
   "source": [
    "<p>\n",
    "Un Diccionario es una estructura de datos y un tipo de dato en Python, también es una colección desordenada de elementos. Cada elemento de un diccionario tiene un par clave / valor. Los diccionarios están optimizados para recuperar valores cuando se conoce la clave.\n",
    "</p>\n",
    "<center>\n",
    "<img src=\"https://www.guru99.com/images/uploads/2012/12/java11.jpg\" width=\"300\">\n",
    "</center>"
   ]
  },
  {
   "cell_type": "code",
   "execution_count": 1,
   "id": "stock-birth",
   "metadata": {},
   "outputs": [
    {
     "name": "stdout",
     "output_type": "stream",
     "text": [
      "{1: 'Ter Stegen', 16: 'Pedri', 7: 'Griezmann', 11: 'Dembélé', 10: 'Messi'}\n"
     ]
    }
   ],
   "source": [
    "#Jugadores Barcelona\n",
    "Barcelona = {1:\"Ter Stegen\",16:\"Pedri\", 7:\"Griezmann\",11:\"Dembélé\",10:\"Messi\"}\n",
    "print(Barcelona)"
   ]
  },
  {
   "cell_type": "code",
   "execution_count": 2,
   "id": "variable-composer",
   "metadata": {},
   "outputs": [
    {
     "name": "stdout",
     "output_type": "stream",
     "text": [
      "Messi\n"
     ]
    }
   ],
   "source": [
    "#imprimir al jugador con el número 10  \n",
    "print(Barcelona[10])"
   ]
  },
  {
   "cell_type": "code",
   "execution_count": 3,
   "id": "future-conviction",
   "metadata": {},
   "outputs": [
    {
     "name": "stdout",
     "output_type": "stream",
     "text": [
      "Ter Stegen\n"
     ]
    }
   ],
   "source": [
    "#imprimir al jugador con el número 1 \n",
    "print(Barcelona[1])"
   ]
  },
  {
   "cell_type": "code",
   "execution_count": 4,
   "id": "armed-blink",
   "metadata": {},
   "outputs": [
    {
     "name": "stdout",
     "output_type": "stream",
     "text": [
      "{'Alemania': 'Berlín', 'China': 'Pekín', 'Francia': 'París', 'Japón': 'Tokio', 'México': 'Ciudad de México'}\n"
     ]
    }
   ],
   "source": [
    "#crear un diccionario de países y capitales \n",
    "paises = dict(Alemania = 'Berlín', China = 'Pekín', Francia = 'París', Japón='Tokio',México = 'Ciudad de México')\n",
    "print(paises)"
   ]
  },
  {
   "cell_type": "code",
   "execution_count": 5,
   "id": "mechanical-marble",
   "metadata": {},
   "outputs": [
    {
     "name": "stdout",
     "output_type": "stream",
     "text": [
      "Ciudad de México\n"
     ]
    }
   ],
   "source": [
    "#imprimir la capital de México \n",
    "print(paises['México'])"
   ]
  },
  {
   "cell_type": "code",
   "execution_count": 6,
   "id": "cheap-reservation",
   "metadata": {},
   "outputs": [
    {
     "name": "stdout",
     "output_type": "stream",
     "text": [
      "Tokio\n"
     ]
    }
   ],
   "source": [
    "#imprimir la capital de Japón \n",
    "print(paises['Japón'])"
   ]
  },
  {
   "cell_type": "code",
   "execution_count": 7,
   "id": "humanitarian-office",
   "metadata": {},
   "outputs": [
    {
     "name": "stdout",
     "output_type": "stream",
     "text": [
      "país: Alemania , capital: Berlín\n",
      "país: China , capital: Pekín\n",
      "país: Francia , capital: París\n",
      "país: Japón , capital: Tokio\n",
      "país: México , capital: Ciudad de México\n"
     ]
    }
   ],
   "source": [
    "#imprimir todos los  países  y sus capitales \n",
    "for pais in paises:\n",
    "    print(f\"país: {pais} , capital: {paises[pais]}\")"
   ]
  }
 ],
 "metadata": {
  "kernelspec": {
   "display_name": "Python 3",
   "language": "python",
   "name": "python3"
  },
  "language_info": {
   "codemirror_mode": {
    "name": "ipython",
    "version": 3
   },
   "file_extension": ".py",
   "mimetype": "text/x-python",
   "name": "python",
   "nbconvert_exporter": "python",
   "pygments_lexer": "ipython3",
   "version": "3.8.5"
  }
 },
 "nbformat": 4,
 "nbformat_minor": 5
}
