{
 "cells": [
  {
   "cell_type": "markdown",
   "id": "purple-establishment",
   "metadata": {},
   "source": [
    "<h4>Espacios de nombres y ámbito de una variable  en Python</h4>\n",
    "<h5>Nombres</h5>\n",
    "<p>\n",
    "Un nombre es la forma que existe en Python de referenciar a un objeto concreto. Equivaldría al concepto de variable. Una variable no es más que el nombre con el que nos referimos a un objeto que existe en memoria.\n",
    "</p>    \n",
    "<h5>Espacios de nombres</h5>\n",
    "<p> \n",
    " Un espacio de nombres es una colección aislada de nombres que referencian a objetos.\n",
    "</p>\n",
    "<p>\n",
    "Cuando creamos un programa  en Python, todos los identificadores que define el lenguaje son añadidos a un espacio de nombres al que es posible acceder desde cualquier punto del programa.\n",
    "</p>"
   ]
  },
  {
   "cell_type": "code",
   "execution_count": 3,
   "id": "transsexual-artist",
   "metadata": {},
   "outputs": [
    {
     "data": {
      "text/plain": [
       "['ArithmeticError',\n",
       " 'AssertionError',\n",
       " 'AttributeError',\n",
       " 'BaseException',\n",
       " 'BlockingIOError',\n",
       " 'BrokenPipeError',\n",
       " 'BufferError',\n",
       " 'BytesWarning',\n",
       " 'ChildProcessError',\n",
       " 'ConnectionAbortedError',\n",
       " 'ConnectionError',\n",
       " 'ConnectionRefusedError',\n",
       " 'ConnectionResetError',\n",
       " 'DeprecationWarning',\n",
       " 'EOFError',\n",
       " 'Ellipsis',\n",
       " 'EnvironmentError',\n",
       " 'Exception',\n",
       " 'False',\n",
       " 'FileExistsError',\n",
       " 'FileNotFoundError',\n",
       " 'FloatingPointError',\n",
       " 'FutureWarning',\n",
       " 'GeneratorExit',\n",
       " 'IOError',\n",
       " 'ImportError',\n",
       " 'ImportWarning',\n",
       " 'IndentationError',\n",
       " 'IndexError',\n",
       " 'InterruptedError',\n",
       " 'IsADirectoryError',\n",
       " 'KeyError',\n",
       " 'KeyboardInterrupt',\n",
       " 'LookupError',\n",
       " 'MemoryError',\n",
       " 'ModuleNotFoundError',\n",
       " 'NameError',\n",
       " 'None',\n",
       " 'NotADirectoryError',\n",
       " 'NotImplemented',\n",
       " 'NotImplementedError',\n",
       " 'OSError',\n",
       " 'OverflowError',\n",
       " 'PendingDeprecationWarning',\n",
       " 'PermissionError',\n",
       " 'ProcessLookupError',\n",
       " 'RecursionError',\n",
       " 'ReferenceError',\n",
       " 'ResourceWarning',\n",
       " 'RuntimeError',\n",
       " 'RuntimeWarning',\n",
       " 'StopAsyncIteration',\n",
       " 'StopIteration',\n",
       " 'SyntaxError',\n",
       " 'SyntaxWarning',\n",
       " 'SystemError',\n",
       " 'SystemExit',\n",
       " 'TabError',\n",
       " 'TimeoutError',\n",
       " 'True',\n",
       " 'TypeError',\n",
       " 'UnboundLocalError',\n",
       " 'UnicodeDecodeError',\n",
       " 'UnicodeEncodeError',\n",
       " 'UnicodeError',\n",
       " 'UnicodeTranslateError',\n",
       " 'UnicodeWarning',\n",
       " 'UserWarning',\n",
       " 'ValueError',\n",
       " 'Warning',\n",
       " 'ZeroDivisionError',\n",
       " '__IPYTHON__',\n",
       " '__build_class__',\n",
       " '__debug__',\n",
       " '__doc__',\n",
       " '__import__',\n",
       " '__loader__',\n",
       " '__name__',\n",
       " '__package__',\n",
       " '__spec__',\n",
       " 'abs',\n",
       " 'all',\n",
       " 'any',\n",
       " 'ascii',\n",
       " 'bin',\n",
       " 'bool',\n",
       " 'breakpoint',\n",
       " 'bytearray',\n",
       " 'bytes',\n",
       " 'callable',\n",
       " 'chr',\n",
       " 'classmethod',\n",
       " 'compile',\n",
       " 'complex',\n",
       " 'copyright',\n",
       " 'credits',\n",
       " 'delattr',\n",
       " 'dict',\n",
       " 'dir',\n",
       " 'display',\n",
       " 'divmod',\n",
       " 'enumerate',\n",
       " 'eval',\n",
       " 'exec',\n",
       " 'filter',\n",
       " 'float',\n",
       " 'format',\n",
       " 'frozenset',\n",
       " 'get_ipython',\n",
       " 'getattr',\n",
       " 'globals',\n",
       " 'hasattr',\n",
       " 'hash',\n",
       " 'help',\n",
       " 'hex',\n",
       " 'id',\n",
       " 'input',\n",
       " 'int',\n",
       " 'isinstance',\n",
       " 'issubclass',\n",
       " 'iter',\n",
       " 'len',\n",
       " 'license',\n",
       " 'list',\n",
       " 'locals',\n",
       " 'map',\n",
       " 'max',\n",
       " 'memoryview',\n",
       " 'min',\n",
       " 'next',\n",
       " 'object',\n",
       " 'oct',\n",
       " 'open',\n",
       " 'ord',\n",
       " 'pow',\n",
       " 'print',\n",
       " 'property',\n",
       " 'range',\n",
       " 'repr',\n",
       " 'reversed',\n",
       " 'round',\n",
       " 'set',\n",
       " 'setattr',\n",
       " 'slice',\n",
       " 'sorted',\n",
       " 'staticmethod',\n",
       " 'str',\n",
       " 'sum',\n",
       " 'super',\n",
       " 'tuple',\n",
       " 'type',\n",
       " 'vars',\n",
       " 'zip']"
      ]
     },
     "execution_count": 3,
     "metadata": {},
     "output_type": "execute_result"
    }
   ],
   "source": [
    "#nombres definidos en el espacio de nombres de Python 3\n",
    "dir(__builtins__)"
   ]
  },
  {
   "cell_type": "markdown",
   "id": "vanilla-schema",
   "metadata": {},
   "source": [
    "<p>\n",
    "Cada módulo en Python crea su propio espacio de nombres global. Los espacios de nombres están aislados, por  esa  razón que en diferentes módulos se pueden usar los mismos nombres y estos no interfieren entre sí.\n",
    "</p>\n",
    "<p>\n",
    "Cuando invocamos una función se crea un espacio de nombres local asociado a dicha función que contiene todos los nombres definidos dentro de la misma.\n",
    "</p>\n",
    "<center>\n",
    "<img src = \"https://media.geeksforgeeks.org/wp-content/uploads/types_namespace-1.png\" width=\"300\">\n",
    "</center>\n",
    "<h5>La vida útil de un espacio de nombres</h5>\n",
    "<p> \n",
    "La vida útil de un espacio de nombres depende del alcance de los objetos, si el alcance de un objeto finaliza, la vida útil de ese espacio de nombres llega a su fin. Por lo tanto, no es posible acceder a los objetos del espacio de nombres interno desde un espacio de nombres externo.\n",
    "</p>"
   ]
  },
  {
   "cell_type": "markdown",
   "id": "forbidden-massage",
   "metadata": {},
   "source": [
    "<h5>Ámbito de una variable</h5>\n",
    "<p>\n",
    "Un ámbito define los límites de un programa en los que un espacio de nombres puede ser accedido.\n",
    "</p>\n",
    "<ul>\n",
    "    <li>Ámbito de la función actual, que tiene los nombres locales a la función.</li>\n",
    "    <li>Ámbito a nivel de módulo, que tiene los nombres globales, los que se definen en el propio módulo.</li>\n",
    "    <li>\n",
    "    Ámbito incorporado, el más externo, que tiene los nombres que define Python.\n",
    "    </li>\n",
    "</ul>\n",
    "<p>\n",
    "Cuando desde dentro de una función se hace referencia a un nombre, este se busca en primer lugar en el espacio de nombres local, luego en el espacio de nombres global y finalmente en el espacio de nombres incorporado.\n",
    "</p>    "
   ]
  },
  {
   "cell_type": "code",
   "execution_count": 4,
   "id": "underlying-target",
   "metadata": {},
   "outputs": [
    {
     "name": "stdout",
     "output_type": "stream",
     "text": [
      "Hola José\n"
     ]
    },
    {
     "ename": "NameError",
     "evalue": "name 'nombre' is not defined",
     "output_type": "error",
     "traceback": [
      "\u001b[0;31m---------------------------------------------------------------------------\u001b[0m",
      "\u001b[0;31mNameError\u001b[0m                                 Traceback (most recent call last)",
      "\u001b[0;32m<ipython-input-4-65975203dbfc>\u001b[0m in \u001b[0;36m<module>\u001b[0;34m\u001b[0m\n\u001b[1;32m      4\u001b[0m     \u001b[0mprint\u001b[0m\u001b[0;34m(\u001b[0m\u001b[0;34mf'Hola {nombre}'\u001b[0m\u001b[0;34m)\u001b[0m\u001b[0;34m\u001b[0m\u001b[0;34m\u001b[0m\u001b[0m\n\u001b[1;32m      5\u001b[0m \u001b[0msaludo\u001b[0m\u001b[0;34m(\u001b[0m\u001b[0;34m)\u001b[0m\u001b[0;34m\u001b[0m\u001b[0;34m\u001b[0m\u001b[0m\n\u001b[0;32m----> 6\u001b[0;31m \u001b[0mprint\u001b[0m\u001b[0;34m(\u001b[0m\u001b[0mnombre\u001b[0m\u001b[0;34m)\u001b[0m\u001b[0;34m\u001b[0m\u001b[0;34m\u001b[0m\u001b[0m\n\u001b[0m",
      "\u001b[0;31mNameError\u001b[0m: name 'nombre' is not defined"
     ]
    }
   ],
   "source": [
    "#variable local \n",
    "def saludo():\n",
    "    #la variable nombre solo puede accederse dentro de  esta función \n",
    "    nombre = \"José\"\n",
    "    print(f'Hola {nombre}')\n",
    "saludo()\n",
    "print(nombre)"
   ]
  },
  {
   "cell_type": "code",
   "execution_count": 5,
   "id": "useful-anatomy",
   "metadata": {},
   "outputs": [
    {
     "name": "stdout",
     "output_type": "stream",
     "text": [
      "Hola José\n",
      "José\n"
     ]
    }
   ],
   "source": [
    "#variable global\n",
    "nombre = \"José\"\n",
    "def saludo():\n",
    "    #la variable nombre solo puede accederse dentro de  esta función \n",
    "    print(f'Hola {nombre}')\n",
    "saludo()\n",
    "print(nombre)"
   ]
  },
  {
   "cell_type": "code",
   "execution_count": 14,
   "id": "ranging-plaintiff",
   "metadata": {},
   "outputs": [
    {
     "name": "stdout",
     "output_type": "stream",
     "text": [
      "11\n",
      "0\n"
     ]
    }
   ],
   "source": [
    "#La vida útil de un espacio de nombres\n",
    "edad = 18\n",
    "def voto():\n",
    "    def no_voto():\n",
    "        voto = True\n",
    "        if edad < 18:\n",
    "            voto = False\n",
    "        "
   ]
  }
 ],
 "metadata": {
  "kernelspec": {
   "display_name": "Python 3",
   "language": "python",
   "name": "python3"
  },
  "language_info": {
   "codemirror_mode": {
    "name": "ipython",
    "version": 3
   },
   "file_extension": ".py",
   "mimetype": "text/x-python",
   "name": "python",
   "nbconvert_exporter": "python",
   "pygments_lexer": "ipython3",
   "version": "3.8.5"
  }
 },
 "nbformat": 4,
 "nbformat_minor": 5
}
