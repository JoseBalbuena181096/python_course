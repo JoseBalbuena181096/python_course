{
 "cells": [
  {
   "cell_type": "markdown",
   "id": "nominated-volume",
   "metadata": {},
   "source": [
    "<h4>Espacios de nombres y ámbito de una variable  en Python, continuación </h4>"
   ]
  },
  {
   "cell_type": "markdown",
   "id": "loved-bolivia",
   "metadata": {},
   "source": [
    "<h4>Espacios de nombres y ámbito de una variable  en Python, continuación </h4>"
   ]
  },
  {
   "cell_type": "code",
   "execution_count": null,
   "id": "civilian-retreat",
   "metadata": {},
   "outputs": [],
   "source": [
    "#modificar una variable global \n",
    "\n",
    "\n",
    "\n"
   ]
  },
  {
   "cell_type": "code",
   "execution_count": null,
   "id": "removed-hopkins",
   "metadata": {},
   "outputs": [],
   "source": [
    "#manera recomendada para poder reutilizar mejor el código  \n",
    "\n",
    "\n",
    "\n",
    "\n"
   ]
  },
  {
   "cell_type": "markdown",
   "id": "sensitive-pencil",
   "metadata": {},
   "source": [
    "<h5>En python 3 hay constantes</h5>\n",
    "<p>\n",
    "En python, no tenemos ninguna palabra reservada que nos permita crear una constante haciendo que esta no se pueda modificar durante el transcurso del programa. Sólo queda declarar una variable con un nombre característico, asignarle un valor y nunca modificarlo.\n",
    "</p>"
   ]
  },
  {
   "cell_type": "code",
   "execution_count": null,
   "id": "innovative-picture",
   "metadata": {},
   "outputs": [],
   "source": [
    "#manera de \"simular una constante\" con una variable global \n",
    "\n",
    "\n"
   ]
  },
  {
   "cell_type": "code",
   "execution_count": 15,
   "id": "recorded-trauma",
   "metadata": {},
   "outputs": [
    {
     "name": "stdout",
     "output_type": "stream",
     "text": [
      "número de vidas 4\n",
      "número de vidas 4\n"
     ]
    }
   ],
   "source": [
    "#modificar una variable global \n",
    "numero_vidas = 3\n",
    "def tomar_pocion():\n",
    "    #incrementar número de vidas\n",
    "    global numero_vidas\n",
    "    numero_vidas += 1    \n",
    "    print(f'número de vidas {numero_vidas}')\n",
    "tomar_pocion()\n",
    "print(f'número de vidas {numero_vidas}')"
   ]
  },
  {
   "cell_type": "code",
   "execution_count": 14,
   "id": "egyptian-psychology",
   "metadata": {},
   "outputs": [
    {
     "name": "stdout",
     "output_type": "stream",
     "text": [
      "número de vidas 4\n"
     ]
    }
   ],
   "source": [
    "#manera recomendada para poder reutilizar mejor el código  \n",
    "numero_vidas = 3\n",
    "def tomar_pocion(numero_vidas):\n",
    "    #incrementar número de vidas\n",
    "    numero_vidas += 1 \n",
    "    return numero_vidas   \n",
    "\n",
    "numero_vidas = tomar_pocion(numero_vidas)\n",
    "print(f'número de vidas {numero_vidas}')"
   ]
  },
  {
   "cell_type": "markdown",
   "id": "informed-twist",
   "metadata": {},
   "source": [
    "<h5>En python 3 hay constantes</h5>\n",
    "<p>\n",
    "En python, no tenemos ninguna palabra reservada que nos permita crear una constante haciendo que esta no se pueda modificar durante el transcurso del programa. Sólo queda declarar una variable con un nombre característico, asignarle un valor y nunca modificarlo.\n",
    "</p>"
   ]
  },
  {
   "cell_type": "code",
   "execution_count": 26,
   "id": "objective-pocket",
   "metadata": {},
   "outputs": [
    {
     "name": "stdout",
     "output_type": "stream",
     "text": [
      "número de vidas 10\n"
     ]
    }
   ],
   "source": [
    "#manera de \"simular una constante\" con una variable global \n",
    "max_vidas = 10\n",
    "numero_vidas = 3\n",
    "def tomar_pocion(numero_vidas):\n",
    "    #incrementar número de vidas\n",
    "    if numero_vidas < max_vidas: \n",
    "        numero_vidas += 1 \n",
    "    return numero_vidas   \n",
    "\n",
    "for i in range(0,100):\n",
    "    numero_vidas = tomar_pocion(numero_vidas)\n",
    "print(f'número de vidas {numero_vidas}')"
   ]
  }
 ],
 "metadata": {
  "kernelspec": {
   "display_name": "Python 3",
   "language": "python",
   "name": "python3"
  },
  "language_info": {
   "codemirror_mode": {
    "name": "ipython",
    "version": 3
   },
   "file_extension": ".py",
   "mimetype": "text/x-python",
   "name": "python",
   "nbconvert_exporter": "python",
   "pygments_lexer": "ipython3",
   "version": "3.8.5"
  }
 },
 "nbformat": 4,
 "nbformat_minor": 5
}
