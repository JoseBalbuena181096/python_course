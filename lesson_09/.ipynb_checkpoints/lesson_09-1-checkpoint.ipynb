{
 "cells": [
  {
   "cell_type": "markdown",
   "id": "impressed-baltimore",
   "metadata": {},
   "source": [
    "<h4>Las funciones con salidas y la palabra return en Python 3</h4>\n",
    "<p>Las funciones pueden ser capaces de poder devolvernos datos, para poder retornar valores Python 3 usa la palabra reservada return.</p>\n",
    "<p>El que una función puede retornar valores facilita la modularidad y reutilización de codigo. </p>"
   ]
  },
  {
   "cell_type": "code",
   "execution_count": null,
   "id": "unauthorized-three",
   "metadata": {},
   "outputs": [],
   "source": [
    "#función sin return\n"
   ]
  },
  {
   "cell_type": "code",
   "execution_count": null,
   "id": "double-palestinian",
   "metadata": {},
   "outputs": [],
   "source": [
    "#función con return\n"
   ]
  },
  {
   "cell_type": "markdown",
   "id": "italic-bikini",
   "metadata": {},
   "source": [
    "<h4>Palíndromos</h4>\n",
    "<p>\n",
    "Un palíndromo (del griego palin dromein, ‘volver a ir atrás’), también llamado palíndroma, es una palabra o frase que se lee igual en un sentido que en otro (por ejemplo, Ana).\n",
    "</p>\n",
    "<center>\n",
    "<img src = \"http://3.bp.blogspot.com/-McDfP3SR2sk/VYRG6Li8mmI/AAAAAAAADek/ozRLIk5cjIc/s1600/palindromo-c%252B%252B.jpg\" width='300'>\n",
    "</center>"
   ]
  },
  {
   "cell_type": "code",
   "execution_count": null,
   "id": "surprising-hormone",
   "metadata": {},
   "outputs": [],
   "source": [
    "#desarrollar un programa para determinar si la palabra es palíndromo\n"
   ]
  },
  {
   "cell_type": "markdown",
   "id": "czech-virgin",
   "metadata": {},
   "source": [
    "<h4>Docstrings</h4>\n",
    "<p>\n",
    "En Python se cuentan con una variable especial llamada doc gracias a la que podemos describir para qué sirven los y cómo se usan los objetos.\n",
    "</p>"
   ]
  },
  {
   "cell_type": "code",
   "execution_count": null,
   "id": "italian-humor",
   "metadata": {},
   "outputs": [],
   "source": [
    "#Imprimir el docstring de la función print\n"
   ]
  },
  {
   "cell_type": "code",
   "execution_count": null,
   "id": "partial-craps",
   "metadata": {},
   "outputs": [],
   "source": [
    "#Imprimir el docstring de nuestra función reverso_str\n"
   ]
  },
  {
   "cell_type": "markdown",
   "id": "young-average",
   "metadata": {},
   "source": [
    "<h4>Las funciones con salidas y la palabra return en Python 3</h4>\n",
    "<p>Las funciones pueden ser capaces de poder devolvernos datos, para poder retornar valores Python 3 usa la palabra reservada return.</p>\n",
    "<p>El que una función puede retornar valores facilita la modularidad y reutilización de codigo. </p>"
   ]
  },
  {
   "cell_type": "code",
   "execution_count": 1,
   "id": "anonymous-column",
   "metadata": {},
   "outputs": [
    {
     "name": "stdout",
     "output_type": "stream",
     "text": [
      "Jose Balbuena\n"
     ]
    }
   ],
   "source": [
    "#función sin return\n",
    "def nombre_completo(nombre,apellido):\n",
    "    nombre = nombre.title()\n",
    "    apellido = apellido.title()\n",
    "    print(f'{nombre} {apellido}')\n",
    "nombre_completo('jose','balbuena')"
   ]
  },
  {
   "cell_type": "code",
   "execution_count": 2,
   "id": "facial-cinema",
   "metadata": {},
   "outputs": [
    {
     "name": "stdout",
     "output_type": "stream",
     "text": [
      "Hola Jose Balbuena\n"
     ]
    }
   ],
   "source": [
    "#función con return\n",
    "def nombre_completo(nombre,apellido):\n",
    "    return(f'{nombre.title()} {apellido.title()}')\n",
    "nombre_pila = nombre_completo('jose','balbuena')\n",
    "print('Hola '+nombre_pila)"
   ]
  },
  {
   "cell_type": "markdown",
   "id": "standard-abraham",
   "metadata": {},
   "source": [
    "<h4>Palíndromos</h4>\n",
    "<p>\n",
    "Un palíndromo (del griego palin dromein, ‘volver a ir atrás’), también llamado palíndroma, es una palabra o frase que se lee igual en un sentido que en otro (por ejemplo, Ana).\n",
    "</p>\n",
    "<center>\n",
    "<img src = \"http://3.bp.blogspot.com/-McDfP3SR2sk/VYRG6Li8mmI/AAAAAAAADek/ozRLIk5cjIc/s1600/palindromo-c%252B%252B.jpg\" width='300'>\n",
    "</center>"
   ]
  },
  {
   "cell_type": "code",
   "execution_count": 3,
   "id": "confirmed-modern",
   "metadata": {},
   "outputs": [
    {
     "name": "stdin",
     "output_type": "stream",
     "text": [
      "Ingrese una palabra reconocer\n"
     ]
    },
    {
     "name": "stdout",
     "output_type": "stream",
     "text": [
      "La palabra reconocer es palindromo reconocer\n"
     ]
    }
   ],
   "source": [
    "#desarrollar un programa para determinar si la palabra es palíndromo\n",
    "def reverso_str(string):\n",
    "    \"\"\"Esta función recibe un string y retorna el string al reverso.\"\"\"\n",
    "    return string[::-1]\n",
    "def es_paindromo(string):\n",
    "    \"\"\"Esta función recibe un palabra y retorna True si es palindromo y False si no lo es.\"\"\"\n",
    "    if string == reverso_str(string):\n",
    "        return True\n",
    "    return False\n",
    "    \n",
    "palabra  = input(\"Ingrese una palabra\")\n",
    "if es_paindromo(palabra):\n",
    "    print(f\"La palabra {palabra} es palindromo {reverso_str(palabra)}\")\n",
    "else:\n",
    "    print(f\"La palabra {palabra} no es palindromo {reverso_str(palabra)}\")"
   ]
  },
  {
   "cell_type": "markdown",
   "id": "encouraging-preparation",
   "metadata": {},
   "source": [
    "<h4>Docstrings</h4>\n",
    "<p>\n",
    "En Python se cuentan con una variable especial llamada doc gracias a la que podemos describir para qué sirven los y cómo se usan los objetos.\n",
    "</p>"
   ]
  },
  {
   "cell_type": "code",
   "execution_count": 4,
   "id": "annual-logging",
   "metadata": {},
   "outputs": [
    {
     "name": "stdout",
     "output_type": "stream",
     "text": [
      "print(value, ..., sep=' ', end='\\n', file=sys.stdout, flush=False)\n",
      "\n",
      "Prints the values to a stream, or to sys.stdout by default.\n",
      "Optional keyword arguments:\n",
      "file:  a file-like object (stream); defaults to the current sys.stdout.\n",
      "sep:   string inserted between values, default a space.\n",
      "end:   string appended after the last value, default a newline.\n",
      "flush: whether to forcibly flush the stream.\n"
     ]
    }
   ],
   "source": [
    "#Imprimir el docstring de la función print \n",
    "print(print.__doc__)"
   ]
  },
  {
   "cell_type": "code",
   "execution_count": 5,
   "id": "superior-franchise",
   "metadata": {},
   "outputs": [
    {
     "name": "stdout",
     "output_type": "stream",
     "text": [
      "Esta función recibe un string y retorna el string al reverso.\n"
     ]
    }
   ],
   "source": [
    "#Imprimir el docstring de nuestra función reverso_str\n",
    "print(reverso_str.__doc__)"
   ]
  }
 ],
 "metadata": {
  "kernelspec": {
   "display_name": "Python 3",
   "language": "python",
   "name": "python3"
  },
  "language_info": {
   "codemirror_mode": {
    "name": "ipython",
    "version": 3
   },
   "file_extension": ".py",
   "mimetype": "text/x-python",
   "name": "python",
   "nbconvert_exporter": "python",
   "pygments_lexer": "ipython3",
   "version": "3.8.5"
  }
 },
 "nbformat": 4,
 "nbformat_minor": 5
}
