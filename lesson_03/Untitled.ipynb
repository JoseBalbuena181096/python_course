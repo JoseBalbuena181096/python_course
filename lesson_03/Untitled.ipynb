{
 "cells": [
  {
   "cell_type": "markdown",
   "metadata": {},
   "source": [
    "<h4>Operadores lógicos</h4>\n",
    "<p>Los operadores lógicos permiten encadenar varias condiciones.</p>\n",
    "<table>\n",
    "    <tr>\n",
    "        <th>and</th>\n",
    "        <th> Y </th>\n",
    "    </tr>\n",
    "    <tr>\n",
    "        <th>or</th>\n",
    "        <th> O </th>\n",
    "    </tr>\n",
    "    <tr>\n",
    "        <th>not</th>\n",
    "        <th> NO </th>\n",
    "    </tr>\n",
    "</table>"
   ]
  },
  {
   "cell_type": "markdown",
   "metadata": {},
   "source": [
    "<h4>Operador and</h4>\n",
    "<img src=\"https://aristoteles2pc.files.wordpress.com/2011/03/tabla-de-verdad.png\"  width=\"100\">"
   ]
  },
  {
   "cell_type": "code",
   "execution_count": 9,
   "metadata": {},
   "outputs": [
    {
     "name": "stdout",
     "output_type": "stream",
     "text": [
      "1\n"
     ]
    }
   ],
   "source": [
    "#ejemplo operador and  \n",
    "A = True\n",
    "B = False\n",
    "if A and B:\n",
    "    print(\"Verdad : 1\")\n",
    "else:\n",
    "    print(\"Falso : 0\")"
   ]
  },
  {
   "cell_type": "markdown",
   "metadata": {},
   "source": [
    "<h4>Operador or</h4>\n",
    "<img src=\"https://aristoteles2pc.files.wordpress.com/2011/03/or1.png\"  width=\"100\" >"
   ]
  },
  {
   "cell_type": "code",
   "execution_count": 12,
   "metadata": {},
   "outputs": [
    {
     "name": "stdout",
     "output_type": "stream",
     "text": [
      "Falso : 0\n"
     ]
    }
   ],
   "source": [
    "#ejemplo operador or \n",
    "A = False\n",
    "B = False\n",
    "if A or B:\n",
    "    print(\"Verdad : 1\")\n",
    "else:\n",
    "    print(\"Falso : 0\")"
   ]
  },
  {
   "cell_type": "markdown",
   "metadata": {},
   "source": [
    "<h4>Operador not</h4>\n",
    "<img src=\"https://aristoteles2pc.files.wordpress.com/2011/03/not1.png\" width=\"100\" >"
   ]
  },
  {
   "cell_type": "code",
   "execution_count": 14,
   "metadata": {
    "scrolled": true
   },
   "outputs": [
    {
     "name": "stdout",
     "output_type": "stream",
     "text": [
      "Falso : 0\n"
     ]
    }
   ],
   "source": [
    "#ejemplo operador not\n",
    "A = True\n",
    "if not A:\n",
    "    print(\"Verdad : 1\")\n",
    "else:\n",
    "    print(\"Falso : 0\")"
   ]
  }
 ],
 "metadata": {
  "kernelspec": {
   "display_name": "Python 3",
   "language": "python",
   "name": "python3"
  },
  "language_info": {
   "codemirror_mode": {
    "name": "ipython",
    "version": 3
   },
   "file_extension": ".py",
   "mimetype": "text/x-python",
   "name": "python",
   "nbconvert_exporter": "python",
   "pygments_lexer": "ipython3",
   "version": "3.8.5"
  }
 },
 "nbformat": 4,
 "nbformat_minor": 4
}
