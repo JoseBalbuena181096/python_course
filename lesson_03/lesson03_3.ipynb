{
 "cells": [
  {
   "cell_type": "markdown",
   "metadata": {},
   "source": [
    "<h4>Estructura de control alternativa multiple (if,elif)</h4>\n",
    "<p>Evalúa una expresión que pueda tomar n opciones y ejecuta una acción o\n",
    "grupo de acciones diferente en función del valor tomado por la\n",
    "expresión selectora.</p>\n",
    "<img src=\"http://1.bp.blogspot.com/-Bcj8nZPq-Vo/TcrdPpEoFuI/AAAAAAAAADI/CwPWdEp9XiE/s1600/3....2.gif\">"
   ]
  },
  {
   "cell_type": "markdown",
   "metadata": {},
   "source": [
    "<h4>Oferta</h4>\n",
    "<p>Una tienda tiene en descuento el litro de leche si compras una cuesta 1 dolar, si compras 2 pagas 1.25 dolares y si compras 3 o más litros pagas la mitad de su precio unitario por litro de leche.</p>"
   ]
  },
  {
   "cell_type": "code",
   "execution_count": null,
   "metadata": {},
   "outputs": [],
   "source": [
    "#programa para calcular tu oferta en tu compra de leche \n"
   ]
  },
  {
   "cell_type": "markdown",
   "metadata": {},
   "source": [
    "<h4>Cálculo del índice de masa corporal</h4>\n",
    "<p>Es una razón matemática que asocia la masa y la talla de un individuo.</p>\n",
    "$$IMC =  \\frac{masa(kg)}{estatura^2(m^2)}$$"
   ]
  },
  {
   "cell_type": "code",
   "execution_count": null,
   "metadata": {},
   "outputs": [],
   "source": [
    "#programa para calcular el IMC\n",
    "#Pregunte por el peso y la altura del usuario\n",
    "\n",
    "#cálculo del IMC \n",
    "\n",
    "#redondear a dos decimales \n",
    "\n",
    "#imprimir estado de salud  \n"
   ]
  },
  {
   "cell_type": "markdown",
   "metadata": {},
   "source": [
    "<h4>Estructura de control alternativa multiple (if,elif)</h4>\n",
    "<p>Evalúa una expresión que pueda tomar n opciones y ejecuta una acción o\n",
    "grupo de acciones diferente en función del valor tomado por la\n",
    "expresión selectora.</p>\n",
    "<img src=\"http://1.bp.blogspot.com/-Bcj8nZPq-Vo/TcrdPpEoFuI/AAAAAAAAADI/CwPWdEp9XiE/s1600/3....2.gif\">"
   ]
  },
  {
   "cell_type": "markdown",
   "metadata": {},
   "source": [
    "<h4>Oferta</h4>\n",
    "<p>Una tienda tiene en descuento el litro de leche si compras una cuesta 1 dolar, si compras 2 pagas 1.25 dolares y si compras 3 o más litros pagas la mitad de su precio unitario por litro de leche.</p>"
   ]
  },
  {
   "cell_type": "code",
   "execution_count": 1,
   "metadata": {},
   "outputs": [
    {
     "name": "stdout",
     "output_type": "stream",
     "text": [
      "¿Cuántos litros de leche va comprar? 4\n",
      "Debes pagar 2.0 dólares\n"
     ]
    }
   ],
   "source": [
    "#programa para calcular tu oferta en tu compra de leche \n",
    "litros_leche = int(input(\"¿Cuántos litros de leche va comprar? \"))\n",
    "if litros_leche == 1:\n",
    "    print(\"Debes pagar 1 dólar.\")\n",
    "elif litros_leche == 2:\n",
    "    print(\"Debes pagar 1.25 dólares\")\n",
    "elif litros_leche >= 3:\n",
    "    print(\"Debes pagar {:.3} dólares\".format(litros_leche*0.50))\n",
    "else:\n",
    "    print(\"Litros de leche incorrectos\")"
   ]
  },
  {
   "cell_type": "markdown",
   "metadata": {},
   "source": [
    "<h4>Cálculo del índice de masa corporal</h4>\n",
    "<p>Es una razón matemática que asocia la masa y la talla de un individuo.</p>\n",
    "$$IMC =  \\frac{masa(kg)}{estatura^2(m^2)}$$"
   ]
  },
  {
   "cell_type": "code",
   "execution_count": 2,
   "metadata": {},
   "outputs": [
    {
     "name": "stdout",
     "output_type": "stream",
     "text": [
      "Ingrese su estatura(m) 1.75\n",
      "Ingrese su peso(kg) 78\n",
      "Tu IMC es de 25.47, tú tienes sobrepeso.\n"
     ]
    }
   ],
   "source": [
    "#programa para calcular el IMC\n",
    "#Pregunte por el peso y la altura del usuario\n",
    "estatura = float(input(\"Ingrese su estatura(m) \"))\n",
    "peso = int(input(\"Ingrese su peso(kg) \"))\n",
    "#cálculo del IMC \n",
    "IMC = peso/estatura**2\n",
    "#redondear a dos decimales    \n",
    "IMC = round(IMC, 2) \n",
    "#imprimir estado de salud  \n",
    "if IMC < 18.5:\n",
    "    print(f'Tu IMC es de {IMC}, tú tienes bajo de peso.')\n",
    "elif IMC < 25:\n",
    "    print(f'Tu IMC es de {IMC}, tú tienes peso normal.')\n",
    "elif IMC < 30:\n",
    "    print(f'Tu IMC es de {IMC}, tú tienes sobrepeso.')\n",
    "elif IMC < 35:\n",
    "    print(f'Tu IMC es de {IMC}, tú tienes obesidad.')\n",
    "else:\n",
    "    print(f'Tu IMC es de {IMC}, tú tienes obesidad mórbida.')"
   ]
  }
 ],
 "metadata": {
  "kernelspec": {
   "display_name": "Python 3",
   "language": "python",
   "name": "python3"
  },
  "language_info": {
   "codemirror_mode": {
    "name": "ipython",
    "version": 3
   },
   "file_extension": ".py",
   "mimetype": "text/x-python",
   "name": "python",
   "nbconvert_exporter": "python",
   "pygments_lexer": "ipython3",
   "version": "3.8.5"
  }
 },
 "nbformat": 4,
 "nbformat_minor": 4
}
