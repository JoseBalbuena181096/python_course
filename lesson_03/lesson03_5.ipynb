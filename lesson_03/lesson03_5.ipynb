{
 "cells": [
  {
   "cell_type": "markdown",
   "metadata": {},
   "source": [
    "<h4>Operadores lógicos</h4>\n",
    "<p>Los operadores lógicos permiten encadenar varias condiciones.</p>\n",
    "<table>\n",
    "    <tr>\n",
    "        <th>and</th>\n",
    "        <th> Y </th>\n",
    "    </tr>\n",
    "    <tr>\n",
    "        <th>or</th>\n",
    "        <th> O </th>\n",
    "    </tr>\n",
    "    <tr>\n",
    "        <th>not</th>\n",
    "        <th> NO </th>\n",
    "    </tr>\n",
    "</table>"
   ]
  },
  {
   "cell_type": "markdown",
   "metadata": {},
   "source": [
    "<h4>Operador and</h4>\n",
    "<center>\n",
    "<img src=\"https://aristoteles2pc.files.wordpress.com/2011/03/tabla-de-verdad.png\"  width=\"100\">\n",
    "</center>"
   ]
  },
  {
   "cell_type": "code",
   "execution_count": null,
   "metadata": {},
   "outputs": [],
   "source": [
    "#ejemplo operador and  "
   ]
  },
  {
   "cell_type": "markdown",
   "metadata": {},
   "source": [
    "<h4>Operador or</h4>\n",
    "<center>\n",
    "<img src=\"https://aristoteles2pc.files.wordpress.com/2011/03/or1.png\"  width=\"100\" >\n",
    "</center>"
   ]
  },
  {
   "cell_type": "code",
   "execution_count": null,
   "metadata": {},
   "outputs": [],
   "source": [
    "#ejemplo operador or "
   ]
  },
  {
   "cell_type": "markdown",
   "metadata": {},
   "source": [
    "<h4>Operador not</h4>\n",
    "<center>\n",
    "<img src=\"https://aristoteles2pc.files.wordpress.com/2011/03/not1.png\" width=\"100\" >\n",
    "</center>"
   ]
  },
  {
   "cell_type": "code",
   "execution_count": null,
   "metadata": {},
   "outputs": [],
   "source": [
    "#ejemplo operador not"
   ]
  },
  {
   "cell_type": "code",
   "execution_count": null,
   "metadata": {},
   "outputs": [],
   "source": [
    "#escribir un programa para determinar el número más grande de tres números"
   ]
  },
  {
   "cell_type": "code",
   "execution_count": null,
   "metadata": {},
   "outputs": [],
   "source": [
    "#escribir un programa para determinar si un caracter es un digito 0,1,2,3,4,5,6,7,8,9"
   ]
  },
  {
   "cell_type": "code",
   "execution_count": null,
   "metadata": {},
   "outputs": [],
   "source": [
    "#programa para poder vender cervezas"
   ]
  },
  {
   "cell_type": "markdown",
   "metadata": {},
   "source": [
    "<h4>Operadores lógicos</h4>\n",
    "<p>Los operadores lógicos permiten encadenar varias condiciones.</p>\n",
    "<table>\n",
    "    <tr>\n",
    "        <th>and</th>\n",
    "        <th> Y </th>\n",
    "    </tr>\n",
    "    <tr>\n",
    "        <th>or</th>\n",
    "        <th> O </th>\n",
    "    </tr>\n",
    "    <tr>\n",
    "        <th>not</th>\n",
    "        <th> NO </th>\n",
    "    </tr>\n",
    "</table>"
   ]
  },
  {
   "cell_type": "markdown",
   "metadata": {},
   "source": [
    "<h4>Operador and</h4>\n",
    "<center>\n",
    "<img src=\"https://aristoteles2pc.files.wordpress.com/2011/03/tabla-de-verdad.png\"  width=\"100\">\n",
    "</center>"
   ]
  },
  {
   "cell_type": "code",
   "execution_count": 1,
   "metadata": {},
   "outputs": [
    {
     "name": "stdout",
     "output_type": "stream",
     "text": [
      "Falso : 0\n"
     ]
    }
   ],
   "source": [
    "#ejemplo operador and  \n",
    "A = True\n",
    "B = False\n",
    "if A and B:\n",
    "    print(\"Verdad : 1\")\n",
    "else:\n",
    "    print(\"Falso : 0\")"
   ]
  },
  {
   "cell_type": "markdown",
   "metadata": {},
   "source": [
    "<h4>Operador or</h4>\n",
    "<center>\n",
    "<img src=\"https://aristoteles2pc.files.wordpress.com/2011/03/or1.png\"  width=\"100\" >\n",
    "</center>"
   ]
  },
  {
   "cell_type": "code",
   "execution_count": 2,
   "metadata": {},
   "outputs": [
    {
     "name": "stdout",
     "output_type": "stream",
     "text": [
      "Falso : 0\n"
     ]
    }
   ],
   "source": [
    "#ejemplo operador or \n",
    "A = False\n",
    "B = False\n",
    "if A or B:\n",
    "    print(\"Verdad : 1\")\n",
    "else:\n",
    "    print(\"Falso : 0\")"
   ]
  },
  {
   "cell_type": "markdown",
   "metadata": {},
   "source": [
    "<h4>Operador not</h4>\n",
    "<center>\n",
    "<img src=\"https://aristoteles2pc.files.wordpress.com/2011/03/not1.png\" width=\"100\" >\n",
    "</center>"
   ]
  },
  {
   "cell_type": "code",
   "execution_count": 3,
   "metadata": {
    "scrolled": true
   },
   "outputs": [
    {
     "name": "stdout",
     "output_type": "stream",
     "text": [
      "Falso : 0\n"
     ]
    }
   ],
   "source": [
    "#ejemplo operador not\n",
    "A = True\n",
    "if not A:\n",
    "    print(\"Verdad : 1\")\n",
    "else:\n",
    "    print(\"Falso : 0\")"
   ]
  },
  {
   "cell_type": "code",
   "execution_count": 4,
   "metadata": {},
   "outputs": [
    {
     "name": "stdout",
     "output_type": "stream",
     "text": [
      "Escribe el primer número 9\n",
      "Escribe el segundo número 87\n",
      "Escribe el tercer número 3\n",
      "El número más grande es 87\n"
     ]
    }
   ],
   "source": [
    "#escribir un programa para determinar el número más grande de tres números  \n",
    "numero_1 = int(input(\"Escribe el primer número \")) \n",
    "numero_2 = int(input(\"Escribe el segundo número \")) \n",
    "numero_3 = int(input(\"Escribe el tercer número \"))\n",
    "\n",
    "mayor = 0\n",
    "if numero_1 > numero_2 and numero_1 > numero_3:\n",
    "    mayor = numero_1\n",
    "elif numero_2 > numero_1 and numero_2 > numero_3:\n",
    "    mayor = numero_2\n",
    "elif numero_3 > numero_1 and numero_3 > numero_2:\n",
    "    mayor = numero_3\n",
    "else:\n",
    "    mayor = numero_1\n",
    "print(f\"El número más grande es {mayor}\")"
   ]
  },
  {
   "cell_type": "code",
   "execution_count": 5,
   "metadata": {},
   "outputs": [
    {
     "name": "stdout",
     "output_type": "stream",
     "text": [
      "Escribe una caracter 6\n",
      "El caracter 6 es un dígito.\n"
     ]
    }
   ],
   "source": [
    "#escribir un programa para determinar si un caracter es un digito 0,1,2,3,4,5,6,7,8,9\n",
    "char = input(\"Escribe una caracter \")\n",
    "if char == '0' or char == '1' or char == '2'or char == '3' or char == '4' or char == '5' or char == '6' or char == '7' or char == '8' or char == '9':\n",
    "    print(\"El caracter \"+char+ \" es un dígito.\")\n",
    "else:\n",
    "    print(\"El caracter \"+char+ \" no es un dígito.\")"
   ]
  },
  {
   "cell_type": "code",
   "execution_count": 6,
   "metadata": {},
   "outputs": [
    {
     "name": "stdout",
     "output_type": "stream",
     "text": [
      "¿Cuántos años tienes? 12\n",
      "No puedes comprar cervezas.\n"
     ]
    }
   ],
   "source": [
    "#programa para poder vender cervezas\n",
    "edad = int(input(\"¿Cuántos años tienes? \"))\n",
    "if not edad >= 18:\n",
    "    print(\"No puedes comprar cervezas.\")\n",
    "else:\n",
    "    print(\"Puedes comprar cervezas.\")"
   ]
  }
 ],
 "metadata": {
  "kernelspec": {
   "display_name": "Python 3",
   "language": "python",
   "name": "python3"
  },
  "language_info": {
   "codemirror_mode": {
    "name": "ipython",
    "version": 3
   },
   "file_extension": ".py",
   "mimetype": "text/x-python",
   "name": "python",
   "nbconvert_exporter": "python",
   "pygments_lexer": "ipython3",
   "version": "3.8.5"
  }
 },
 "nbformat": 4,
 "nbformat_minor": 4
}
