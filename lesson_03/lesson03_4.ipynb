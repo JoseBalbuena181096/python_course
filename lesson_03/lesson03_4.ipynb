{
 "cells": [
  {
   "cell_type": "markdown",
   "metadata": {},
   "source": [
    "<h4>Cómo determinar si un año es un año bisiesto</h4>\n",
    "<p>Para determinar si un año es bisiesto, siga estos pasos:</p>\n",
    "<ol>\n",
    "<li>Si el año es uniformemente divisible por 4, vaya al paso 2. De lo contrario, vaya al paso 5.</li>\n",
    "<li>Si el año es uniformemente divisible por 100, vaya al paso 3. De lo contrario, vaya al paso 4.</li>\n",
    "<li>Si el año es uniformemente divisible por 400, vaya al paso 4. De lo contrario, vaya al paso 5.</li>\n",
    "<li>El año es un año bisiesto (tiene 366 días).</li>\n",
    "<li>El año no es un año bisiesto (tiene 365 días).</li>\n",
    "</ol>"
   ]
  },
  {
   "cell_type": "code",
   "execution_count": null,
   "metadata": {},
   "outputs": [],
   "source": [
    "#programa para saber si un año es bisiesto\n",
    "\n",
    "#determinar si un año es bisiesto"
   ]
  },
  {
   "cell_type": "markdown",
   "metadata": {},
   "source": [
    "<h4>Venta de hamburguesas Mc Burger</h4>\n",
    "<p>Realizar un programa para calcular el total a pagar en la compra de un paquete de hamburguesa.</p>\n",
    "<img src=\"https://media.istockphoto.com/photos/fish-and-chips-burger-with-fried-potato-straw-fresh-salad-picture-id623116580?k=6&m=623116580&s=170667a&w=0&h=A62y7J_HmSIHezmYL5BAwlEi5ws5saUbVNzTMaMYFwo=\" width=\"300\">\n",
    "\n",
    "<ul>\n",
    "    <li>Hamburguesa pequeña: &#65284; 4</li>\n",
    "    <li>Hamburguesa mediana: &#65284; 7</li>\n",
    "    <li>Hamburguesa grande: &#65284; 10</li>\n",
    "</ul>\n",
    "<ul>\n",
    "    <li>Ración de papas para hamburguesa pequeña: &#65284; 1</li>\n",
    "    <li>Ración de papas para hamburguesa mediana y grande: &#65284; 2</li>\n",
    "</ul>\n",
    "<ul>\n",
    "    <li>Refresco: &#65284; 2</li>\n",
    "</ul>"
   ]
  },
  {
   "cell_type": "code",
   "execution_count": null,
   "metadata": {},
   "outputs": [],
   "source": [
    "#Imprime un saludo de bienvenida \n",
    "\n",
    "#calcular el pago a realizar \n",
    "\n",
    "#imprimir pago \n"
   ]
  },
  {
   "cell_type": "markdown",
   "metadata": {},
   "source": [
    "<h4>Cómo determinar si un año es un año bisiesto</h4>\n",
    "<p>Para determinar si un año es bisiesto, siga estos pasos:</p>\n",
    "<ol>\n",
    "<li>Si el año es uniformemente divisible por 4, vaya al paso 2. De lo contrario, vaya al paso 5.</li>\n",
    "<li>Si el año es uniformemente divisible por 100, vaya al paso 3. De lo contrario, vaya al paso 4.</li>\n",
    "<li>Si el año es uniformemente divisible por 400, vaya al paso 4. De lo contrario, vaya al paso 5.</li>\n",
    "<li>El año es un año bisiesto (tiene 366 días).</li>\n",
    "<li>El año no es un año bisiesto (tiene 365 días).</li>\n",
    "</ol>"
   ]
  },
  {
   "cell_type": "code",
   "execution_count": 1,
   "metadata": {},
   "outputs": [
    {
     "name": "stdout",
     "output_type": "stream",
     "text": [
      "Ingrese un año 1996\n",
      "El año 1996 es bisiesto\n"
     ]
    }
   ],
   "source": [
    "#programa para saber si un año es bisiesto\n",
    "año = int(input('Ingrese un año '))\n",
    "#determinar si un año es bisiesto \n",
    "if año%4 == 0:\n",
    "    if año%100 == 0:\n",
    "        if año%400 == 0:\n",
    "            print(f'El año {año} es bisiesto')\n",
    "        else:\n",
    "            print(f'El año {año} no es bisiesto')\n",
    "    else:\n",
    "        print(f'El año {año} es bisiesto')\n",
    "else:\n",
    "    print(f'El año {año} no es bisiesto')"
   ]
  },
  {
   "cell_type": "markdown",
   "metadata": {},
   "source": [
    "<h4>Venta de hamburguesas Mc Burger</h4>\n",
    "<p>Realizar un programa para calcular el total a pagar en la compra de un paquete de hamburguesa.</p>\n",
    "<img src=\"https://media.istockphoto.com/photos/fish-and-chips-burger-with-fried-potato-straw-fresh-salad-picture-id623116580?k=6&m=623116580&s=170667a&w=0&h=A62y7J_HmSIHezmYL5BAwlEi5ws5saUbVNzTMaMYFwo=\" width=\"300\"> \n",
    "\n",
    "<ul>\n",
    "    <li>Hamburguesa pequeña: &#65284; 4</li>\n",
    "    <li>Hamburguesa mediana: &#65284; 7</li>\n",
    "    <li>Hamburguesa grande: &#65284; 10</li>\n",
    "</ul>\n",
    "<ul>\n",
    "    <li>Ración de papas para hamburguesa pequeña: &#65284; 1</li>\n",
    "    <li>Ración de papas para hamburguesa mediana y grande: &#65284; 2</li>\n",
    "</ul>\n",
    "<ul>\n",
    "    <li>Refresco: &#65284; 2</li>\n",
    "</ul>"
   ]
  },
  {
   "cell_type": "code",
   "execution_count": 1,
   "metadata": {},
   "outputs": [
    {
     "name": "stdout",
     "output_type": "stream",
     "text": [
      "\"Bienvenido a  Mc Burger\"\n",
      "¿Qué tamaño de hamburguesa desea?,C,M ó G\n",
      "c\n",
      "¿Quieres añadir papas a tu hamburguesa?,S ó N\n",
      "s\n",
      "¿Quieres refresco?, S ó N\n",
      "s\n",
      "Tu total a pagar es de 7 dólares\n"
     ]
    }
   ],
   "source": [
    "#Imprime un saludo de bienvenida \n",
    "print('\"Bienvenido a  Mc Burger\"')\n",
    "tamaño_hmb = input(\"¿Qué tamaño de hamburguesa desea?,C,M ó G\\n\").upper()\n",
    "añadir_papas = input(\"¿Quieres añadir papas a tu hamburguesa?,S ó N\\n\").upper()\n",
    "refresco = input(\"¿Quieres refresco?, S ó N\\n\").upper()\n",
    "#calcular el pago a realizar \n",
    "pago = 0\n",
    "if tamaño_hmb == \"C\":\n",
    "    pago += 4\n",
    "elif tamaño_hmb == \"M\":\n",
    "    pago += 7\n",
    "elif tamaño_hmb == \"G\":\n",
    "    pago += 10\n",
    "if añadir_papas == \"S\":\n",
    "    if tamaño_hmb == \"C\":\n",
    "        pago += 1\n",
    "    else:\n",
    "        pago += 2\n",
    "if refresco == \"S\":\n",
    "    pago += 2\n",
    "#imprimir pago \n",
    "print(f\"Tu total a pagar es de {pago} dólares\")"
   ]
  }
 ],
 "metadata": {
  "kernelspec": {
   "display_name": "Python 3",
   "language": "python",
   "name": "python3"
  },
  "language_info": {
   "codemirror_mode": {
    "name": "ipython",
    "version": 3
   },
   "file_extension": ".py",
   "mimetype": "text/x-python",
   "name": "python",
   "nbconvert_exporter": "python",
   "pygments_lexer": "ipython3",
   "version": "3.8.5"
  }
 },
 "nbformat": 4,
 "nbformat_minor": 4
}
