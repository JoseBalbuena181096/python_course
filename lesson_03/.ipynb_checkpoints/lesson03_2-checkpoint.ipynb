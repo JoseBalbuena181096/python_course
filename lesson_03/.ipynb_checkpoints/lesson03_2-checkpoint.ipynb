{
 "cells": [
  {
   "cell_type": "markdown",
   "metadata": {},
   "source": [
    "<h4>Estructura de control alternativa simple (if)</h4>\n",
    "<p>Evalúa una expresión lógica y ejecuta una acción (o grupo de acciones)\n",
    "si es cierta y no hace nada si es falsa.</p>\n",
    "<img src=\"https://2.bp.blogspot.com/-BxJOm0Mlr5M/W-BHcMlj_uI/AAAAAAAABZg/oibIRwPdPqUSdqKySgg1HUfvr0zFGtA3wCK4BGAYYCw/s1600/Captura%2Bde%2Bpantalla%2B2018-11-05%2Ba%2Blas%2B7.34.55%2Ba.m..png\">"
   ]
  },
  {
   "cell_type": "markdown",
   "metadata": {},
   "source": [
    "<h4>Operadores de comparación o relacionales</h4>\n",
    "<p>Son muy similares a los operadores matemáticos que empleamos para establecer relaciones entre valores o propiedades.</p>\n",
    "<table>\n",
    "  <tr>\n",
    "    <th>Símbolo</th>  \n",
    "    <th>Relación</th>  \n",
    "  </tr>\n",
    "  <tr>\n",
    "    <th>&lt;</th>  \n",
    "    <th>Menor que</th>  \n",
    "  </tr>\n",
    "  <tr>\n",
    "    <th>&gt;</th>  \n",
    "    <th>Mayor que</th>  \n",
    "  </tr>\n",
    "  <tr>\n",
    "    <th>&lt;&#61;</th>  \n",
    "    <th>Menor o igual que</th>  \n",
    "  </tr>\n",
    "  <tr>\n",
    "    <th>&gt;&#61;</th>  \n",
    "    <th>Mayor o igual que</th>  \n",
    "  </tr>\n",
    "  <tr>\n",
    "    <th>&#61;&#61;</th>  \n",
    "    <th>Igual a</th>  \n",
    "  </tr>\n",
    "  <tr>\n",
    "    <th>&#33;&#61;</th>  \n",
    "    <th>Distinto de</th>  \n",
    "  </tr>\n",
    "</table>"
   ]
  },
  {
   "cell_type": "code",
   "execution_count": null,
   "metadata": {},
   "outputs": [],
   "source": [
    "#programa para saber si puedes votar\n",
    "\n",
    "#decir si puedes votar\n"
   ]
  },
  {
   "cell_type": "markdown",
   "metadata": {},
   "source": [
    "<h4>Estructura de control alternativa doble (if,else)</h4>\n",
    "<p>Ejecuta una acción (o grupo de acciones) si la\n",
    "expresión es cierta y otra acción (o grupo) si es falsa.</p>\n",
    "<img src=\"https://www.ediciones-eni.com/Open/download/c0c62dcc-3a7e-46cd-9d56-a89811859b0b/images/04FIG04.png\">"
   ]
  },
  {
   "cell_type": "code",
   "execution_count": null,
   "metadata": {},
   "outputs": [],
   "source": [
    "#programa para saber si puedes votar\n",
    "\n",
    "#decir si puedes votar\n"
   ]
  },
  {
   "cell_type": "code",
   "execution_count": null,
   "metadata": {},
   "outputs": [],
   "source": [
    "#programa para determinar si un número par\n",
    "\n",
    "#decidir si el número es par\n"
   ]
  },
  {
   "cell_type": "markdown",
   "metadata": {},
   "source": [
    "<h4>Estructura de control alternativa simple (if)</h4>\n",
    "<p>Evalúa una expresión lógica y ejecuta una acción (o grupo de acciones)\n",
    "si es cierta y no hace nada si es falsa.</p>\n",
    "<img src=\"https://2.bp.blogspot.com/-BxJOm0Mlr5M/W-BHcMlj_uI/AAAAAAAABZg/oibIRwPdPqUSdqKySgg1HUfvr0zFGtA3wCK4BGAYYCw/s1600/Captura%2Bde%2Bpantalla%2B2018-11-05%2Ba%2Blas%2B7.34.55%2Ba.m..png\">"
   ]
  },
  {
   "cell_type": "markdown",
   "metadata": {},
   "source": [
    "<h4>Operadores de comparación o relacionales</h4>\n",
    "<p>Son muy similares a los operadores matemáticos que empleamos para establecer relaciones entre valores o propiedades.</p>\n",
    "<table>\n",
    "  <tr>\n",
    "    <th>Símbolo</th>  \n",
    "    <th>Relación</th>  \n",
    "  </tr>\n",
    "  <tr>\n",
    "    <th>&lt;</th>  \n",
    "    <th>Menor que</th>  \n",
    "  </tr>\n",
    "  <tr>\n",
    "    <th>&gt;</th>  \n",
    "    <th>Mayor que</th>  \n",
    "  </tr>\n",
    "  <tr>\n",
    "    <th>&lt;&#61;</th>  \n",
    "    <th>Menor o igual que</th>  \n",
    "  </tr>\n",
    "  <tr>\n",
    "    <th>&gt;&#61;</th>  \n",
    "    <th>Mayor o igual que</th>  \n",
    "  </tr>\n",
    "  <tr>\n",
    "    <th>&#61;&#61;</th>  \n",
    "    <th>Igual a</th>  \n",
    "  </tr>\n",
    "  <tr>\n",
    "    <th>&#33;&#61;</th>  \n",
    "    <th>Distinto de</th>  \n",
    "  </tr>\n",
    "</table>"
   ]
  },
  {
   "cell_type": "code",
   "execution_count": 1,
   "metadata": {
    "scrolled": true
   },
   "outputs": [
    {
     "name": "stdout",
     "output_type": "stream",
     "text": [
      "¿Cuántos años tienes? 24\n",
      "Eres mayor de edad, puedes votar.\n"
     ]
    }
   ],
   "source": [
    "#programa para saber si puedes votar\n",
    "edad = int(input(\"¿Cuántos años tienes? \"))\n",
    "#decir si puedes votar\n",
    "if edad >= 18:\n",
    "    print(\"Eres mayor de edad, puedes votar.\")"
   ]
  },
  {
   "cell_type": "markdown",
   "metadata": {},
   "source": [
    "<h4>Estructura de control alternativa doble (if,else)</h4>\n",
    "<p>Ejecuta una acción (o grupo de acciones) si la\n",
    "expresión es cierta y otra acción (o grupo) si es falsa.</p>\n",
    "<img src=\"https://www.ediciones-eni.com/Open/download/c0c62dcc-3a7e-46cd-9d56-a89811859b0b/images/04FIG04.png\">"
   ]
  },
  {
   "cell_type": "code",
   "execution_count": 2,
   "metadata": {},
   "outputs": [
    {
     "name": "stdout",
     "output_type": "stream",
     "text": [
      "¿Cuántos años tienes? 12\n",
      "No eres mayor de edad, no puedes votar.\n"
     ]
    }
   ],
   "source": [
    "#programa para saber si puedes votar\n",
    "edad = int(input(\"¿Cuántos años tienes? \"))\n",
    "#decir si puedes votar\n",
    "if edad >= 18:\n",
    "    print(\"Eres mayor de edad, puedes votar.\")\n",
    "else:\n",
    "    print(\"No eres mayor de edad, no puedes votar.\")"
   ]
  },
  {
   "cell_type": "code",
   "execution_count": 3,
   "metadata": {},
   "outputs": [
    {
     "name": "stdout",
     "output_type": "stream",
     "text": [
      "Ingrese un número 4\n",
      "El número 4 es par\n"
     ]
    }
   ],
   "source": [
    "#programa para determinar si un número par\n",
    "numero = int(input(\"Ingrese un número \"))\n",
    "#decidir si el número es par\n",
    "if numero%2 == 0:\n",
    "    print(\"El número {} es par\".format(numero))\n",
    "else:\n",
    "    print(\"el número {} es impar\".format(numero))"
   ]
  }
 ],
 "metadata": {
  "kernelspec": {
   "display_name": "Python 3",
   "language": "python",
   "name": "python3"
  },
  "language_info": {
   "codemirror_mode": {
    "name": "ipython",
    "version": 3
   },
   "file_extension": ".py",
   "mimetype": "text/x-python",
   "name": "python",
   "nbconvert_exporter": "python",
   "pygments_lexer": "ipython3",
   "version": "3.8.5"
  }
 },
 "nbformat": 4,
 "nbformat_minor": 4
}
