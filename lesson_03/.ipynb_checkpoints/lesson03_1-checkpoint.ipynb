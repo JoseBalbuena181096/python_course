{
 "cells": [
  {
   "cell_type": "markdown",
   "metadata": {},
   "source": [
    "<h4>Estructuras de Control</h4>\n",
    "<p>Hasta ahora hemos realizado programas que consisten en simples secuencias de instrucciones. Para poder resolver tareas más complejas con nuestros programas es necesario hacer uso de las estructuras de control.</p>\n",
    "<p>Existen 3 tipos fundamentales de estructuras de control:</p>\n",
    "<ul>\n",
    "    <li>Secuencial.</li>\n",
    "    <li>Alternativa.</li>\n",
    "    <li>Repetitiva.</li>\n",
    "</ul>"
   ]
  },
  {
   "cell_type": "markdown",
   "metadata": {},
   "source": [
    "<h4>Secuencial</h4>\n",
    "<p>La más sencilla, simplemente indica una secuencia de acciones a ser ejecutadas de forma consecutiva.</p>\n",
    "<img src=\"https://4.bp.blogspot.com/-S-IJ06PYYf4/VCicJc6lzII/AAAAAAAAA90/q5naLCD867k/s1600/es.png\">\n",
    "Esta es la forma en que hemos realizado previamente nuestro programas. "
   ]
  },
  {
   "cell_type": "code",
   "execution_count": 1,
   "metadata": {},
   "outputs": [
    {
     "name": "stdout",
     "output_type": "stream",
     "text": [
      "¿Cuál es tu nombre? José\n",
      "Hola José!\n"
     ]
    }
   ],
   "source": [
    "# ejemplo de una estructura de control secuencial\n",
    "nombre  = input(\"¿Cuál es tu nombre? \")\n",
    "print(\"Hola \"+nombre+\"!\")"
   ]
  }
 ],
 "metadata": {
  "kernelspec": {
   "display_name": "Python 3",
   "language": "python",
   "name": "python3"
  },
  "language_info": {
   "codemirror_mode": {
    "name": "ipython",
    "version": 3
   },
   "file_extension": ".py",
   "mimetype": "text/x-python",
   "name": "python",
   "nbconvert_exporter": "python",
   "pygments_lexer": "ipython3",
   "version": "3.8.5"
  }
 },
 "nbformat": 4,
 "nbformat_minor": 4
}
