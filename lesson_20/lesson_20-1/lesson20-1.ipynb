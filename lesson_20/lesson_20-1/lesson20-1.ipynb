{
 "cells": [
  {
   "cell_type": "markdown",
   "id": "spiritual-headset",
   "metadata": {},
   "source": [
    "<h2>Lectura y escritura de archivos con Python 3</h2>"
   ]
  },
  {
   "cell_type": "code",
   "execution_count": null,
   "id": "inappropriate-emphasis",
   "metadata": {},
   "outputs": [],
   "source": [
    "#apertura de un archivo txt modo lectura\n",
    "\n",
    "#debemos cerrar el archivo \n"
   ]
  },
  {
   "cell_type": "code",
   "execution_count": null,
   "id": "acceptable-affiliate",
   "metadata": {},
   "outputs": [],
   "source": [
    "#apertura de un archivo txt modo escritura\n",
    "\n",
    "#debemos cerrar el archivo \n"
   ]
  },
  {
   "cell_type": "markdown",
   "id": "decent-drilling",
   "metadata": {},
   "source": [
    "La manera segura de abrir y cerrar nuestros archivos en python 3 es de la siguiente forma."
   ]
  },
  {
   "cell_type": "code",
   "execution_count": null,
   "id": "skilled-bridges",
   "metadata": {},
   "outputs": [],
   "source": [
    "#haciendo uso de with y as \n"
   ]
  },
  {
   "cell_type": "code",
   "execution_count": null,
   "id": "cardiovascular-insertion",
   "metadata": {},
   "outputs": [],
   "source": [
    "#en modo escritura de varias lineas\n"
   ]
  },
  {
   "cell_type": "code",
   "execution_count": null,
   "id": "consolidated-conference",
   "metadata": {},
   "outputs": [],
   "source": [
    "#en modo lectura de varias lineas\n"
   ]
  },
  {
   "cell_type": "code",
   "execution_count": null,
   "id": "local-funds",
   "metadata": {},
   "outputs": [],
   "source": [
    "#en modo lectura de varias lineas iterativamente \n"
   ]
  },
  {
   "cell_type": "markdown",
   "id": "sought-electric",
   "metadata": {},
   "source": [
    "<h2>Lectura y escritura de archivos con Python 3</h2>"
   ]
  },
  {
   "cell_type": "code",
   "execution_count": 3,
   "id": "desirable-basketball",
   "metadata": {},
   "outputs": [
    {
     "output_type": "stream",
     "name": "stdout",
     "text": [
      "Hola mundo desde un archivo\nFalse\n"
     ]
    }
   ],
   "source": [
    "#apertura de un archivo txt modo lectura\n",
    "file = open('saludo.txt','r')\n",
    "contenido = file.read()\n",
    "print(contenido)\n",
    "print(file.closed)\n",
    "#debemos cerrar el archivo \n",
    "file.close()"
   ]
  },
  {
   "cell_type": "code",
   "execution_count": 6,
   "id": "unusual-ranking",
   "metadata": {},
   "outputs": [],
   "source": [
    "#apertura de un archivo txt modo escritura\n",
    "file = open('saludo.txt','w')\n",
    "nombre = 'Mi nombre es José'\n",
    "file.write(nombre)\n",
    "#debemos cerrar el archivo \n",
    "file.close()"
   ]
  },
  {
   "cell_type": "markdown",
   "id": "intelligent-pendant",
   "metadata": {},
   "source": [
    "La manera segura de abrir y cerrar nuestros archivos en python 3 es de la siguiente forma."
   ]
  },
  {
   "cell_type": "code",
   "execution_count": 8,
   "id": "weird-orange",
   "metadata": {},
   "outputs": [
    {
     "output_type": "stream",
     "name": "stdout",
     "text": [
      "Mi nombre es José\nTrue\n"
     ]
    }
   ],
   "source": [
    "#haciendo uso de with y as \n",
    "with open('saludo.txt') as file:\n",
    "    contenido = file.read()\n",
    "    print(contenido)\n",
    "print(file.closed)"
   ]
  },
  {
   "cell_type": "code",
   "execution_count": 9,
   "id": "another-duration",
   "metadata": {},
   "outputs": [],
   "source": [
    "#en modo escritura de varias lineas\n",
    "with open('saludo.txt', mode='w') as file:\n",
    "    for _ in range(10):\n",
    "        file.writelines(f'Hola mundo {_+1}\\n')"
   ]
  },
  {
   "cell_type": "code",
   "execution_count": 10,
   "id": "medical-christian",
   "metadata": {},
   "outputs": [
    {
     "output_type": "stream",
     "name": "stdout",
     "text": [
      "Hola mundo 1\nHola mundo 2\nHola mundo 3\nHola mundo 4\nHola mundo 5\nHola mundo 6\nHola mundo 7\nHola mundo 8\nHola mundo 9\nHola mundo 10\n"
     ]
    }
   ],
   "source": [
    "#en modo lectura de varias lineas\n",
    "with open('saludo.txt', mode='r') as file:\n",
    "    linea = file.readline()\n",
    "    while linea != '':\n",
    "        print(linea, end='')\n",
    "        #actualizamos la siguiente a siguiente línea\n",
    "        linea = file.readline()"
   ]
  },
  {
   "cell_type": "code",
   "execution_count": 11,
   "id": "descending-template",
   "metadata": {},
   "outputs": [
    {
     "output_type": "stream",
     "name": "stdout",
     "text": [
      "Hola mundo 1\nHola mundo 2\nHola mundo 3\nHola mundo 4\nHola mundo 5\nHola mundo 6\nHola mundo 7\nHola mundo 8\nHola mundo 9\nHola mundo 10\n"
     ]
    }
   ],
   "source": [
    "#en modo lectura de varias lineas iterativamente \n",
    "with open('saludo.txt', mode='r') as file:\n",
    "    for linea in file:\n",
    "        print(linea, end='')"
   ]
  },
  {
   "cell_type": "code",
   "execution_count": null,
   "metadata": {},
   "outputs": [],
   "source": []
  }
 ],
 "metadata": {
  "kernelspec": {
   "display_name": "Python 3",
   "language": "python",
   "name": "python3"
  },
  "language_info": {
   "codemirror_mode": {
    "name": "ipython",
    "version": 3
   },
   "file_extension": ".py",
   "mimetype": "text/x-python",
   "name": "python",
   "nbconvert_exporter": "python",
   "pygments_lexer": "ipython3",
   "version": "3.8.5-final"
  }
 },
 "nbformat": 4,
 "nbformat_minor": 5
}