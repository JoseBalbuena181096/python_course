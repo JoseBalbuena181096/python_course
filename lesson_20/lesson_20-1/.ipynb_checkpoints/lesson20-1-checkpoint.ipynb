{
 "cells": [
  {
   "cell_type": "markdown",
   "id": "spiritual-headset",
   "metadata": {},
   "source": [
    "<h2>Lectura y escritura de archivos con Python 3</h2>"
   ]
  },
  {
   "cell_type": "code",
   "execution_count": null,
   "id": "inappropriate-emphasis",
   "metadata": {},
   "outputs": [],
   "source": [
    "#apertura de un archivo txt modo lectura\n",
    "\n",
    "#debemos cerrar el archivo \n"
   ]
  },
  {
   "cell_type": "code",
   "execution_count": null,
   "id": "acceptable-affiliate",
   "metadata": {},
   "outputs": [],
   "source": [
    "#apertura de un archivo txt modo escritura\n",
    "\n",
    "#debemos cerrar el archivo \n"
   ]
  },
  {
   "cell_type": "markdown",
   "id": "decent-drilling",
   "metadata": {},
   "source": [
    "La manera segura de abrir y cerrar nuestros archivos en python 3 es de la siguiente forma."
   ]
  },
  {
   "cell_type": "code",
   "execution_count": null,
   "id": "skilled-bridges",
   "metadata": {},
   "outputs": [],
   "source": [
    "#haciendo uso de with y as \n"
   ]
  },
  {
   "cell_type": "code",
   "execution_count": null,
   "id": "cardiovascular-insertion",
   "metadata": {},
   "outputs": [],
   "source": [
    "#en modo escritura de varias lineas\n"
   ]
  },
  {
   "cell_type": "code",
   "execution_count": null,
   "id": "consolidated-conference",
   "metadata": {},
   "outputs": [],
   "source": [
    "#en modo lectura de varias lineas\n"
   ]
  },
  {
   "cell_type": "code",
   "execution_count": null,
   "id": "local-funds",
   "metadata": {},
   "outputs": [],
   "source": [
    "#en modo lectura de varias lineas iterativamente \n"
   ]
  },
  {
   "cell_type": "markdown",
   "id": "sought-electric",
   "metadata": {},
   "source": [
    "<h2>Lectura y escritura de archivos con Python 3</h2>"
   ]
  },
  {
   "cell_type": "code",
   "execution_count": 19,
   "id": "desirable-basketball",
   "metadata": {},
   "outputs": [
    {
     "name": "stdout",
     "output_type": "stream",
     "text": [
      "Hola mundo desde archivo\n",
      "\n",
      "False\n"
     ]
    }
   ],
   "source": [
    "#apertura de un archivo txt modo lectura\n",
    "file = open('saludo.txt','r')\n",
    "contenido = file.read()\n",
    "print(contenido)\n",
    "print(file.closed)\n",
    "#debemos cerrar el archivo \n",
    "file.close()"
   ]
  },
  {
   "cell_type": "code",
   "execution_count": 20,
   "id": "unusual-ranking",
   "metadata": {},
   "outputs": [],
   "source": [
    "#apertura de un archivo txt modo escritura\n",
    "file = open('saludo.txt','w')\n",
    "nombre = 'Mi nombre es José'\n",
    "file.write(nombre)\n",
    "#debemos cerrar el archivo \n",
    "file.close()"
   ]
  },
  {
   "cell_type": "markdown",
   "id": "intelligent-pendant",
   "metadata": {},
   "source": [
    "La manera segura de abrir y cerrar nuestros archivos en python 3 es de la siguiente forma."
   ]
  },
  {
   "cell_type": "code",
   "execution_count": 21,
   "id": "weird-orange",
   "metadata": {},
   "outputs": [
    {
     "name": "stdout",
     "output_type": "stream",
     "text": [
      "Mi nombre es José\n",
      "True\n"
     ]
    }
   ],
   "source": [
    "#haciendo uso de with y as \n",
    "with open('saludo.txt') as file:\n",
    "    contenido = file.read()\n",
    "    print(contenido)\n",
    "print(file.closed)"
   ]
  },
  {
   "cell_type": "code",
   "execution_count": 30,
   "id": "another-duration",
   "metadata": {},
   "outputs": [],
   "source": [
    "#en modo escritura de varias lineas\n",
    "with open('saludo.txt', mode='w') as file:\n",
    "    for _ in range(10):\n",
    "        file.writelines(f'Hola mundo {_+1}\\n')"
   ]
  },
  {
   "cell_type": "code",
   "execution_count": 31,
   "id": "medical-christian",
   "metadata": {},
   "outputs": [
    {
     "name": "stdout",
     "output_type": "stream",
     "text": [
      "Hola mundo 1\n",
      "Hola mundo 2\n",
      "Hola mundo 3\n",
      "Hola mundo 4\n",
      "Hola mundo 5\n",
      "Hola mundo 6\n",
      "Hola mundo 7\n",
      "Hola mundo 8\n",
      "Hola mundo 9\n",
      "Hola mundo 10\n"
     ]
    }
   ],
   "source": [
    "#en modo lectura de varias lineas\n",
    "with open('saludo.txt', mode='r') as file:\n",
    "    linea = file.readline()\n",
    "    while linea != '':\n",
    "        print(linea, end='')\n",
    "        #actualizamos la siguiente a siguiente línea\n",
    "        linea = file.readline()"
   ]
  },
  {
   "cell_type": "code",
   "execution_count": 32,
   "id": "descending-template",
   "metadata": {},
   "outputs": [
    {
     "name": "stdout",
     "output_type": "stream",
     "text": [
      "Hola mundo 1\n",
      "Hola mundo 2\n",
      "Hola mundo 3\n",
      "Hola mundo 4\n",
      "Hola mundo 5\n",
      "Hola mundo 6\n",
      "Hola mundo 7\n",
      "Hola mundo 8\n",
      "Hola mundo 9\n",
      "Hola mundo 10\n"
     ]
    }
   ],
   "source": [
    "#en modo lectura de varias lineas iterativamente \n",
    "with open('saludo.txt', mode='r') as file:\n",
    "    for linea in file:\n",
    "        print(linea, end='')"
   ]
  }
 ],
 "metadata": {
  "kernelspec": {
   "display_name": "Python 3",
   "language": "python",
   "name": "python3"
  },
  "language_info": {
   "codemirror_mode": {
    "name": "ipython",
    "version": 3
   },
   "file_extension": ".py",
   "mimetype": "text/x-python",
   "name": "python",
   "nbconvert_exporter": "python",
   "pygments_lexer": "ipython3",
   "version": "3.8.5"
  }
 },
 "nbformat": 4,
 "nbformat_minor": 5
}
