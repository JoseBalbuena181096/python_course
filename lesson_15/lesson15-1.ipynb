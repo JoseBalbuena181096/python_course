{
 "cells": [
  {
   "cell_type": "markdown",
   "id": "powered-addiction",
   "metadata": {},
   "source": [
    "<h4>El módulo turtle- Gráficos de tortugas</h4> \n",
    "<p>\n",
    " Los gráficos de tortugas son una forma popular de presentar la programación a los niños. \n",
    "</p>\n",
    "<p>\n",
    "Imagine una tortuga robótica que comienza en (0, 0) en el plano xy. Después de andar , dale el comando y se mueve (¡en la pantalla!) 15 píxeles en la dirección en la que mira, dibujando una línea a medida que se mueve. Déle el comando y girará en el lugar 25 grados en el sentido de las agujas del reloj. \n",
    "</p>\n",
    "<p>instalar modulo pip install PythonTurtle </p>\n",
    "<a href=\"https://docs.python.org/3/library/turtle.html#:~:text=Turtle%20graphics%20is%20a%20popular%20way%20for%20introducing%20programming%20to%20kids.&text=The%20turtle%20module%20is%20an,)%20100%25%20compatible%20with%20it.\">Documentación </a>\n"
   ]
  }
 ],
 "metadata": {
  "kernelspec": {
   "display_name": "Python 3",
   "language": "python",
   "name": "python3"
  },
  "language_info": {
   "codemirror_mode": {
    "name": "ipython",
    "version": 3
   },
   "file_extension": ".py",
   "mimetype": "text/x-python",
   "name": "python",
   "nbconvert_exporter": "python",
   "pygments_lexer": "ipython3",
   "version": "3.8.5"
  }
 },
 "nbformat": 4,
 "nbformat_minor": 5
}
