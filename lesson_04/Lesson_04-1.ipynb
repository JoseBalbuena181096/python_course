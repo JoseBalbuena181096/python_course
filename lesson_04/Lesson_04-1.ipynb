{
 "cells": [
  {
   "cell_type": "markdown",
   "metadata": {},
   "source": [
    "<h4>El azar</h4>\n",
    "<p>\n",
    "El azar es una casualidad presente, teóricamente, en diversos fenómenos que se caracterizan por causas complejas, no lineales y sobre todo que no parecen ser predictibles en todos sus detalles. Dependiendo del ámbito al que se aplique, se pueden distinguir cuatro tipos de azar:\n",
    "</p>\n",
    "<img src=\"https://www.horacero.com.mx/wp-content/uploads/2015/01/apagonanalogico_tv.jpg\">"
   ]
  },
  {
   "cell_type": "markdown",
   "metadata": {},
   "source": [
    "<h4>Juegos de azar</h4>\n",
    "<p>\n",
    "Los juegos de azar son juegos en los cuales las posibilidades de ganar o perder no dependen exclusivamente de la habilidad del jugador, sino que interviene también el azar. \n",
    "</p>\n",
    "<img src =\"data:image/jpeg;base64,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\">"
   ]
  },
  {
   "cell_type": "markdown",
   "metadata": {},
   "source": [
    "<h4>Aleatoriedad </h4>\n",
    "<p>\n",
    "La aleatoriedad se asocia a todo proceso cuyo resultado no es previsible más que en razón de la intervención del azar; un ejemplo muy sencillo de un evento aleatorio es el lanzamiento de dados. El resultado de todo suceso aleatorio no puede determinarse en ningún caso antes de que este se produzca. \n",
    "</p>\n",
    "<h4>\n",
    "    Las computadoras son máquinas deterministas, ¿Cómo poder generar números aleatorios con estas? \n",
    "</h4>\n",
    "<p>\n",
    "    Por eso se trabaja en algoritmos que permitan generarlos cumpliendo con diferentes definiciones de aleatoriedad y a la vez ciertas premisas: que no requieran mucha memoria, que el código sea rápido y no demasiado complejo y que los resultados sean reproducibles (por ejemplo en simulaciones). Ejemplo de algoritmos Mersenne, ARC4Random, LCG 64/32, XorShift 32/64 y RanQ. Estos algoritmos son difíciles de implementar cuando somos principiantes.\n",
    "</p>"
   ]
  },
  {
   "cell_type": "code",
   "execution_count": null,
   "metadata": {},
   "outputs": [],
   "source": [
    "#El módulo random para generar números aleatorios "
   ]
  },
  {
   "cell_type": "code",
   "execution_count": null,
   "metadata": {},
   "outputs": [],
   "source": [
    "#generar números reales aleatorios 0.0000 - 0.99999999 "
   ]
  },
  {
   "cell_type": "code",
   "execution_count": null,
   "metadata": {},
   "outputs": [],
   "source": [
    "#generar números reales aleatorios 0.0000 - 9.99999999 "
   ]
  },
  {
   "cell_type": "markdown",
   "metadata": {},
   "source": [
    "<h4>¿Qué es un módulo?</h4>\n",
    "<p>\n",
    "Un módulo es una porción de un programa (código). Un módulo puede realizar una tarea específica dentro de un programa, este módulo puede ser reutilizable. \n",
    "</p>\n",
    "<img src = \"https://media.super-chollos.com/2019/08/10144739/Pack-de-1.000-bloques-LEGO-barato.jpg\" width=\"400\">"
   ]
  },
  {
   "cell_type": "markdown",
   "metadata": {},
   "source": [
    "<h4>Cara o cruz</h4>\n",
    "<p>\n",
    "El cara o cruz es un juego de azar en el que se emplea una moneda. Los participantes tienen que elegir un lado de la moneda y lanzarla. Gana quién acierte qué lado de la moneda caerá cara arriba. En México es sol o águila.   \n",
    "</p>\n",
    "<img src=\"https://encrypted-tbn0.gstatic.com/images?q=tbn:ANd9GcSLzyKQiMbsIMDTShgSKCg78vRdR-j6P4CpmQ&usqp=CAU\">"
   ]
  },
  {
   "cell_type": "code",
   "execution_count": null,
   "metadata": {},
   "outputs": [],
   "source": [
    "#utiliza el módulo random de python 3 para  simular el juego cara o cruz "
   ]
  },
  {
   "cell_type": "markdown",
   "metadata": {},
   "source": [
    "<h4>El azar</h4>\n",
    "<p>\n",
    "El azar es una casualidad presente, teóricamente, en diversos fenómenos que se caracterizan por causas complejas, no lineales y sobre todo que no parecen ser predictibles en todos sus detalles. Dependiendo del ámbito al que se aplique, se pueden distinguir cuatro tipos de azar:\n",
    "</p>\n",
    "<img src=\"https://www.horacero.com.mx/wp-content/uploads/2015/01/apagonanalogico_tv.jpg\" width=\"300\">"
   ]
  },
  {
   "cell_type": "markdown",
   "metadata": {},
   "source": [
    "<h4>Juegos de azar</h4>\n",
    "<p>\n",
    "Los juegos de azar son juegos en los cuales las posibilidades de ganar o perder no dependen exclusivamente de la habilidad del jugador, sino que interviene también el azar. \n",
    "</p>\n",
    "<img src =\"data:image/jpeg;base64,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\">"
   ]
  },
  {
   "cell_type": "markdown",
   "metadata": {},
   "source": [
    "<h4>Aleatoriedad </h4>\n",
    "<p>\n",
    "La aleatoriedad se asocia a todo proceso cuyo resultado no es previsible más que en razón de la intervención del azar; un ejemplo muy sencillo de un evento aleatorio es el lanzamiento de dados. El resultado de todo suceso aleatorio no puede determinarse en ningún caso antes de que este se produzca. \n",
    "</p>\n",
    "<h4>\n",
    "    Las computadoras son máquinas deterministas, ¿Cómo poder generar números aleatorios con estas? \n",
    "</h4>\n",
    "<p>\n",
    "    Por eso se trabaja en algoritmos que permitan generarlos cumpliendo con diferentes definiciones de aleatoriedad y a la vez ciertas premisas: que no requieran mucha memoria, que el código sea rápido y no demasiado complejo y que los resultados sean reproducibles (por ejemplo en simulaciones). Ejemplo de algoritmos Mersenne, ARC4Random, LCG 64/32, XorShift 32/64 y RanQ. Estos algoritmos son difíciles de implementar cuando somos principiantes.\n",
    "</p>"
   ]
  },
  {
   "cell_type": "code",
   "execution_count": 1,
   "metadata": {},
   "outputs": [
    {
     "name": "stdout",
     "output_type": "stream",
     "text": [
      "47\n"
     ]
    }
   ],
   "source": [
    "#El módulo random para generar números aleatorios \n",
    "import random \n",
    "entero_aleatorio = random.randint(0,100)\n",
    "print(entero_aleatorio)"
   ]
  },
  {
   "cell_type": "code",
   "execution_count": 1,
   "metadata": {},
   "outputs": [
    {
     "name": "stdout",
     "output_type": "stream",
     "text": [
      "0.7900962212096473\n"
     ]
    }
   ],
   "source": [
    "#generar números reales aleatorios 0.0000 - 0.99999999 \n",
    "real_aleatorio = random.random()\n",
    "print(real_aleatorio)"
   ]
  },
  {
   "cell_type": "code",
   "execution_count": 51,
   "metadata": {},
   "outputs": [
    {
     "name": "stdout",
     "output_type": "stream",
     "text": [
      "1.4970843335463846\n"
     ]
    }
   ],
   "source": [
    "#generar números reales aleatorios 0.0000 - 9.99999999 \n",
    "real_aleatorio = 10*random.random()\n",
    "print(real_aleatorio)"
   ]
  },
  {
   "cell_type": "markdown",
   "metadata": {},
   "source": [
    "<h4>¿Qué es un módulo?</h4>\n",
    "<p>\n",
    "Un módulo es una porción de un programa (código). Un módulo puede realizar una tarea específica dentro de un programa, este módulo puede ser reutilizable. \n",
    "</p>\n",
    "<img src = \"https://media.super-chollos.com/2019/08/10144739/Pack-de-1.000-bloques-LEGO-barato.jpg\" width = \"400\">"
   ]
  },
  {
   "cell_type": "markdown",
   "metadata": {},
   "source": [
    "<h4>Cara o cruz</h4>\n",
    "<p>\n",
    "El cara o cruz es un juego de azar en el que se emplea una moneda. Los participantes tienen que elegir un lado de la moneda y lanzarla. Gana quién acierte qué lado de la moneda caerá cara arriba. En México es sol o águila.   \n",
    "</p>\n",
    "<img src=\"https://encrypted-tbn0.gstatic.com/images?q=tbn:ANd9GcSLzyKQiMbsIMDTShgSKCg78vRdR-j6P4CpmQ&usqp=CAU\">"
   ]
  },
  {
   "cell_type": "code",
   "execution_count": 52,
   "metadata": {},
   "outputs": [
    {
     "name": "stdout",
     "output_type": "stream",
     "text": [
      "¿Qué lado de la moneda caerá?, Escribe 0 para cara 1 para cruz.\n",
      "0\n",
      "Ha caído: \n",
      "\n",
      "   ††\n",
      " ††††††\n",
      "   ††\n",
      "   ††\n",
      "   ††\n",
      "\n",
      "Perdiste :(\n"
     ]
    }
   ],
   "source": [
    "#utiliza el módulo random de python 3 para  simular el juego cara o cruz \n",
    "cruz = '''\n",
    "   ††\n",
    " ††††††\n",
    "   ††\n",
    "   ††\n",
    "   ††\n",
    "'''\n",
    "cara = '''\n",
    "(͡° ͜ʖ ͡°)\n",
    "'''\n",
    "eleccion = int(input(\"¿Qué lado de la moneda caerá?, Escribe 0 para cara 1 para cruz.\\n\"))\n",
    "caida = random.randint(0,1)\n",
    "print(\"Ha caído: \")\n",
    "if caida == 1:\n",
    "    print(cruz)\n",
    "else:\n",
    "    print(cara)\n",
    "if caida == eleccion:\n",
    "    print(\"Ganaste :)\")\n",
    "else:\n",
    "    print(\"Perdiste :(\")"
   ]
  }
 ],
 "metadata": {
  "kernelspec": {
   "display_name": "Python 3",
   "language": "python",
   "name": "python3"
  },
  "language_info": {
   "codemirror_mode": {
    "name": "ipython",
    "version": 3
   },
   "file_extension": ".py",
   "mimetype": "text/x-python",
   "name": "python",
   "nbconvert_exporter": "python",
   "pygments_lexer": "ipython3",
   "version": "3.8.5"
  }
 },
 "nbformat": 4,
 "nbformat_minor": 4
}
