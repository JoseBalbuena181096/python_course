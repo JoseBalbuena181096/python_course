{
 "cells": [
  {
   "cell_type": "markdown",
   "metadata": {},
   "source": [
    "<h4>Tipos de datos compuestos (lineales).</h4>\n",
    "<p>\n",
    "Python ofrece una variedad de tipos de datos compuestos que a menudo se denominan secuencias. List es uno de los tipos de datos más versátiles y utilizados en Python.\n",
    "</p>\n",
    "<br>\n",
    "<p>\n",
    "Las listas se utilizan para almacenar varios elementos en una sola variable. Estos elementos se encuentran indexados y ordenados dentro de esta variable. \n",
    "</p>\n",
    "<img src = \"https://miro.medium.com/proxy/0*V-mgzRYVwDlufxT0\">"
   ]
  },
  {
   "cell_type": "markdown",
   "metadata": {},
   "source": [
    "<h4>Los hokages de Konoha</h4>\n",
    "<img src = \"https://i.ytimg.com/vi/c_93WqcblTg/maxresdefault.jpg\" width = \"600\">"
   ]
  },
  {
   "cell_type": "code",
   "execution_count": null,
   "metadata": {},
   "outputs": [],
   "source": [
    "#hokages hasta el inicio del anime de naruto "
   ]
  },
  {
   "cell_type": "code",
   "execution_count": null,
   "metadata": {},
   "outputs": [],
   "source": [
    "#imprime al primer hockage"
   ]
  },
  {
   "cell_type": "code",
   "execution_count": null,
   "metadata": {},
   "outputs": [],
   "source": [
    "#imprime al cuarto hockage"
   ]
  },
  {
   "cell_type": "code",
   "execution_count": null,
   "metadata": {},
   "outputs": [],
   "source": [
    "#añade a Tsunade como hokage "
   ]
  },
  {
   "cell_type": "code",
   "execution_count": null,
   "metadata": {},
   "outputs": [],
   "source": [
    "#añade a Kakashi y Naruto como hokages"
   ]
  },
  {
   "cell_type": "code",
   "execution_count": null,
   "metadata": {},
   "outputs": [],
   "source": [
    "#hokages aún vivos y muertos "
   ]
  },
  {
   "cell_type": "code",
   "execution_count": null,
   "metadata": {},
   "outputs": [],
   "source": [
    "#si muere Naruto"
   ]
  },
  {
   "cell_type": "code",
   "execution_count": null,
   "metadata": {},
   "outputs": [],
   "source": [
    "#si muere Tsunade"
   ]
  },
  {
   "cell_type": "markdown",
   "metadata": {},
   "source": [
    "<h4>Tipos de datos compuestos (lineales).</h4>\n",
    "<p>\n",
    "Python ofrece una variedad de tipos de datos compuestos que a menudo se denominan secuencias. List es uno de los tipos de datos más versátiles y utilizados en Python.\n",
    "</p>\n",
    "<br>\n",
    "<p>\n",
    "Las listas se utilizan para almacenar varios elementos en una sola variable. Estos elementos se encuentran indexados y ordenados dentro de esta variable. \n",
    "</p>\n",
    "<img src = \"https://miro.medium.com/proxy/0*V-mgzRYVwDlufxT0\">"
   ]
  },
  {
   "cell_type": "markdown",
   "metadata": {},
   "source": [
    "<h4>Los hokages de Konoha</h4>\n",
    "<img src = \"https://i.ytimg.com/vi/c_93WqcblTg/maxresdefault.jpg\" width = \"600\">"
   ]
  },
  {
   "cell_type": "code",
   "execution_count": 2,
   "metadata": {},
   "outputs": [
    {
     "name": "stdout",
     "output_type": "stream",
     "text": [
      "Hokages hasta el inicio de naruto fueron  ['Hashirama', 'Tobirama', 'Hiruzen', 'Minato']\n"
     ]
    }
   ],
   "source": [
    "#hokages hasta el inicio del anime de naruto \n",
    "hokages = ['Hashirama','Tobirama','Hiruzen','Minato']\n",
    "print(\"Hokages hasta el inicio de naruto fueron \",hokages)"
   ]
  },
  {
   "cell_type": "code",
   "execution_count": 3,
   "metadata": {},
   "outputs": [
    {
     "name": "stdout",
     "output_type": "stream",
     "text": [
      "El primer hokage fue Hashirama\n"
     ]
    }
   ],
   "source": [
    "#imprime al primer hockage\n",
    "print(\"El primer hokage fue \"+hokages[0])"
   ]
  },
  {
   "cell_type": "code",
   "execution_count": 4,
   "metadata": {},
   "outputs": [
    {
     "name": "stdout",
     "output_type": "stream",
     "text": [
      "El cuarto hokage fue Minato\n"
     ]
    }
   ],
   "source": [
    "#imprime al cuarto hockage\n",
    "print(\"El cuarto hokage fue \"+hokages[3])"
   ]
  },
  {
   "cell_type": "code",
   "execution_count": 5,
   "metadata": {},
   "outputs": [
    {
     "name": "stdout",
     "output_type": "stream",
     "text": [
      "['Hashirama', 'Tobirama', 'Hiruzen', 'Minato', 'Tsunade']\n"
     ]
    }
   ],
   "source": [
    "#añade a Tsunade como hokage \n",
    "hokages.append('Tsunade')\n",
    "print(hokages)"
   ]
  },
  {
   "cell_type": "code",
   "execution_count": 6,
   "metadata": {},
   "outputs": [
    {
     "name": "stdout",
     "output_type": "stream",
     "text": [
      "Todos los hokages hasta el momento son  ['Hashirama', 'Tobirama', 'Hiruzen', 'Minato', 'Tsunade', 'Kakashi', 'Naruto']\n"
     ]
    }
   ],
   "source": [
    "#añade a Kakashi y Naruto como hokages\n",
    "hokages.extend(['Kakashi','Naruto'])\n",
    "print(\"Todos los hokages hasta el momento son \",hokages)"
   ]
  },
  {
   "cell_type": "code",
   "execution_count": 7,
   "metadata": {
    "scrolled": true
   },
   "outputs": [
    {
     "name": "stdout",
     "output_type": "stream",
     "text": [
      "Los hokages vivios son  ['Tsunade', 'Kakashi', 'Naruto']\n",
      "Los hokages muertos son  ['Hashirama', 'Tobirama', 'Hiruzen', 'Minato']\n"
     ]
    }
   ],
   "source": [
    "#hokages aún vivos y muertos \n",
    "hokages_muertos = hokages[0:4]\n",
    "hokages_vivos = hokages[4:7]\n",
    "print(\"Los hokages vivios son \",hokages_vivos)\n",
    "print(\"Los hokages muertos son \",hokages_muertos)"
   ]
  },
  {
   "cell_type": "code",
   "execution_count": 8,
   "metadata": {},
   "outputs": [
    {
     "name": "stdout",
     "output_type": "stream",
     "text": [
      "Los hokages vivios son  ['Tsunade', 'Kakashi']\n",
      "Los hokages muertos son  ['Hashirama', 'Tobirama', 'Hiruzen', 'Minato', 'Naruto']\n"
     ]
    }
   ],
   "source": [
    "#si muere Naruto\n",
    "hokages_muertos.append(hokages_vivos.pop())\n",
    "print(\"Los hokages vivios son \",hokages_vivos)\n",
    "print(\"Los hokages muertos son \",hokages_muertos)"
   ]
  },
  {
   "cell_type": "code",
   "execution_count": 9,
   "metadata": {
    "scrolled": true
   },
   "outputs": [
    {
     "name": "stdout",
     "output_type": "stream",
     "text": [
      "['Kakashi']\n"
     ]
    }
   ],
   "source": [
    "#si muere Tsunade\n",
    "hokages_muertos.append(hokages_vivos.pop(0))\n",
    "print(hokages_vivos)"
   ]
  },
  {
   "cell_type": "code",
   "execution_count": 10,
   "metadata": {},
   "outputs": [
    {
     "name": "stdout",
     "output_type": "stream",
     "text": [
      "[['Goku', 'Vegeta', 'Gohan', 'Bulma'], ['Hashirama', 'Tobirama', 'Hiruzen', 'Minato', 'Tsunade', 'Kakashi', 'Naruto']]\n"
     ]
    }
   ],
   "source": [
    "#crear una lista de listas \n",
    "dragon_ball = [\"Goku\",\"Vegeta\",\"Gohan\",\"Bulma\"]\n",
    "personajes = [dragon_ball,hokages]\n",
    "print(personajes)"
   ]
  },
  {
   "cell_type": "code",
   "execution_count": 11,
   "metadata": {},
   "outputs": [
    {
     "name": "stdout",
     "output_type": "stream",
     "text": [
      "Vegeta\n"
     ]
    }
   ],
   "source": [
    "#acceder a Vegeta\n",
    "print(personajes[0][1])"
   ]
  }
 ],
 "metadata": {
  "kernelspec": {
   "display_name": "Python 3",
   "language": "python",
   "name": "python3"
  },
  "language_info": {
   "codemirror_mode": {
    "name": "ipython",
    "version": 3
   },
   "file_extension": ".py",
   "mimetype": "text/x-python",
   "name": "python",
   "nbconvert_exporter": "python",
   "pygments_lexer": "ipython3",
   "version": "3.8.5"
  }
 },
 "nbformat": 4,
 "nbformat_minor": 4
}
