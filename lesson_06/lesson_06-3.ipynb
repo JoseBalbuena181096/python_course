{
 "cells": [
  {
   "cell_type": "code",
   "execution_count": 4,
   "metadata": {},
   "outputs": [
    {
     "name": "stdout",
     "output_type": "stream",
     "text": [
      "['abeja', 'aguila', 'alacran', 'araña', 'avispa', 'ballena', 'bisonte', 'bufalo', 'burro', 'caballo', 'camello', 'canario', 'cangrejo', 'canguro', 'caracol', 'cebra', 'cerdo', 'chango', 'chimpance', 'ciervo', 'cisne', 'cocodrilo', 'elefante', 'escarabajo', 'escorpion', 'foca', 'gallina', 'gallo', 'gato', 'golondrina', 'hipopotamo', 'hormiga', 'jabali', 'jirafa', 'leon', 'loro', 'mosca', 'mosquito', 'oso', 'oveja', 'perdiz', 'perro', 'pinguino', 'pollo', 'saltamontes', 'serpiente', 'tigre', 'topo', 'toro', 'tortuga', 'vaca', 'zorro']\n"
     ]
    }
   ],
   "source": [
    "from ahorcado import animales\n",
    "import random\n",
    "\n",
    "#imprimir la lista de animales \n",
    "print(animales)"
   ]
  },
  {
   "cell_type": "code",
   "execution_count": 8,
   "metadata": {
    "scrolled": true
   },
   "outputs": [
    {
     "name": "stdout",
     "output_type": "stream",
     "text": [
      "caballo\n"
     ]
    }
   ],
   "source": [
    "#selecciona aleatoriamente una palabra de la lista de animales\n",
    "palabra_secreta = random.choice(animales)\n",
    "print(palabra_secreta)"
   ]
  },
  {
   "cell_type": "code",
   "execution_count": 12,
   "metadata": {},
   "outputs": [
    {
     "name": "stdout",
     "output_type": "stream",
     "text": [
      "['_', '_', '_', '_', '_', '_', '_']\n"
     ]
    }
   ],
   "source": [
    "#mostrar los espacios en blaco equivalentes a la longitud de la palabra secreta \n",
    "mostrar = []\n",
    "for letra in palabra_secreta:\n",
    "    mostrar += '_'\n",
    "print(mostrar)"
   ]
  },
  {
   "cell_type": "code",
   "execution_count": 11,
   "metadata": {
    "scrolled": true
   },
   "outputs": [
    {
     "name": "stdout",
     "output_type": "stream",
     "text": [
      "Ingrese una letra \n",
      "a\n",
      "falso\n",
      "verdad\n",
      "falso\n",
      "verdad\n",
      "falso\n",
      "falso\n",
      "falso\n"
     ]
    }
   ],
   "source": [
    "#solicitar una letra al usuario y verificar si se relaciona con la palabra aleatoria\n",
    "letra_usuario = input('Ingrese una letra del nombre del animal a divinar \\n').lower()\n",
    "for letra in palabra_secreta:\n",
    "    if letra_usuario == letra:\n",
    "        print(\"verdad\")\n",
    "    else:\n",
    "        print(\"falso\")"
   ]
  },
  {
   "cell_type": "code",
   "execution_count": 13,
   "metadata": {},
   "outputs": [
    {
     "name": "stdout",
     "output_type": "stream",
     "text": [
      "['_', 'a', '_', 'a', '_', '_', '_']\n"
     ]
    }
   ],
   "source": [
    "#cambiar cada espacio en blanco por la letra que coincida con la letra del usuario  \n",
    "longitud_palabra = len(palabra_secreta)\n",
    "for posicion in range(longitud_palabra):\n",
    "    letra = palabra_secreta[posicion] \n",
    "    if letra_usuario == letra:\n",
    "        mostrar[posicion] = letra\n",
    "print(mostrar)"
   ]
  }
 ],
 "metadata": {
  "kernelspec": {
   "display_name": "Python 3",
   "language": "python",
   "name": "python3"
  },
  "language_info": {
   "codemirror_mode": {
    "name": "ipython",
    "version": 3
   },
   "file_extension": ".py",
   "mimetype": "text/x-python",
   "name": "python",
   "nbconvert_exporter": "python",
   "pygments_lexer": "ipython3",
   "version": "3.8.5"
  }
 },
 "nbformat": 4,
 "nbformat_minor": 4
}
