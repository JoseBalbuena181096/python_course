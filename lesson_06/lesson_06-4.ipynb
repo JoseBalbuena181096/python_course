{
 "cells": [
  {
   "cell_type": "code",
   "execution_count": 2,
   "metadata": {},
   "outputs": [
    {
     "name": "stdout",
     "output_type": "stream",
     "text": [
      "['abeja', 'aguila', 'alacran', 'araña', 'avispa', 'ballena', 'bisonte', 'bufalo', 'burro', 'caballo', 'camello', 'canario', 'cangrejo', 'canguro', 'caracol', 'cebra', 'cerdo', 'chango', 'chimpance', 'ciervo', 'cisne', 'cocodrilo', 'elefante', 'escarabajo', 'escorpion', 'foca', 'gallina', 'gallo', 'gato', 'golondrina', 'hipopotamo', 'hormiga', 'jabali', 'jirafa', 'leon', 'loro', 'mosca', 'mosquito', 'oso', 'oveja', 'perdiz', 'perro', 'pinguino', 'pollo', 'saltamontes', 'serpiente', 'tigre', 'topo', 'toro', 'tortuga', 'vaca', 'zorro']\n"
     ]
    }
   ],
   "source": [
    "from ahorcado import animales\n",
    "import random\n",
    "\n",
    "#imprimir la lista de animales \n",
    "print(animales)"
   ]
  },
  {
   "cell_type": "code",
   "execution_count": 3,
   "metadata": {},
   "outputs": [],
   "source": [
    "palabra_secreta = random.choice(animales)\n",
    "#mostrar los espacios en blaco equivalentes a la longitud de la palabra secreta \n",
    "mostrar = []\n",
    "for letra in palabra_secreta:\n",
    "    mostrar += '_'"
   ]
  },
  {
   "cell_type": "code",
   "execution_count": 4,
   "metadata": {},
   "outputs": [
    {
     "name": "stdout",
     "output_type": "stream",
     "text": [
      "serpiente\n",
      "Ingrese una letra del nombre del animal a divinar \n",
      "s\n",
      "s _ _ _ _ _ _ _ _\n",
      "serpiente\n",
      "Ingrese una letra del nombre del animal a divinar \n",
      "e\n",
      "s e _ _ _ e _ _ e\n",
      "serpiente\n",
      "Ingrese una letra del nombre del animal a divinar \n",
      "r\n",
      "s e r _ _ e _ _ e\n",
      "serpiente\n",
      "Ingrese una letra del nombre del animal a divinar \n",
      "p\n",
      "s e r p _ e _ _ e\n",
      "serpiente\n",
      "Ingrese una letra del nombre del animal a divinar \n",
      "i\n",
      "s e r p i e _ _ e\n",
      "serpiente\n",
      "Ingrese una letra del nombre del animal a divinar \n",
      "n\n",
      "s e r p i e n _ e\n",
      "serpiente\n",
      "Ingrese una letra del nombre del animal a divinar \n",
      "t\n",
      "s e r p i e n t e\n",
      "Ganaste 😎\n"
     ]
    }
   ],
   "source": [
    "fin_juego = False\n",
    "while not fin_juego:\n",
    "    #selecciona aleatoriamente una palabra de la lista de animales\n",
    "    print(palabra_secreta)\n",
    "    #cambiar cada espacio en blanco por la letra que coincida con la letra del usuario  \n",
    "    longitud_palabra = len(palabra_secreta)\n",
    "    letra_usuario = input('Ingrese una letra del nombre del animal a divinar \\n').lower()\n",
    "    for posicion in range(longitud_palabra):\n",
    "        letra = palabra_secreta[posicion] \n",
    "        if letra_usuario == letra:\n",
    "            mostrar[posicion] = letra\n",
    "    print(f\"{' '.join(mostrar)}\")\n",
    "    if not '_' in mostrar:\n",
    "        fin_juego = True\n",
    "        print(\"Ganaste 😎\")"
   ]
  }
 ],
 "metadata": {
  "kernelspec": {
   "display_name": "Python 3",
   "language": "python",
   "name": "python3"
  },
  "language_info": {
   "codemirror_mode": {
    "name": "ipython",
    "version": 3
   },
   "file_extension": ".py",
   "mimetype": "text/x-python",
   "name": "python",
   "nbconvert_exporter": "python",
   "pygments_lexer": "ipython3",
   "version": "3.8.5"
  }
 },
 "nbformat": 4,
 "nbformat_minor": 4
}
