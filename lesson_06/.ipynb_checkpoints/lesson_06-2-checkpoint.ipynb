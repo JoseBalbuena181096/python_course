{
 "cells": [
  {
   "cell_type": "markdown",
   "metadata": {},
   "source": [
    "<h4>Python break and continue</h4>"
   ]
  },
  {
   "cell_type": "code",
   "execution_count": 1,
   "metadata": {},
   "outputs": [
    {
     "name": "stdout",
     "output_type": "stream",
     "text": [
      "s\n",
      "t\n",
      "r\n",
      "Fin ciclo\n"
     ]
    }
   ],
   "source": [
    "#La palabra reservada break se usa para romper  un ciclo  \n",
    "palabra = \"string\"\n",
    "longitud = len(palabra)\n",
    "i = 0\n",
    "while i<longitud:\n",
    "    if palabra[i] == \"i\":\n",
    "        break\n",
    "    print(palabra[i])\n",
    "    i+=1\n",
    "print(\"Fin ciclo\")"
   ]
  },
  {
   "cell_type": "code",
   "execution_count": 2,
   "metadata": {},
   "outputs": [
    {
     "name": "stdout",
     "output_type": "stream",
     "text": [
      "s\n",
      "t\n",
      "r\n",
      "n\n",
      "g\n",
      "Fin ciclo\n"
     ]
    }
   ],
   "source": [
    "#   La palabra continue se utiliza para saltarse a la siguiente iteración de un ciclo \n",
    "palabra = \"string\"\n",
    "\n",
    "for letra in palabra:\n",
    "    if letra == \"i\":\n",
    "        continue\n",
    "    print(letra)\n",
    "print(\"Fin ciclo\")"
   ]
  }
 ],
 "metadata": {
  "kernelspec": {
   "display_name": "Python 3",
   "language": "python",
   "name": "python3"
  },
  "language_info": {
   "codemirror_mode": {
    "name": "ipython",
    "version": 3
   },
   "file_extension": ".py",
   "mimetype": "text/x-python",
   "name": "python",
   "nbconvert_exporter": "python",
   "pygments_lexer": "ipython3",
   "version": "3.8.5"
  }
 },
 "nbformat": 4,
 "nbformat_minor": 4
}
