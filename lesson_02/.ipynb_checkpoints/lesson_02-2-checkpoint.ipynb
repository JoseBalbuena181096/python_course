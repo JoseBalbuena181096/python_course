{
 "cells": [
  {
   "cell_type": "markdown",
   "metadata": {},
   "source": [
    "## Casting de datos\n",
    "\n",
    "Se utilizan para asegurarse que un dato es de un tipo en concreto."
   ]
  },
  {
   "cell_type": "code",
   "execution_count": null,
   "metadata": {},
   "outputs": [],
   "source": [
    "#programa que te pide tu nombre y te dice cuántas letras tiene"
   ]
  },
  {
   "cell_type": "code",
   "execution_count": null,
   "metadata": {},
   "outputs": [],
   "source": [
    "#los tipos de datos"
   ]
  },
  {
   "cell_type": "code",
   "execution_count": null,
   "metadata": {},
   "outputs": [],
   "source": [
    "#programa que suma los dígitos de tu edad de 10 a 99 años"
   ]
  },
  {
   "cell_type": "code",
   "execution_count": null,
   "metadata": {},
   "outputs": [],
   "source": [
    "#conversión de  str a float"
   ]
  },
  {
   "cell_type": "code",
   "execution_count": null,
   "metadata": {},
   "outputs": [],
   "source": [
    "#conversión de  int a float"
   ]
  },
  {
   "cell_type": "markdown",
   "metadata": {},
   "source": [
    "## Casting de datos\n",
    "Se utilizan para asegurarse que un dato es de un tipo en concreto."
   ]
  },
  {
   "cell_type": "code",
   "execution_count": 2,
   "metadata": {},
   "outputs": [
    {
     "name": "stdout",
     "output_type": "stream",
     "text": [
      "¿Cuál es tu nombre? José\n",
      "Tu nombre tiene 4 caracteres\n"
     ]
    }
   ],
   "source": [
    "#programa que te pide tu nombre y te dice cuántas letras tiene\n",
    "numero_caracteres = len(input('¿Cuál es tu nombre? '))\n",
    "numero_caracteres_str = str(numero_caracteres)\n",
    "print('Tu nombre tiene '+ numero_caracteres_str + ' caracteres')"
   ]
  },
  {
   "cell_type": "code",
   "execution_count": 3,
   "metadata": {
    "scrolled": false
   },
   "outputs": [
    {
     "name": "stdout",
     "output_type": "stream",
     "text": [
      "<class 'int'>\n",
      "<class 'str'>\n"
     ]
    }
   ],
   "source": [
    "#los tipos de datos\n",
    "print(type(numero_caracteres))\n",
    "print(type(numero_caracteres_str))"
   ]
  },
  {
   "cell_type": "code",
   "execution_count": 4,
   "metadata": {},
   "outputs": [
    {
     "name": "stdout",
     "output_type": "stream",
     "text": [
      "Escriba su edad valido de 10 a 99 años 24\n",
      "2\n",
      "4\n",
      "La suma de los dígitos de tu edad es 6\n"
     ]
    }
   ],
   "source": [
    "#programa que suma los dígitos de tu edad de 10 a 99 años\n",
    "edad = input(\"Escriba su edad valido de 10 a 99 años \")\n",
    "primer_digito = edad[0]\n",
    "segundo_digito = edad[1]\n",
    "print(primer_digito)\n",
    "print(segundo_digito)\n",
    "suma_digitos = int(primer_digito) + int(segundo_digito)\n",
    "print(\"La suma de los dígitos de tu edad es \"+str(suma_digitos))"
   ]
  },
  {
   "cell_type": "code",
   "execution_count": 5,
   "metadata": {},
   "outputs": [
    {
     "name": "stdout",
     "output_type": "stream",
     "text": [
      "21.254\n",
      "<class 'float'>\n"
     ]
    }
   ],
   "source": [
    "#conversión de  str a float\n",
    "numero = float('21.254')\n",
    "print(numero)\n",
    "print(type(numero))"
   ]
  },
  {
   "cell_type": "code",
   "execution_count": 6,
   "metadata": {},
   "outputs": [
    {
     "name": "stdout",
     "output_type": "stream",
     "text": [
      "20.0\n",
      "<class 'float'>\n"
     ]
    }
   ],
   "source": [
    "#conversión de  int a float\n",
    "numero = float(20)\n",
    "print(numero)\n",
    "print(type(numero))"
   ]
  }
 ],
 "metadata": {
  "kernelspec": {
   "display_name": "Python 3",
   "language": "python",
   "name": "python3"
  },
  "language_info": {
   "codemirror_mode": {
    "name": "ipython",
    "version": 3
   },
   "file_extension": ".py",
   "mimetype": "text/x-python",
   "name": "python",
   "nbconvert_exporter": "python",
   "pygments_lexer": "ipython3",
   "version": "3.8.5"
  }
 },
 "nbformat": 4,
 "nbformat_minor": 4
}
