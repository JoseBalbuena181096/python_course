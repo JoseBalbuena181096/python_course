{
 "cells": [
  {
   "cell_type": "markdown",
   "metadata": {},
   "source": [
    "<h4>Cálculo del índice de masa corporal</h4>\n",
    "<p>Es una razón matemática que asocia la masa y la talla de un individuo.</p>\n",
    "$$IMC =  \\frac{masa(kg)}{estatura^2(m^2)}$$"
   ]
  },
  {
   "cell_type": "code",
   "execution_count": null,
   "metadata": {},
   "outputs": [],
   "source": [
    "#programa para calcular el IMC\n",
    "#Pregunte por el peso y la altura del usuario\n",
    "\n",
    "#cálculo del IMC \n",
    "\n",
    "#redondear a dos decimales    \n",
    "\n",
    "#Imprimir su imc \n"
   ]
  },
  {
   "cell_type": "markdown",
   "metadata": {},
   "source": [
    "<h4>La vida en días, semanas y meses</h4>"
   ]
  },
  {
   "cell_type": "code",
   "execution_count": null,
   "metadata": {},
   "outputs": [],
   "source": [
    "#programa para calcular tu vida en días, semanas y meses\n",
    "#pregunte la edad del usuario en años\n",
    "\n",
    "#convertir años en días, semanas y meses\n",
    "\n",
    "#imprimir el mensaje \n"
   ]
  },
  {
   "cell_type": "markdown",
   "metadata": {},
   "source": [
    "<h4>Salva a la niña</h4>\n",
    "<p>Una niña ha caído de un edificio del que tú conoces su altura, cuánto tiempo tienes para poder atraparla.</p>\n",
    "\n",
    "![image.png](https://www.fisimat.com.mx/wp-content/uploads/2019/03/problema_1_caida_libre.png)\n",
    "<p>Usando las ecuaciones de movimiento rectilíneo uniformemente acelerado calcula su tiempo antes de impactar al suelo</p> \n",
    "$$h = v_{0}t + \\frac{gt^2}{2}$$\n",
    "$$t = \\sqrt{\\frac{2h}{g}}$$"
   ]
  },
  {
   "cell_type": "code",
   "execution_count": null,
   "metadata": {},
   "outputs": [],
   "source": [
    "#programa para calcular el tiempo de caída de la niña\n",
    "#pregunta al usuario la altura del edificio\n",
    "\n",
    "#calculando el tiempo de caída\n",
    "\n",
    "#imprimir tiempo de  caída\n"
   ]
  },
  {
   "cell_type": "markdown",
   "metadata": {},
   "source": [
    "<h4>Cálculo del índice de masa corporal</h4>\n",
    "<p>Es una razón matemática que asocia la masa y la talla de un individuo.</p>\n",
    "$$IMC =  \\frac{masa(kg)}{estatura^2(m^2)}$$"
   ]
  },
  {
   "cell_type": "code",
   "execution_count": 2,
   "metadata": {
    "scrolled": true
   },
   "outputs": [
    {
     "name": "stdout",
     "output_type": "stream",
     "text": [
      "Ingrese su estatura(m) 1.75\n",
      "Ingrese su peso(kg) 78\n",
      "Tu IMC es de 25.47\n"
     ]
    }
   ],
   "source": [
    "#programa para calcular el IMC\n",
    "#Pregunte por el peso y la altura del usuario\n",
    "estatura = float(input(\"Ingrese su estatura(m) \"))\n",
    "peso = int(input(\"Ingrese su peso(kg) \"))\n",
    "#cálculo del IMC \n",
    "IMC = peso/estatura**2\n",
    "#redondear a dos decimales    \n",
    "IMC = round(IMC, 2) \n",
    "#Imprimir su imc \n",
    "print(\"Tu IMC es de \"+str(IMC))"
   ]
  },
  {
   "cell_type": "markdown",
   "metadata": {},
   "source": [
    "<h4>La vida en días, semanas y meses</h4>"
   ]
  },
  {
   "cell_type": "code",
   "execution_count": 3,
   "metadata": {},
   "outputs": [
    {
     "name": "stdout",
     "output_type": "stream",
     "text": [
      "¿Cuál es tu edad? 24\n",
      "Tú has vivido 8760 días, ó 1248 semanas, ó 288 meses.\n"
     ]
    }
   ],
   "source": [
    "#programa para calcular tu vida en días, semanas y meses\n",
    "#pregunte la edad del usuario en años\n",
    "edad = int(input(\"¿Cuál es tu edad? \"))\n",
    "#convertir años en días, semanas y meses\n",
    "dias = edad*365\n",
    "semanas = edad*52\n",
    "meses = edad*12\n",
    "msg = f\"Tú has vivido {dias} días, ó {semanas} semanas, ó {meses} meses.\"\n",
    "#imprimir el mensaje \n",
    "print(msg)"
   ]
  },
  {
   "cell_type": "markdown",
   "metadata": {},
   "source": [
    "<h4>Salva a la niña</h4>\n",
    "<p>Una niña ha caído de un edificio del que tú conoces su altura, cuánto tiempo tienes para poder atraparla.</p>\n",
    "\n",
    "![image.png](https://www.fisimat.com.mx/wp-content/uploads/2019/03/problema_1_caida_libre.png)\n",
    "<p>Usando las ecuaciones de movimiento rectilíneo uniformemente acelerado calcula su tiempo antes de impactar al suelo</p> \n",
    "$$h = v_{0}t + \\frac{gt^2}{2}$$\n",
    "$$t = \\sqrt{\\frac{2h}{g}}$$"
   ]
  },
  {
   "cell_type": "code",
   "execution_count": 4,
   "metadata": {},
   "outputs": [
    {
     "name": "stdout",
     "output_type": "stream",
     "text": [
      "Ingrese la altura (m) del edificio\n",
      "80\n",
      "Tienes  4.04 s para salvar a la niña\n"
     ]
    }
   ],
   "source": [
    "#programa para calcular el tiempo de caída de la niña\n",
    "#pregunta al usuario la altura del edificio\n",
    "h = float(input(\"Ingrese la altura (m) del edificio\\n\"))\n",
    "#calculando el tiempo de caída\n",
    "t = (2*h/9.8)**0.5\n",
    "msg = \"Tienes {: .2f} s para salvar a la niña\".format(t)\n",
    "#imprimir tiempo de  caída\n",
    "print(msg)"
   ]
  }
 ],
 "metadata": {
  "kernelspec": {
   "display_name": "Python 3",
   "language": "python",
   "name": "python3"
  },
  "language_info": {
   "codemirror_mode": {
    "name": "ipython",
    "version": 3
   },
   "file_extension": ".py",
   "mimetype": "text/x-python",
   "name": "python",
   "nbconvert_exporter": "python",
   "pygments_lexer": "ipython3",
   "version": "3.8.5"
  }
 },
 "nbformat": 4,
 "nbformat_minor": 4
}
