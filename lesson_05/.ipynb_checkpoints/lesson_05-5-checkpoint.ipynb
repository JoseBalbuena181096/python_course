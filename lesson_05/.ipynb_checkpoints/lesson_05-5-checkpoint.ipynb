{
 "cells": [
  {
   "cell_type": "markdown",
   "metadata": {},
   "source": [
    "<h4>La mayor y menor edad del grupo.</h4>\n",
    "<p>Un grupo de amigos desea saber cual es la mayor y menor edad  de sus miembros, debes realizar un programa en Python 3 que reciba la edad de los integrantes del grupo separada por espacios en blanco, para después  determinar la mayor y menor edad. </p>\n",
    "<img src =\"https://cflvdg.avoz.es/default/2019/05/22/00121558533662667691819/Foto/j16y9099.jpg\" width=\"400\">"
   ]
  },
  {
   "cell_type": "code",
   "execution_count": null,
   "metadata": {},
   "outputs": [],
   "source": [
    "#preguntar por las edades del grupo separadas por espacios en blancos y convertir a números\n"
   ]
  },
  {
   "cell_type": "code",
   "execution_count": null,
   "metadata": {},
   "outputs": [],
   "source": [
    "#determinar la mayor y menor edad \n"
   ]
  },
  {
   "cell_type": "markdown",
   "metadata": {},
   "source": [
    "<h4>La mayor y menor edad del grupo.</h4>\n",
    "<p>Un grupo de amigos desea saber cual es la mayor y menor edad  de sus miembros, debes realizar un programa en Python 3 que reciba la edad de los integrantes del grupo separada por espacios en blanco, para después  determinar la mayor y menor edad. </p>\n",
    "<img src =\"https://cflvdg.avoz.es/default/2019/05/22/00121558533662667691819/Foto/j16y9099.jpg\" width=\"400\">"
   ]
  },
  {
   "cell_type": "code",
   "execution_count": 1,
   "metadata": {},
   "outputs": [
    {
     "name": "stdout",
     "output_type": "stream",
     "text": [
      "Ingrese las edades de los integrantes separadas por un espacio en blanco:\n",
      "30 29 17 18 25 29 28 19\n",
      "[30, 29, 17, 18, 25, 29, 28, 19]\n"
     ]
    }
   ],
   "source": [
    "#preguntar por las edades del grupo separadas por espacios en blancos y convertir a números\n",
    "edades = input('Ingrese las edades de los integrantes separadas por un espacio en blanco:\\n')\n",
    "edades = edades.split()\n",
    "for n in range(0,len(edades)):\n",
    "    edades[n] = int(edades[n])\n",
    "print(edades)"
   ]
  },
  {
   "cell_type": "code",
   "execution_count": 2,
   "metadata": {},
   "outputs": [
    {
     "name": "stdout",
     "output_type": "stream",
     "text": [
      "La mayor edad es de 30 años y la menor edad es de 17 años.\n"
     ]
    }
   ],
   "source": [
    "#determinar la mayor y menor edad \n",
    "mayor_edad = edades[0]\n",
    "menor_edad = edades[0]\n",
    "for n in range(0,len(edades)):\n",
    "    if edades[n] > mayor_edad:\n",
    "        mayor_edad = edades[n]\n",
    "    elif edades[n] < menor_edad:\n",
    "        menor_edad = edades[n]\n",
    "print(f\"La mayor edad es de {mayor_edad} años y la menor edad es de {menor_edad} años.\")"
   ]
  }
 ],
 "metadata": {
  "kernelspec": {
   "display_name": "Python 3",
   "language": "python",
   "name": "python3"
  },
  "language_info": {
   "codemirror_mode": {
    "name": "ipython",
    "version": 3
   },
   "file_extension": ".py",
   "mimetype": "text/x-python",
   "name": "python",
   "nbconvert_exporter": "python",
   "pygments_lexer": "ipython3",
   "version": "3.8.5"
  }
 },
 "nbformat": 4,
 "nbformat_minor": 4
}
