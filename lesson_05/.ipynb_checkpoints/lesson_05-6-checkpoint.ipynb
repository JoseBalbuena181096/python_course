{
 "cells": [
  {
   "cell_type": "markdown",
   "metadata": {},
   "source": [
    "<h4>Generador de contraseñas.</h4>\n",
    "<p>\n",
    "Los siguientes caracteres pueden usarse para contraseñas para inicio de sesión. Las contraseñas distinguen entre mayúsculas y minúsculas.\n",
    "\n",
    "Letras en mayúsculas: A a Z (26 caracteres)\n",
    "\n",
    "Letras en minúsculas: a a z (26 caracteres)\n",
    "\n",
    "Números: 0 a 9 (10 caracteres)\n",
    "\n",
    "Símbolos:  ! \" · $ % & / ( ) = ? ¿ { } | @ # ~ ; : [ ] \n",
    "</p>"
   ]
  },
  {
   "cell_type": "code",
   "execution_count": null,
   "metadata": {},
   "outputs": [],
   "source": [
    "#importar modulos necesarios \n",
    "\n",
    "#crear una lista con las letras de A a la z \n",
    "\n",
    "#crear una lista con los caracteres numéricos\n",
    "\n",
    "#crea una lista con los símbolos dados \n"
   ]
  },
  {
   "cell_type": "code",
   "execution_count": null,
   "metadata": {},
   "outputs": [],
   "source": [
    "#solicita el número de letras, números y símbolos que tendrá la contraseña\n",
    "\n",
    "#genera la contraseña  solicitada \n",
    "\n",
    "#muestra la contraseña generada\n"
   ]
  },
  {
   "cell_type": "markdown",
   "metadata": {},
   "source": [
    "<h4>Generador de contraseñas.</h4>\n",
    "<p>\n",
    "Los siguientes caracteres pueden usarse para contraseñas para inicio de sesión. Las contraseñas distinguen entre mayúsculas y minúsculas.\n",
    "\n",
    "Letras en mayúsculas: A a Z (26 caracteres)\n",
    "\n",
    "Letras en minúsculas: a a z (26 caracteres)\n",
    "\n",
    "Números: 0 a 9 (10 caracteres)\n",
    "\n",
    "Símbolos:  ! \" · $ % & / ( ) = ? ¿ { } | @ # ~ ; : [ ] \n",
    "</p>"
   ]
  },
  {
   "cell_type": "code",
   "execution_count": 1,
   "metadata": {},
   "outputs": [
    {
     "name": "stdout",
     "output_type": "stream",
     "text": [
      "['A', 'B', 'C', 'D', 'E', 'F', 'G', 'H', 'I', 'J', 'K', 'L', 'M', 'N', 'O', 'P', 'Q', 'R', 'S', 'T', 'U', 'V', 'W', 'X', 'Y', 'Z', 'a', 'b', 'c', 'd', 'e', 'f', 'g', 'h', 'i', 'j', 'k', 'l', 'm', 'n', 'o', 'p', 'q', 'r', 's', 't', 'u', 'v', 'w', 'x', 'y', 'z']\n"
     ]
    }
   ],
   "source": [
    "#importar modulos necesarios \n",
    "import random\n",
    "#crear una lista con las letras de A a la z \n",
    "letras = []\n",
    "\n",
    "inicio = ord('A')\n",
    "fin = ord('Z')\n",
    "for letra in range(inicio,fin+1):\n",
    "    letras.append(chr(letra))\n",
    "    \n",
    "inicio = ord('a')\n",
    "fin = ord('z')\n",
    "for letra in range(inicio,fin+1):\n",
    "    letras.append(chr(letra))\n",
    "print(letras)"
   ]
  },
  {
   "cell_type": "code",
   "execution_count": 2,
   "metadata": {},
   "outputs": [
    {
     "name": "stdout",
     "output_type": "stream",
     "text": [
      "['0', '1', '2', '3', '4', '5', '6', '7', '8', '9']\n"
     ]
    }
   ],
   "source": [
    "#crear una lista con los caracteres numéricos  \n",
    "numeros = []\n",
    "inicio = ord('0')\n",
    "fin = ord('9')\n",
    "for n in range(inicio,fin+1):\n",
    "    numeros.append(chr(n))\n",
    "print(numeros)"
   ]
  },
  {
   "cell_type": "code",
   "execution_count": 3,
   "metadata": {},
   "outputs": [
    {
     "name": "stdout",
     "output_type": "stream",
     "text": [
      "['!', '\"', '·', '$', '%', '&', '/', '(', ')', '=', '?', '¿', '{', '}', '|', '@', '#', '~', ';', ':', '[', ']']\n"
     ]
    }
   ],
   "source": [
    "#crea una lista con los símbolos dados \n",
    "simbolos = '! \" · $ % & / ( ) = ? ¿ { } | @ # ~ ; : [ ] ' \n",
    "simbolos = simbolos.split()\n",
    "print(simbolos)"
   ]
  },
  {
   "cell_type": "code",
   "execution_count": 4,
   "metadata": {},
   "outputs": [
    {
     "name": "stdout",
     "output_type": "stream",
     "text": [
      "Generador de contraseñas seguras 👮\n",
      "¿Cuántas letras quiere en su contraseña?\n",
      "6\n",
      "¿Cuántas números quiere en su contraseña?\n",
      "3\n",
      "¿Cuántos números quieres en tu contraseña?\n",
      "2\n",
      "La contraseña generada es: c¿mb8!a3Z3U\n"
     ]
    }
   ],
   "source": [
    "#solicita el número de letras, números y símbolos que tendrá la contraseña  \n",
    "print(\"Generador de contraseñas seguras 👮\")\n",
    "num_letras = int(input(\"¿Cuántas letras quiere en su contraseña?\\n\"))\n",
    "num_numeros = int(input(\"¿Cuántas números quiere en su contraseña?\\n\"))\n",
    "num_simbolos = int(input(\"¿Cuántos números quieres en tu contraseña?\\n\"))\n",
    "#genera la contraseña  solicitada \n",
    "contraseña_lista = []\n",
    "for letra in range(0,num_letras):\n",
    "    contraseña_lista.append(random.choice(letras))\n",
    "for numero in range(0,num_numeros):\n",
    "    contraseña_lista.append(random.choice(numeros))\n",
    "for simbolo in range(0,num_simbolos):\n",
    "    contraseña_lista.append(random.choice(simbolos))\n",
    "random.shuffle(contraseña_lista)\n",
    "contraseña = \"\"\n",
    "for letra in contraseña_lista:\n",
    "    contraseña += letra\n",
    "#muestra la contraseña generada\n",
    "print('La contraseña generada es: '+contraseña)"
   ]
  }
 ],
 "metadata": {
  "kernelspec": {
   "display_name": "Python 3",
   "language": "python",
   "name": "python3"
  },
  "language_info": {
   "codemirror_mode": {
    "name": "ipython",
    "version": 3
   },
   "file_extension": ".py",
   "mimetype": "text/x-python",
   "name": "python",
   "nbconvert_exporter": "python",
   "pygments_lexer": "ipython3",
   "version": "3.8.5"
  }
 },
 "nbformat": 4,
 "nbformat_minor": 4
}
