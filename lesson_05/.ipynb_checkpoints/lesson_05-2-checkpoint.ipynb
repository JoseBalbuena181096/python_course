{
 "cells": [
  {
   "cell_type": "markdown",
   "metadata": {},
   "source": [
    "<h4>Promedio de la clase </h4>\n",
    "<p>Realizar un programa en Python 3  para poder  obtener el promedio grupal de los estudiantes de una clase de historia ,  las calificaciones de cada estudiante deben ser ingresadas por el teclado separadas por coma. </p>\n",
    "<img src = \"https://www.ecestaticos.com/image/clipping/339c6f1a356f2158e80e06f671cc52c5/por-que-el-mejor-estudiante-de-la-clase-nunca-se-hace-rico.jpg\" width=\"400\" >"
   ]
  },
  {
   "cell_type": "code",
   "execution_count": null,
   "metadata": {},
   "outputs": [],
   "source": [
    "#solicitar calificaciones separadas por comas "
   ]
  },
  {
   "cell_type": "code",
   "execution_count": null,
   "metadata": {},
   "outputs": [],
   "source": [
    "#convertir strings de  calificaciones a números y sumar calificaciones"
   ]
  },
  {
   "cell_type": "code",
   "execution_count": null,
   "metadata": {},
   "outputs": [],
   "source": [
    "#obtener el número de alumnos y cálculo del promedio grupal"
   ]
  },
  {
   "cell_type": "markdown",
   "metadata": {},
   "source": [
    "<h4>Promedio de la clase </h4>\n",
    "<p>Realizar un programa en Python 3  para poder  obtener el promedio grupal de los estudiantes de una clase de historia ,  las calificaciones de cada estudiante deben ser ingresadas por el teclado separadas por coma. </p>\n",
    "<img src = \"https://www.ecestaticos.com/image/clipping/339c6f1a356f2158e80e06f671cc52c5/por-que-el-mejor-estudiante-de-la-clase-nunca-se-hace-rico.jpg\" width=\"400\" >"
   ]
  },
  {
   "cell_type": "code",
   "execution_count": 1,
   "metadata": {
    "scrolled": true
   },
   "outputs": [
    {
     "name": "stdout",
     "output_type": "stream",
     "text": [
      "Ingresa las calificaciones de tus alumnos separadas por comas \n",
      "10,9,9,10,8\n"
     ]
    }
   ],
   "source": [
    "#solicitar calificaciones separadas por comas \n",
    "calificaciones = input('Ingresa las calificaciones de tus alumnos separadas por comas \\n')\n",
    "calificaciones = calificaciones.split(',')"
   ]
  },
  {
   "cell_type": "code",
   "execution_count": 2,
   "metadata": {},
   "outputs": [
    {
     "name": "stdout",
     "output_type": "stream",
     "text": [
      "[10, 9, 9, 10, 8]\n"
     ]
    }
   ],
   "source": [
    "#convertir strings de  calificaciones a números y sumar calificaciones\n",
    "calificaciones_numeros = []\n",
    "suma_calificaciones = 0\n",
    "for calificacion in calificaciones:\n",
    "    numero_calificacion = int(calificacion)\n",
    "    suma_calificaciones += numero_calificacion\n",
    "    calificaciones_numeros.append(int(calificacion))\n",
    "print(calificaciones_numeros)"
   ]
  },
  {
   "cell_type": "code",
   "execution_count": 3,
   "metadata": {},
   "outputs": [
    {
     "name": "stdout",
     "output_type": "stream",
     "text": [
      "El promedio del grupo de la clase de historia es 9.20\n"
     ]
    }
   ],
   "source": [
    "#obtener el número de alumnos y cálculo del promedio grupal\n",
    "numero_alumnos = len(calificaciones_numeros)\n",
    "promedio_grupo = suma_calificaciones/numero_alumnos\n",
    "print(\"El promedio del grupo de la clase de historia es {:.2f}\".format(promedio_grupo))"
   ]
  }
 ],
 "metadata": {
  "kernelspec": {
   "display_name": "Python 3",
   "language": "python",
   "name": "python3"
  },
  "language_info": {
   "codemirror_mode": {
    "name": "ipython",
    "version": 3
   },
   "file_extension": ".py",
   "mimetype": "text/x-python",
   "name": "python",
   "nbconvert_exporter": "python",
   "pygments_lexer": "ipython3",
   "version": "3.8.5"
  }
 },
 "nbformat": 4,
 "nbformat_minor": 4
}
