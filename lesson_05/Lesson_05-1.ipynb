{
 "cells": [
  {
   "cell_type": "markdown",
   "metadata": {},
   "source": [
    "<h4>Estructuras de control (Repetitivas)</h4>\n",
    "<p>\n",
    " Las estructuras repetitivas o iterativa permiten repetir una acción o varias acciones, esta repetición puede realizarse un número prefijado de veces o depender de la evaluación de una expresión lógica. \n",
    "</p>\n",
    "<br>\n",
    "<h4>La estructura for - Python 3</h4>\n",
    "<p>\n",
    "Esta estructura permite repetir la ejecución de una acción o grupo de acciones un número determinado de veces. Es muy útil para iterar.\n",
    "</p>\n",
    "<img src =\"https://www.ecured.cu/images/thumb/4/4c/Diagite.jpg/260px-Diagite.jpg\">"
   ]
  },
  {
   "cell_type": "code",
   "execution_count": null,
   "metadata": {},
   "outputs": [],
   "source": [
    "#ejemplo del ciclo for "
   ]
  },
  {
   "cell_type": "code",
   "execution_count": null,
   "metadata": {},
   "outputs": [],
   "source": [
    "#ejemplo de uso de un ciclo for "
   ]
  },
  {
   "cell_type": "markdown",
   "metadata": {},
   "source": [
    "<h4>Estructuras de control (Repetitivas)</h4>\n",
    "<p>\n",
    " Las estructuras repetitivas o iterativa permiten repetir una acción o varias acciones, esta repetición puede realizarse un número prefijado de veces o depender de la evaluación de una expresión lógica. \n",
    "</p>\n",
    "<br>\n",
    "<h4>La estructura for - Python 3</h4>\n",
    "<p>\n",
    "Esta estructura permite repetir la ejecución de una acción o grupo de acciones un número determinado de veces. Es muy útil para iterar.\n",
    "</p>\n",
    "<img src =\"https://www.ecured.cu/images/thumb/4/4c/Diagite.jpg/260px-Diagite.jpg\">"
   ]
  },
  {
   "cell_type": "code",
   "execution_count": 1,
   "metadata": {
    "scrolled": false
   },
   "outputs": [
    {
     "name": "stdout",
     "output_type": "stream",
     "text": [
      "Samsung\n",
      "LG\n",
      "Apple\n",
      "Huawei\n",
      "Xiaomi\n"
     ]
    }
   ],
   "source": [
    "#ejemplo del ciclo for \n",
    "marcas_celulares = [\"Samsung\",\"LG\",\"Apple\",\"Huawei\",\"Xiaomi\"]\n",
    "for marca in marcas_celulares:\n",
    "    print(marca)"
   ]
  },
  {
   "cell_type": "code",
   "execution_count": 2,
   "metadata": {
    "scrolled": false
   },
   "outputs": [
    {
     "name": "stdout",
     "output_type": "stream",
     "text": [
      "Samsung es una marca de celulares.\n",
      "LG es una marca de celulares.\n",
      "Apple es una marca de celulares.\n",
      "Huawei es una marca de celulares.\n",
      "Xiaomi es una marca de celulares.\n",
      "['Samsung', 'LG', 'Apple', 'Huawei', 'Xiaomi']\n"
     ]
    }
   ],
   "source": [
    "#ejemplo de uso de un ciclo for \n",
    "for marca in marcas_celulares:\n",
    "    print(marca+\" es una marca de celulares.\")\n",
    "print(marcas_celulares)"
   ]
  }
 ],
 "metadata": {
  "kernelspec": {
   "display_name": "Python 3",
   "language": "python",
   "name": "python3"
  },
  "language_info": {
   "codemirror_mode": {
    "name": "ipython",
    "version": 3
   },
   "file_extension": ".py",
   "mimetype": "text/x-python",
   "name": "python",
   "nbconvert_exporter": "python",
   "pygments_lexer": "ipython3",
   "version": "3.8.5"
  }
 },
 "nbformat": 4,
 "nbformat_minor": 4
}
