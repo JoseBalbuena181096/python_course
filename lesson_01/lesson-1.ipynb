{
 "cells": [
  {
   "cell_type": "markdown",
   "metadata": {},
   "source": [
    "# Tu primer programa en Python 3."
   ]
  },
  {
   "cell_type": "code",
   "execution_count": null,
   "metadata": {},
   "outputs": [],
   "source": [
    "#saluda al mundo desde Python"
   ]
  },
  {
   "cell_type": "markdown",
   "metadata": {},
   "source": [
    "\n",
    "### La función print()\n",
    "La función **print()**, es utilizada para mostrar un string por consola:  \n",
    ">- Entrada: Recibe un string.\n",
    ">- Salida:  Imprime en consola el string recibido.\n",
    "### ¿Qué es un string?\n",
    "\n",
    "Es una secuencia o cadena de caracteres. En Python es un tipo de datos.\n",
    "\n",
    "![image.png](https://paginadec.webcindario.com/old/imagenes/cadena01.jpg)\n",
    "\n",
    "### ¿Cómo escribir un string en Python?\n",
    "\n",
    "Existen dos formas de escribir un string en Python: \n",
    ">- Con comillas dobles **\"Esto es un string\"**.\n",
    ">- Con comillas sencillas **'Esto también es un string'**."
   ]
  },
  {
   "cell_type": "markdown",
   "metadata": {},
   "source": [
    "### ¿Entonces cómo es un string con comillas?"
   ]
  },
  {
   "cell_type": "code",
   "execution_count": null,
   "metadata": {},
   "outputs": [],
   "source": [
    "#imprime la cadena \"Hola mundo!\""
   ]
  },
  {
   "cell_type": "code",
   "execution_count": null,
   "metadata": {},
   "outputs": [],
   "source": [
    "#imprime la cadena 'Hola mundo!'"
   ]
  },
  {
   "cell_type": "code",
   "execution_count": null,
   "metadata": {},
   "outputs": [],
   "source": [
    "#imprime tres hola en diferentes líneas"
   ]
  },
  {
   "cell_type": "markdown",
   "metadata": {},
   "source": [
    "### Un carácter especial el salto de línea **__\\n__**. "
   ]
  },
  {
   "cell_type": "code",
   "execution_count": null,
   "metadata": {},
   "outputs": [],
   "source": [
    "#imprima tres hola en diferentes líneas con una línea de código "
   ]
  },
  {
   "cell_type": "markdown",
   "metadata": {},
   "source": [
    "### Concatenar la  unión de dos o más strings"
   ]
  },
  {
   "cell_type": "code",
   "execution_count": null,
   "metadata": {},
   "outputs": [],
   "source": [
    "#imprime un saludo más un nombre "
   ]
  },
  {
   "cell_type": "code",
   "execution_count": null,
   "metadata": {},
   "outputs": [],
   "source": [
    "#imprime un saludo más un nombre separados por un espacio "
   ]
  },
  {
   "cell_type": "markdown",
   "metadata": {},
   "source": [
    "# ¿Cómo recibir datos para nuestro programa?\n",
    "\n",
    "Para poder recibir datos para nuestro programa, debemos tener una **entrada de datos**. Una entrada muy común es **el teclado** de nuestra computadora.  \n",
    "Para poder hacer esto hacemos uso de la función **input()**, la cual permite obtener texto escrito por teclado."
   ]
  },
  {
   "cell_type": "code",
   "execution_count": null,
   "metadata": {},
   "outputs": [],
   "source": [
    "#usa la función input() "
   ]
  },
  {
   "cell_type": "code",
   "execution_count": null,
   "metadata": {},
   "outputs": [],
   "source": [
    "#utilice la función input () para pedir un nombre"
   ]
  },
  {
   "cell_type": "code",
   "execution_count": null,
   "metadata": {},
   "outputs": [],
   "source": [
    "#imprime un saludo más un nombre separados por un espacio "
   ]
  },
  {
   "cell_type": "markdown",
   "metadata": {},
   "source": [
    "### ¿Qué es una variable? \n",
    "Son espacios reservados en memoria (RAM) para poder almacenar datos.\n",
    "\n",
    "![image.png](https://www.aprendeprogramando.es/images/blockly/variables-y-tipos-de-datos/variables-en-programacion.png)"
   ]
  },
  {
   "cell_type": "code",
   "execution_count": null,
   "metadata": {},
   "outputs": [],
   "source": [
    "# guarda el nombre y apellido de un usuario en variables y muestra su nombre completo en la consola"
   ]
  },
  {
   "cell_type": "code",
   "execution_count": null,
   "metadata": {},
   "outputs": [],
   "source": [
    "#intercambio de variable, nombre por apellido"
   ]
  },
  {
   "cell_type": "code",
   "execution_count": null,
   "metadata": {},
   "outputs": [],
   "source": [
    "#Herramienta para crear el nombre de tu equipo de fútbol  \n",
    "\n",
    "#pregunta por el plural de su animal favorito \n",
    "\n",
    "#pregunta por su el nombre de su ciudad  \n",
    "\n",
    "#imprime el nombre de su equipo \n"
   ]
  },
  {
   "cell_type": "markdown",
   "metadata": {},
   "source": [
    "# Tú primer programa en Python 3."
   ]
  },
  {
   "cell_type": "code",
   "execution_count": 1,
   "metadata": {
    "scrolled": false
   },
   "outputs": [
    {
     "name": "stdout",
     "output_type": "stream",
     "text": [
      "Hello Word!\n"
     ]
    }
   ],
   "source": [
    "#saluda al mundo desde Python\n",
    "print(\"Hola mundo !\")"
   ]
  },
  {
   "cell_type": "markdown",
   "metadata": {},
   "source": [
    "\n",
    "### La función print()\n",
    "La función **print()**, es utilizada para mostrar un string por consola:  \n",
    ">- Entrada: Recibe un string.\n",
    ">- Salida:  Imprime en consola el string recibido.\n",
    "### ¿Qué es un string?\n",
    "\n",
    "Es una secuencia o cadena de caracteres. En Python es un tipo de datos.\n",
    "\n",
    "![image.png](https://paginadec.webcindario.com/old/imagenes/cadena01.jpg)\n",
    "\n",
    "### ¿Cómo escribir un string en Python?\n",
    "\n",
    "Existen dos formas de escribir un string en Python: \n",
    ">- Con comillas dobles **\"Esto es un string\"**.\n",
    ">- Con comillas sencillas **'Esto también es un string'**."
   ]
  },
  {
   "cell_type": "markdown",
   "metadata": {},
   "source": [
    "### ¿Entonces cómo es un string con comillas?"
   ]
  },
  {
   "cell_type": "code",
   "execution_count": 1,
   "metadata": {},
   "outputs": [
    {
     "name": "stdout",
     "output_type": "stream",
     "text": [
      "\"Hola mundo!\"\n"
     ]
    }
   ],
   "source": [
    "#imprime la cadena \"Hola mundo!\"\n",
    "print('\"Hola mundo!\"')"
   ]
  },
  {
   "cell_type": "code",
   "execution_count": 2,
   "metadata": {
    "scrolled": true
   },
   "outputs": [
    {
     "name": "stdout",
     "output_type": "stream",
     "text": [
      "'Hola mundo!'\n"
     ]
    }
   ],
   "source": [
    "# prints the string 'Hello World!'\n",
    "print(\"'Hola mundo!'\")"
   ]
  },
  {
   "cell_type": "code",
   "execution_count": 3,
   "metadata": {},
   "outputs": [
    {
     "name": "stdout",
     "output_type": "stream",
     "text": [
      "Hola\n",
      "Hola\n",
      "Hola\n"
     ]
    }
   ],
   "source": [
    "#imprime tres hola en diferentes líneas\n",
    "print(\"Hola\")\n",
    "print(\"Hola\")\n",
    "print(\"Hola\")"
   ]
  },
  {
   "cell_type": "markdown",
   "metadata": {},
   "source": [
    "### Un carácter especial el salto de línea **__\\n__**. "
   ]
  },
  {
   "cell_type": "code",
   "execution_count": 4,
   "metadata": {
    "scrolled": false
   },
   "outputs": [
    {
     "name": "stdout",
     "output_type": "stream",
     "text": [
      "Hola\n",
      "Hola\n",
      "Hola\n"
     ]
    }
   ],
   "source": [
    "#imprima tres hola en diferentes líneas con una línea de código \n",
    "print(\"Hola\\nHola\\nHola\")"
   ]
  },
  {
   "cell_type": "markdown",
   "metadata": {},
   "source": [
    "### Concatenar la  unión de dos o más strings"
   ]
  },
  {
   "cell_type": "code",
   "execution_count": 5,
   "metadata": {},
   "outputs": [
    {
     "name": "stdout",
     "output_type": "stream",
     "text": [
      "HolaJosé\n"
     ]
    }
   ],
   "source": [
    "# imprime un saludo más un nombre \n",
    "print('Hola'+'José')"
   ]
  },
  {
   "cell_type": "code",
   "execution_count": 6,
   "metadata": {},
   "outputs": [
    {
     "name": "stdout",
     "output_type": "stream",
     "text": [
      "Hola José\n"
     ]
    }
   ],
   "source": [
    "#imprime un saludo más un nombre separados por un espacio \n",
    "print('Hola'+' '+'José')"
   ]
  },
  {
   "cell_type": "markdown",
   "metadata": {},
   "source": [
    "# ¿Cómo recibir datos para nuestro programa?\n",
    "\n",
    "Para poder recibir datos para nuestro programa, debemos tener una **entrada de datos**. Una entrada muy común es **el teclado** de nuestra computadora.  \n",
    "Para poder hacer esto hacemos uso de la función **input()**, la cual permite obtener texto escrito por teclado.\n"
   ]
  },
  {
   "cell_type": "code",
   "execution_count": 7,
   "metadata": {},
   "outputs": [
    {
     "name": "stdout",
     "output_type": "stream",
     "text": [
      "José\n"
     ]
    },
    {
     "data": {
      "text/plain": [
       "'José'"
      ]
     },
     "execution_count": 7,
     "metadata": {},
     "output_type": "execute_result"
    }
   ],
   "source": [
    "#usa la función input() \n",
    "input()"
   ]
  },
  {
   "cell_type": "markdown",
   "metadata": {},
   "source": [
    "La función input() permite mostrar un string sin salto de línea antes de esperar la entrada por el teclado."
   ]
  },
  {
   "cell_type": "code",
   "execution_count": 8,
   "metadata": {
    "scrolled": true
   },
   "outputs": [
    {
     "name": "stdout",
     "output_type": "stream",
     "text": [
      "¿Cuál es tu nombre? José\n"
     ]
    },
    {
     "data": {
      "text/plain": [
       "'José'"
      ]
     },
     "execution_count": 8,
     "metadata": {},
     "output_type": "execute_result"
    }
   ],
   "source": [
    "#utilice la función input () para pedir un nombre\n",
    "input(\"¿Cuál es tu nombre? \")"
   ]
  },
  {
   "cell_type": "code",
   "execution_count": 9,
   "metadata": {},
   "outputs": [
    {
     "name": "stdout",
     "output_type": "stream",
     "text": [
      "¿Cuál es tu nombre? José\n",
      "Hola José\n"
     ]
    }
   ],
   "source": [
    "#imprime un saludo más un nombre dado por consola \n",
    "print('Hola '+input('¿Cuál es tu nombre? '))"
   ]
  },
  {
   "cell_type": "markdown",
   "metadata": {},
   "source": [
    "### ¿Qué es una variable? \n",
    "Son espacios reservados en memoria (RAM) para poder almacenar datos.\n",
    "\n",
    "![image.png](https://www.aprendeprogramando.es/images/blockly/variables-y-tipos-de-datos/variables-en-programacion.png)"
   ]
  },
  {
   "cell_type": "code",
   "execution_count": 10,
   "metadata": {
    "scrolled": true
   },
   "outputs": [
    {
     "name": "stdout",
     "output_type": "stream",
     "text": [
      "¿Cuál es tu nombre? José\n",
      "¿Cuál es tu apellido? Balbuena\n",
      "Tu nombre completo es José Balbuena\n"
     ]
    }
   ],
   "source": [
    "# guarda el nombre y apellido de un usuario en variables y muestra su nombre completo en la consola\n",
    "nombreUsuario = input(\"¿Cuál es tu nombre? \")\n",
    "ApellidoUsuario = input(\"¿Cuál es tu apellido? \")\n",
    "nombre_completo = nombreUsuario +\" \"+ ApellidoUsuario\n",
    "print(\"Tu nombre completo es \"+nombre_completo)"
   ]
  },
  {
   "cell_type": "code",
   "execution_count": 11,
   "metadata": {},
   "outputs": [
    {
     "name": "stdout",
     "output_type": "stream",
     "text": [
      "Tu nombre Balbuena\n",
      "Tu apellido José\n"
     ]
    }
   ],
   "source": [
    "#intercambio de variable, nombre por apellido\n",
    "auxiliar = nombreUsuario\n",
    "nombreUsuario = ApellidoUsuario \n",
    "ApellidoUsuario  = auxiliar\n",
    "print(\"Tu nombre \"+nombreUsuario)\n",
    "print(\"Tu apellido \"+ApellidoUsuario)"
   ]
  },
  {
   "cell_type": "code",
   "execution_count": 12,
   "metadata": {},
   "outputs": [
    {
     "name": "stdout",
     "output_type": "stream",
     "text": [
      "Hola, Este es creador de nombres de equipos de fútbol. \n",
      "Escribe el plural de tu animal favorito: \n",
      "Tigres\n",
      "Escribe el nombre de tu ciudad: \n",
      "Atlixco\n",
      "El nombre de tu equipo es Los Tigres de Atlixco\n"
     ]
    }
   ],
   "source": [
    "#Herramienta para crear el nombre de tu equipo de fútbol  \n",
    "print(\"Hola, Este es creador de nombres de equipos de fútbol. \")\n",
    "#pregunta por el plural de su animal favorito \n",
    "plural_animal = input(\"Escribe el plural de tu animal favorito: \\n\")\n",
    "#pregunta por su el nombre de su ciudad  \n",
    "ciudad = input(\"Escribe el nombre de tu ciudad: \\n\")\n",
    "#imprime el nombre de su equipo \n",
    "print(\"El nombre de tu equipo es Los \"+plural_animal+\" de \"+ciudad)"
   ]
  }
 ],
 "metadata": {
  "kernelspec": {
   "display_name": "Python 3",
   "language": "python",
   "name": "python3"
  },
  "language_info": {
   "codemirror_mode": {
    "name": "ipython",
    "version": 3
   },
   "file_extension": ".py",
   "mimetype": "text/x-python",
   "name": "python",
   "nbconvert_exporter": "python",
   "pygments_lexer": "ipython3",
   "version": "3.8.5"
  }
 },
 "nbformat": 4,
 "nbformat_minor": 4
}
