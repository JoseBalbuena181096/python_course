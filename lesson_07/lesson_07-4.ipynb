{
 "cells": [
  {
   "cell_type": "markdown",
   "id": "german-electronics",
   "metadata": {},
   "source": [
    "<h4>Creación de la función encriptación</h4>"
   ]
  },
  {
   "cell_type": "code",
   "execution_count": null,
   "id": "athletic-shower",
   "metadata": {},
   "outputs": [],
   "source": [
    "#encriptar mayúsculas  \n",
    "\n",
    "\n"
   ]
  },
  {
   "cell_type": "code",
   "execution_count": null,
   "id": "psychological-identity",
   "metadata": {},
   "outputs": [],
   "source": [
    "#encriptar minúsculas\n",
    "\n",
    "\n"
   ]
  },
  {
   "cell_type": "code",
   "execution_count": null,
   "id": "intimate-fellow",
   "metadata": {},
   "outputs": [],
   "source": [
    "#encriptar números \n",
    "\n",
    "\n"
   ]
  },
  {
   "cell_type": "code",
   "execution_count": null,
   "id": "reflected-asset",
   "metadata": {},
   "outputs": [],
   "source": [
    "#creación de la función encriptar \n",
    "\n",
    "\n"
   ]
  },
  {
   "cell_type": "code",
   "execution_count": null,
   "id": "handled-worship",
   "metadata": {},
   "outputs": [],
   "source": [
    "#test de la la función encriptar\n",
    "\n",
    "\n"
   ]
  },
  {
   "cell_type": "markdown",
   "id": "religious-duration",
   "metadata": {},
   "source": [
    "<h4>Creación de la función encriptación</h4>"
   ]
  },
  {
   "cell_type": "code",
   "execution_count": 1,
   "id": "inside-teddy",
   "metadata": {},
   "outputs": [
    {
     "name": "stdout",
     "output_type": "stream",
     "text": [
      "K R O D P X Q G R "
     ]
    }
   ],
   "source": [
    "#encriptar mayúsculas  \n",
    "desplazamiento = 3\n",
    "data = 'HOLAMUNDO'\n",
    "\n",
    "for char in data:\n",
    "    if char.isupper():\n",
    "        ascii_ = ord(char)\n",
    "        index = ascii_ - ord('A')\n",
    "        index_desplazado = (index + desplazamiento) % 26\n",
    "        nuevo_ascii =  ord('A') + index_desplazado\n",
    "        nuevo_char = chr(nuevo_ascii)\n",
    "        print(nuevo_char,end =' ')"
   ]
  },
  {
   "cell_type": "code",
   "execution_count": 2,
   "id": "lesbian-fellow",
   "metadata": {},
   "outputs": [
    {
     "name": "stdout",
     "output_type": "stream",
     "text": [
      "k r o d p x q g r "
     ]
    }
   ],
   "source": [
    "#encriptar minúsculas \n",
    "desplazamiento = 3\n",
    "data = 'holamundo'\n",
    "for char in data:\n",
    "    if char.islower():\n",
    "        ascii_ = ord(char)\n",
    "        index = ascii_ - ord('a')\n",
    "        index_desplazado = (index + desplazamiento) % 26\n",
    "        nuevo_ascii = ord('a') + index_desplazado\n",
    "        nuevo_char = chr(nuevo_ascii)\n",
    "        print(nuevo_char,end = ' ')"
   ]
  },
  {
   "cell_type": "code",
   "execution_count": 3,
   "id": "structural-theology",
   "metadata": {},
   "outputs": [
    {
     "name": "stdout",
     "output_type": "stream",
     "text": [
      "3456"
     ]
    }
   ],
   "source": [
    "#encriptar números \n",
    "desplazamiento = 3\n",
    "data = '0123'\n",
    "for char in data:\n",
    "    if char.isdigit():\n",
    "        ascii_ = ord(char)\n",
    "        index = ascii_ - ord('0')\n",
    "        index_desplazado = (index + desplazamiento) % 10\n",
    "        nuevo_ascii = ord('0') + index_desplazado\n",
    "        nuevo_char = chr(nuevo_ascii)\n",
    "        print(nuevo_char, end = '')"
   ]
  },
  {
   "cell_type": "code",
   "execution_count": 1,
   "id": "headed-press",
   "metadata": {},
   "outputs": [],
   "source": [
    "#creación de la función encriptar \n",
    "def encriptacion_cesar(data,desplazamiento):\n",
    "    data_encriptada = ''\n",
    "    for char in data:\n",
    "        if char.isupper():\n",
    "            ascii_ = ord(char)\n",
    "            index = ascii_ - ord('A')\n",
    "            index_desplazado = (index + desplazamiento) % 26\n",
    "            nuevo_ascii =  ord('A') + index_desplazado\n",
    "            nuevo_char = chr(nuevo_ascii)\n",
    "            data_encriptada += nuevo_char\n",
    "        elif char.islower():\n",
    "            ascii_ = ord(char)\n",
    "            index = ascii_ - ord('a')\n",
    "            index_desplazado = (index + desplazamiento) % 26\n",
    "            nuevo_ascii = ord('a') + index_desplazado\n",
    "            nuevo_char = chr(nuevo_ascii)\n",
    "            data_encriptada += nuevo_char\n",
    "        elif char.isdigit():\n",
    "            ascii_ = ord(char)\n",
    "            index = ascii_ - ord('0')\n",
    "            index_desplazado = (index + desplazamiento) % 10\n",
    "            nuevo_ascii = ord('0') + index_desplazado\n",
    "            nuevo_char = chr(nuevo_ascii)\n",
    "            data_encriptada += nuevo_char\n",
    "        else:\n",
    "            data_encriptada += char\n",
    "    print(data_encriptada)"
   ]
  },
  {
   "cell_type": "code",
   "execution_count": 2,
   "id": "nasty-apparatus",
   "metadata": {},
   "outputs": [
    {
     "name": "stdout",
     "output_type": "stream",
     "text": [
      "Krod 456\n"
     ]
    }
   ],
   "source": [
    "#test de la la función encriptar\n",
    "encriptacion_cesar(\"Hola 123\",3)"
   ]
  }
 ],
 "metadata": {
  "kernelspec": {
   "display_name": "Python 3",
   "language": "python",
   "name": "python3"
  },
  "language_info": {
   "codemirror_mode": {
    "name": "ipython",
    "version": 3
   },
   "file_extension": ".py",
   "mimetype": "text/x-python",
   "name": "python",
   "nbconvert_exporter": "python",
   "pygments_lexer": "ipython3",
   "version": "3.8.5"
  }
 },
 "nbformat": 4,
 "nbformat_minor": 5
}
