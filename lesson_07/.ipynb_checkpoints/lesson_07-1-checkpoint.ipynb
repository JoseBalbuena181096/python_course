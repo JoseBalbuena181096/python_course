{
 "cells": [
  {
   "cell_type": "markdown",
   "metadata": {},
   "source": [
    "<h4>¿Qué es una función?</h4>\n",
    "<p>\n",
    "Es una parte de un programa (subrutina) con un nombre, que puede ser invocada (llamada a ejecución) desde otras partes tantas veces como se desee. Un bloque de código que puede ser ejecutado como una unidad funcional</p>\n",
    "<img src=\"http://upload.wikimedia.org/wikipedia/commons/2/2c/Funciones.png\" >"
   ]
  },
  {
   "cell_type": "markdown",
   "metadata": {},
   "source": [
    "<h4>¿Cómo crear y usar funciones en Python 3? </h4>\n",
    "<br>\n",
    "<h4>Definición de una función (creación)</h4>\n",
    "<p>Lo primero que debes hacer es crear la definición de la función que empleamos. Para hacerlo debemos emplear la palabra reservada def</p>\n",
    "<p><b>def</b> nombre_funcion():</p>\n",
    "<p>\"\"\"subrutina ó bloque de código\"\"\"</p>"
   ]
  },
  {
   "cell_type": "code",
   "execution_count": null,
   "metadata": {},
   "outputs": [],
   "source": [
    "#ejemplo de definición de una función\n"
   ]
  },
  {
   "cell_type": "markdown",
   "metadata": {},
   "source": [
    "<h4>Llamar a una función (uso)</h4>\n",
    "<p>\n",
    "Una vez se ha definido la función esta se puede ejecutar llamándola a través del nombre de la función y paréntesis ().\n",
    "</p>\n",
    "<p>nombre_funcion()</p>"
   ]
  },
  {
   "cell_type": "code",
   "execution_count": null,
   "metadata": {},
   "outputs": [],
   "source": [
    "#ejemplo de llamado a una función  \n"
   ]
  },
  {
   "cell_type": "markdown",
   "metadata": {},
   "source": [
    "<h4>Parámetros y argumentos </h4>\n",
    "\n",
    "<h5>Parámetros</h5>\n",
    "<p>\n",
    "Los parámetros se usan para mandar valores a las funciones. Una función trabajará con los parámetros para realizar las acciones. Por decirlo de otra manera, los parámetros son los valores de entrada que recibe una función.\n",
    "</p>\n",
    "<p>\n",
    "Cuando se realiza la definición el dato que recibe nuestra función se conoce como parámetro \n",
    "</p>\n",
    "<p>\n",
    "def nombre_funcion(parámetro):\n",
    "\n",
    "\"\"\"subrutina ó bloque de código\"\"\"\n",
    "</p>"
   ]
  },
  {
   "cell_type": "code",
   "execution_count": null,
   "metadata": {},
   "outputs": [],
   "source": [
    "#definir una función que salude con nombre\n"
   ]
  },
  {
   "cell_type": "markdown",
   "metadata": {},
   "source": [
    "<h5>Argumentos</h5>\n",
    "<p>Los argumentos son los valores que son enviados a la función una vez se ha llamado. </p>\n",
    "<p>nombre_funcion(argumento)</p>"
   ]
  },
  {
   "cell_type": "code",
   "execution_count": null,
   "metadata": {},
   "outputs": [],
   "source": [
    "#pasar argumento \n"
   ]
  },
  {
   "cell_type": "markdown",
   "metadata": {},
   "source": [
    "<h4>Pasar argumentos por posición y palabra clave </h4>"
   ]
  },
  {
   "cell_type": "code",
   "execution_count": null,
   "metadata": {},
   "outputs": [],
   "source": [
    "#definir una función que salude con nombre y ciudad\n"
   ]
  },
  {
   "cell_type": "code",
   "execution_count": null,
   "metadata": {},
   "outputs": [],
   "source": [
    "#paso por posición\n"
   ]
  },
  {
   "cell_type": "code",
   "execution_count": null,
   "metadata": {},
   "outputs": [],
   "source": [
    "#paso por palabra clave\n"
   ]
  },
  {
   "cell_type": "markdown",
   "metadata": {},
   "source": [
    "<h4>Paso por valor y referencia</h4>\n",
    "<h5>Paso por valor</h5>\n",
    "<p>Se crea una copia local de la variable dentro de la función. Los tipos de datos primitivos como enteros, flotantes, cadenas y lógicos se pasan por valor.</p>"
   ]
  },
  {
   "cell_type": "code",
   "execution_count": null,
   "metadata": {},
   "outputs": [],
   "source": [
    "#paso por valor \n"
   ]
  },
  {
   "cell_type": "markdown",
   "metadata": {},
   "source": [
    "<h5>Paso por referencia</h5>\n",
    "<p>Se maneja directamente la variable, los cambios realizados dentro de la función le afectarán también fuera.Los tipos compuestos se pasan por referencia como las listas.</p>"
   ]
  },
  {
   "cell_type": "code",
   "execution_count": null,
   "metadata": {},
   "outputs": [],
   "source": [
    "#paso por referencia\n"
   ]
  },
  {
   "cell_type": "markdown",
   "metadata": {},
   "source": [
    "<h4>¿Qué es una función?</h4>\n",
    "<p>\n",
    "Es una parte de un programa (subrutina) con un nombre, que puede ser invocada (llamada a ejecución) desde otras partes tantas veces como se desee. Un bloque de código que puede ser ejecutado como una unidad funcional</p>\n",
    "<img src=\"http://upload.wikimedia.org/wikipedia/commons/2/2c/Funciones.png\" >"
   ]
  },
  {
   "cell_type": "markdown",
   "metadata": {},
   "source": [
    "<h4>¿Cómo crear y usar funciones en Python 3? </h4>\n",
    "<br>\n",
    "<h4>Definición de una función (creación)</h4>\n",
    "<p>Lo primero que debes hacer es crear la definición de la función que empleamos. Para hacerlo debemos emplear la palabra reservada def</p>\n",
    "<p><b>def</b> nombre_funcion():</p>\n",
    "<p>\"\"\"subrutina ó bloque de código\"\"\"</p>"
   ]
  },
  {
   "cell_type": "code",
   "execution_count": 2,
   "metadata": {},
   "outputs": [],
   "source": [
    "#ejemplo de definición de una función\n",
    "def saludar():\n",
    "    #subrutina ó bloque de código\n",
    "    print(\"Hola mundo!\")"
   ]
  },
  {
   "cell_type": "markdown",
   "metadata": {},
   "source": [
    "<h4>Llamar a una función (uso)</h4>\n",
    "<p>\n",
    "Una vez se ha definido la función esta se puede ejecutar llamándola a través del nombre de la función y paréntesis ().\n",
    "</p>\n",
    "<p>nombre_funcion()</p>"
   ]
  },
  {
   "cell_type": "code",
   "execution_count": 3,
   "metadata": {},
   "outputs": [
    {
     "name": "stdout",
     "output_type": "stream",
     "text": [
      "Hola mundo!\n"
     ]
    }
   ],
   "source": [
    "#ejemplo de llamado a una función  \n",
    "saludar()"
   ]
  },
  {
   "cell_type": "markdown",
   "metadata": {},
   "source": [
    "<h4>Parámetros y argumentos </h4>\n",
    "\n",
    "<h5>Parámetros</h5>\n",
    "<p>\n",
    "Los parámetros se usan para mandar valores a las funciones. Una función trabajará con los parámetros para realizar las acciones. Por decirlo de otra manera, los parámetros son los valores de entrada que recibe una función.\n",
    "</p>\n",
    "<p>\n",
    "Cuando se realiza la definición el dato que recibe nuestra función se conoce como parámetro \n",
    "</p>\n",
    "<p>\n",
    "def nombre_funcion(parámetro):\n",
    "\n",
    "\"\"\"subrutina ó bloque de código\"\"\"\n",
    "</p>"
   ]
  },
  {
   "cell_type": "code",
   "execution_count": 1,
   "metadata": {},
   "outputs": [],
   "source": [
    "#definir una función que salude con nombre\n",
    "def saludar(nombre):\n",
    "    print(f'Hola {nombre}')"
   ]
  },
  {
   "cell_type": "markdown",
   "metadata": {},
   "source": [
    "<h5>Argumentos</h5>\n",
    "<p>Los argumentos son los valores que son enviados a la función una vez se ha llamado. </p>\n",
    "<p>nombre_funcion(argumento)</p>"
   ]
  },
  {
   "cell_type": "code",
   "execution_count": 3,
   "metadata": {
    "scrolled": true
   },
   "outputs": [
    {
     "name": "stdout",
     "output_type": "stream",
     "text": [
      "Hola Jose\n"
     ]
    }
   ],
   "source": [
    "#pasar argumento \n",
    "saludar(\"Jose\")"
   ]
  },
  {
   "cell_type": "markdown",
   "metadata": {},
   "source": [
    "<h4>Pasar argumentos por posición y palabra clave </h4>"
   ]
  },
  {
   "cell_type": "code",
   "execution_count": 4,
   "metadata": {},
   "outputs": [],
   "source": [
    "#definir una función que salude con nombre y ciudad\n",
    "def saludar(nombre,ciudad):\n",
    "    print(f'Hola {nombre} de {ciudad}')"
   ]
  },
  {
   "cell_type": "code",
   "execution_count": 5,
   "metadata": {
    "scrolled": true
   },
   "outputs": [
    {
     "name": "stdout",
     "output_type": "stream",
     "text": [
      "Hola Jose de Atlixco\n"
     ]
    }
   ],
   "source": [
    "#paso por posición\n",
    "saludar(\"Jose\",\"Atlixco\")"
   ]
  },
  {
   "cell_type": "code",
   "execution_count": 6,
   "metadata": {},
   "outputs": [
    {
     "name": "stdout",
     "output_type": "stream",
     "text": [
      "Hola Jose de Atlixco\n"
     ]
    }
   ],
   "source": [
    "#paso por palabra clave\n",
    "saludar(ciudad = \"Atlixco\",nombre=\"Jose\")"
   ]
  },
  {
   "cell_type": "markdown",
   "metadata": {},
   "source": [
    "<h4>Paso por valor y referencia</h4>\n",
    "<h5>Paso por valor</h5>\n",
    "<p>Se crea una copia local de la variable dentro de la función. Los tipos de datos primitivos como enteros, flotantes, cadenas y lógicos se pasan por valor.</p>"
   ]
  },
  {
   "cell_type": "code",
   "execution_count": 1,
   "metadata": {},
   "outputs": [
    {
     "name": "stdout",
     "output_type": "stream",
     "text": [
      "6\n",
      "5\n"
     ]
    }
   ],
   "source": [
    "#paso por valor \n",
    "def incremento(numero):\n",
    "    numero += 1\n",
    "    print(numero)\n",
    "\n",
    "numero = 5\n",
    "incremento(numero)\n",
    "print(numero)"
   ]
  },
  {
   "cell_type": "markdown",
   "metadata": {},
   "source": [
    "<h5>Paso por referencia</h5>\n",
    "<p>Se maneja directamente la variable, los cambios realizados dentro de la función le afectarán también fuera.Los tipos compuestos se pasan por referencia como las listas.</p>"
   ]
  },
  {
   "cell_type": "code",
   "execution_count": 8,
   "metadata": {},
   "outputs": [
    {
     "name": "stdout",
     "output_type": "stream",
     "text": [
      "[2, 4, 6, 8]\n",
      "[2, 4, 6, 8]\n"
     ]
    }
   ],
   "source": [
    "#paso por referencia\n",
    "def incremento(lista_numeros):\n",
    "    n = len(lista_numeros)\n",
    "    for i in range(0,n):\n",
    "        lista_numeros[i] += 1 \n",
    "    print(lista_numeros)\n",
    "    \n",
    "numeros = [1,3,5,7]\n",
    "incremento(numeros)\n",
    "print(numeros)"
   ]
  }
 ],
 "metadata": {
  "kernelspec": {
   "display_name": "Python 3",
   "language": "python",
   "name": "python3"
  },
  "language_info": {
   "codemirror_mode": {
    "name": "ipython",
    "version": 3
   },
   "file_extension": ".py",
   "mimetype": "text/x-python",
   "name": "python",
   "nbconvert_exporter": "python",
   "pygments_lexer": "ipython3",
   "version": "3.8.5"
  }
 },
 "nbformat": 4,
 "nbformat_minor": 4
}
