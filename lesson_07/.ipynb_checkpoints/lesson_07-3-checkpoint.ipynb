{
 "cells": [
  {
   "cell_type": "markdown",
   "id": "japanese-columbia",
   "metadata": {},
   "source": [
    "<h4>El Cifrado Cesar</h4>\n",
    "<p>En criptografía, el cifrado César, también conocido como cifrado por desplazamiento, código de César o desplazamiento de César, es una de las técnicas de cifrado más simples y más usadas. Es un tipo de cifrado por sustitución en el que una letra en el texto original es reemplazada por otra letra que se encuentra un número fijo de posiciones más adelante en el alfabeto.</p>\n",
    "<center>\n",
    "<img src=\"https://upload.wikimedia.org/wikipedia/commons/thumb/2/2b/Caesar3.svg/1920px-Caesar3.svg.png\" width =\"300\">\n",
    "</center>\n",
    "<p>\n",
    "Ejemplo – encriptemos el texto \"hola mundo\" usando un desplazamiento a la derecha de 3 el resuldado es \"krod pxqgr\".\n",
    "</p>\n",
    "<p>La codificación también se puede representar usando aritmética modular, transformando las letras en números, de acuerdo al esquema A = 0, B = 1,..., Z = 25.La codificación de la letra x con un desplazamiento n puede ser descrita matemáticamente como</p>"
   ]
  },
  {
   "cell_type": "markdown",
   "id": "blind-finding",
   "metadata": {},
   "source": [
    "<center>\n",
    "$E_{n}(x) = x+n \\quad mod\\quad 26$ \n",
    "</center>"
   ]
  },
  {
   "cell_type": "markdown",
   "id": "viral-neighborhood",
   "metadata": {},
   "source": [
    "<p>\n",
    "La decodificación se hace de manera similar:\n",
    "</p>\n",
    "<center>\n",
    "$D_{n}(x) = x-n \\quad mod\\quad 26$ \n",
    "</center>"
   ]
  },
  {
   "cell_type": "markdown",
   "id": "smoking-grocery",
   "metadata": {},
   "source": [
    "<h4>El código ASCII</h4>\n",
    "<img src=\"https://conceptodefinicion.de/wp-content/uploads/2014/04/codigo-ascii1-yw.jpg\">"
   ]
  },
  {
   "cell_type": "code",
   "execution_count": null,
   "id": "younger-influence",
   "metadata": {},
   "outputs": [],
   "source": [
    "# De la A a Z\n"
   ]
  },
  {
   "cell_type": "code",
   "execution_count": null,
   "id": "removable-brass",
   "metadata": {},
   "outputs": [],
   "source": [
    "# De la a hasta z \n"
   ]
  },
  {
   "cell_type": "code",
   "execution_count": null,
   "id": "acting-equity",
   "metadata": {},
   "outputs": [],
   "source": [
    "# De la 0 hasta 9\n"
   ]
  },
  {
   "cell_type": "markdown",
   "id": "divided-locator",
   "metadata": {},
   "source": [
    "<h4>El Cifrado Cesar</h4>\n",
    "<p>En criptografía, el cifrado César, también conocido como cifrado por desplazamiento, código de César o desplazamiento de César, es una de las técnicas de cifrado más simples y más usadas. Es un tipo de cifrado por sustitución en el que una letra en el texto original es reemplazada por otra letra que se encuentra un número fijo de posiciones más adelante en el alfabeto.</p>\n",
    "<center>\n",
    "<img src=\"https://upload.wikimedia.org/wikipedia/commons/thumb/2/2b/Caesar3.svg/1920px-Caesar3.svg.png\" width =\"300\">\n",
    "</center>\n",
    "<p>\n",
    "Ejemplo – encriptemos el texto \"hola mundo\" usando un desplazamiento a la derecha de 3 el resuldado es \"krod pxqgr\".\n",
    "</p>\n",
    "<p>La codificación también se puede representar usando aritmética modular, transformando las letras en números, de acuerdo al esquema A = 0, B = 1,..., Z = 25.La codificación de la letra x con un desplazamiento n puede ser descrita matemáticamente como</p>"
   ]
  },
  {
   "cell_type": "markdown",
   "id": "heard-jacket",
   "metadata": {},
   "source": [
    "<center>\n",
    "$E_{n}(x) = x+n \\quad mod\\quad 26$ \n",
    "</center>"
   ]
  },
  {
   "cell_type": "markdown",
   "id": "hawaiian-booth",
   "metadata": {},
   "source": [
    "<p>\n",
    "La decodificación se hace de manera similar:\n",
    "</p>\n",
    "<center>\n",
    "$D_{n}(x) = x-n \\quad mod\\quad 26$ \n",
    "</center>"
   ]
  },
  {
   "cell_type": "markdown",
   "id": "hollywood-authorization",
   "metadata": {},
   "source": [
    "<h4>El código ASCII</h4>\n",
    "<img src=\"https://conceptodefinicion.de/wp-content/uploads/2014/04/codigo-ascii1-yw.jpg\">"
   ]
  },
  {
   "cell_type": "code",
   "execution_count": 12,
   "id": "chronic-editor",
   "metadata": {},
   "outputs": [
    {
     "name": "stdout",
     "output_type": "stream",
     "text": [
      "Z = 90\n",
      "A = 65\n",
      "Z-A = 25\n",
      "A,B,C,D,E,F,G,H,I,J,K,L,M,N,O,P,Q,R,S,T,U,V,W,X,Y,Z,"
     ]
    }
   ],
   "source": [
    "# De la A a Z\n",
    "A = ord(\"A\")\n",
    "Z = ord(\"Z\")\n",
    "print(f\"Z = {Z}\")\n",
    "print(f\"A = {A}\")\n",
    "print(f\"Z-A = {Z-A}\")\n",
    "for n in range(A,Z+1):\n",
    "    print(chr(n),end = \",\")"
   ]
  },
  {
   "cell_type": "code",
   "execution_count": 11,
   "id": "competent-samuel",
   "metadata": {},
   "outputs": [
    {
     "name": "stdout",
     "output_type": "stream",
     "text": [
      "z = 122\n",
      "a = 97\n",
      "z-a = 25\n",
      "a,b,c,d,e,f,g,h,i,j,k,l,m,n,o,p,q,r,s,t,u,v,w,x,y,z,"
     ]
    }
   ],
   "source": [
    "# De la a hasta z \n",
    "a = ord(\"a\")\n",
    "z = ord(\"z\")\n",
    "print(f\"z = {z}\")\n",
    "print(f\"a = {a}\")\n",
    "print(f\"z-a = {z-a}\")\n",
    "for n in range(a,z+1):\n",
    "    print(chr(n),end = \",\")"
   ]
  },
  {
   "cell_type": "code",
   "execution_count": 10,
   "id": "electrical-receipt",
   "metadata": {},
   "outputs": [
    {
     "name": "stdout",
     "output_type": "stream",
     "text": [
      "0 = 48\n",
      "9 = 57\n",
      "0,1,2,3,4,5,6,7,8,9,"
     ]
    }
   ],
   "source": [
    "# De la 0 hasta 9\n",
    "cero = ord(\"0\")\n",
    "nueve = ord(\"9\")\n",
    "print(f\"0 = {cero}\")\n",
    "print(f\"9 = {nueve}\")\n",
    "for n in range(cero,nueve+1):\n",
    "    print(chr(n),end = \",\")"
   ]
  }
 ],
 "metadata": {
  "kernelspec": {
   "display_name": "Python 3",
   "language": "python",
   "name": "python3"
  },
  "language_info": {
   "codemirror_mode": {
    "name": "ipython",
    "version": 3
   },
   "file_extension": ".py",
   "mimetype": "text/x-python",
   "name": "python",
   "nbconvert_exporter": "python",
   "pygments_lexer": "ipython3",
   "version": "3.8.5"
  }
 },
 "nbformat": 4,
 "nbformat_minor": 5
}
