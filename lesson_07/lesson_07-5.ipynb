{
 "cells": [
  {
   "cell_type": "markdown",
   "id": "tender-nothing",
   "metadata": {},
   "source": [
    "<h4>Creación de la función desencriptación </h4>"
   ]
  },
  {
   "cell_type": "code",
   "execution_count": null,
   "id": "sunrise-coffee",
   "metadata": {},
   "outputs": [],
   "source": [
    "#desencriptar mayúsculas  \n",
    "\n",
    "\n"
   ]
  },
  {
   "cell_type": "code",
   "execution_count": null,
   "id": "detected-cycle",
   "metadata": {},
   "outputs": [],
   "source": [
    "#desencriptar minúsculas\n",
    "\n",
    "\n"
   ]
  },
  {
   "cell_type": "code",
   "execution_count": null,
   "id": "broken-masters",
   "metadata": {},
   "outputs": [],
   "source": [
    "#desencriptar números \n",
    "\n",
    "\n"
   ]
  },
  {
   "cell_type": "code",
   "execution_count": null,
   "id": "settled-copying",
   "metadata": {},
   "outputs": [],
   "source": [
    "#creación de la función desencriptar \n",
    "\n",
    "\n"
   ]
  },
  {
   "cell_type": "code",
   "execution_count": null,
   "id": "short-butter",
   "metadata": {},
   "outputs": [],
   "source": [
    "#test de la la función desencriptar \n",
    "\n",
    "\n"
   ]
  },
  {
   "cell_type": "code",
   "execution_count": 1,
   "id": "governing-tsunami",
   "metadata": {},
   "outputs": [
    {
     "name": "stdout",
     "output_type": "stream",
     "text": [
      "H O L A M U N D O "
     ]
    }
   ],
   "source": [
    "#desencriptar mayúsculas  \n",
    "desplazamiento = 3\n",
    "data = 'KRODPXQGR'\n",
    "\n",
    "for char in data:\n",
    "    if char.isupper():\n",
    "        ascii_ = ord(char)\n",
    "        index = ascii_ - ord('A')\n",
    "        index_desplazado = (index - desplazamiento) % 26\n",
    "        nuevo_ascii =  ord('A') + index_desplazado\n",
    "        nuevo_char = chr(nuevo_ascii)\n",
    "        print(nuevo_char,end =' ')"
   ]
  },
  {
   "cell_type": "code",
   "execution_count": 2,
   "id": "provincial-insulation",
   "metadata": {},
   "outputs": [
    {
     "name": "stdout",
     "output_type": "stream",
     "text": [
      "h o l a m u n d o "
     ]
    }
   ],
   "source": [
    "#desencriptar  minúsculas \n",
    "desplazamiento = 3\n",
    "data = 'krodpxqgr'\n",
    "for char in data:\n",
    "    if char.islower():\n",
    "        ascii_ = ord(char)\n",
    "        index = ascii_ - ord('a')\n",
    "        index_desplazado = (index - desplazamiento) % 26\n",
    "        nuevo_ascii = ord('a') + index_desplazado\n",
    "        nuevo_char = chr(nuevo_ascii)\n",
    "        print(nuevo_char,end = ' ')"
   ]
  },
  {
   "cell_type": "code",
   "execution_count": 3,
   "id": "ignored-emphasis",
   "metadata": {},
   "outputs": [
    {
     "name": "stdout",
     "output_type": "stream",
     "text": [
      "0123"
     ]
    }
   ],
   "source": [
    "#desencriptar  números \n",
    "desplazamiento = 3\n",
    "data = '3456'\n",
    "for char in data:\n",
    "    if char.isdigit():\n",
    "        ascii_ = ord(char)\n",
    "        index = ascii_ - ord('0')\n",
    "        index_desplazado = (index - desplazamiento) % 10\n",
    "        nuevo_ascii = ord('0') + index_desplazado\n",
    "        nuevo_char = chr(nuevo_ascii)\n",
    "        print(nuevo_char, end = '')"
   ]
  },
  {
   "cell_type": "code",
   "execution_count": 1,
   "id": "forty-reviewer",
   "metadata": {},
   "outputs": [],
   "source": [
    "#creación de la función desencriptar  \n",
    "def desencriptacion_cesar(data,desplazamiento):\n",
    "    data_desencriptada = ''\n",
    "    for char in data:\n",
    "        if char.isupper():\n",
    "            ascii_ = ord(char)\n",
    "            index = ascii_ - ord('A')\n",
    "            index_desplazado = (index - desplazamiento) % 26\n",
    "            nuevo_ascii =  ord('A') + index_desplazado\n",
    "            nuevo_char = chr(nuevo_ascii)\n",
    "            data_desencriptada += nuevo_char\n",
    "        elif char.islower():\n",
    "            ascii_ = ord(char)\n",
    "            index = ascii_ - ord('a')\n",
    "            index_desplazado = (index - desplazamiento) % 26\n",
    "            nuevo_ascii = ord('a') + index_desplazado\n",
    "            nuevo_char = chr(nuevo_ascii)\n",
    "            data_desencriptada += nuevo_char\n",
    "        elif char.isdigit():\n",
    "            ascii_ = ord(char)\n",
    "            index = ascii_ - ord('0')\n",
    "            index_desplazado = (index - desplazamiento) % 10\n",
    "            nuevo_ascii = ord('0') + index_desplazado\n",
    "            nuevo_char = chr(nuevo_ascii)\n",
    "            data_desencriptada += nuevo_char\n",
    "        else:\n",
    "            data_desencriptada += char\n",
    "    print(data_desencriptada)"
   ]
  },
  {
   "cell_type": "code",
   "execution_count": 2,
   "id": "white-spouse",
   "metadata": {},
   "outputs": [
    {
     "name": "stdout",
     "output_type": "stream",
     "text": [
      "Hola 123\n"
     ]
    }
   ],
   "source": [
    "#test de la la función desencriptar\n",
    "desencriptacion_cesar(\"Krod 456\",3)"
   ]
  }
 ],
 "metadata": {
  "kernelspec": {
   "display_name": "Python 3",
   "language": "python",
   "name": "python3"
  },
  "language_info": {
   "codemirror_mode": {
    "name": "ipython",
    "version": 3
   },
   "file_extension": ".py",
   "mimetype": "text/x-python",
   "name": "python",
   "nbconvert_exporter": "python",
   "pygments_lexer": "ipython3",
   "version": "3.8.5"
  }
 },
 "nbformat": 4,
 "nbformat_minor": 5
}
